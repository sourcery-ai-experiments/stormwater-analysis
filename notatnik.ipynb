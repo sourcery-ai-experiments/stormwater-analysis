{
 "cells": [
  {
   "cell_type": "code",
   "execution_count": 1,
   "id": "54ee4a7b-ef3e-439e-8975-01070fe5fe69",
   "metadata": {
    "tags": []
   },
   "outputs": [],
   "source": [
    "import numpy as np\n",
    "import pandas as pd\n",
    "import pyswmm as ps\n",
    "import swmmio as sw\n",
    "\n",
    "from stormwater_analysis.data.feature_engineering import feature_engineering\n",
    "from stormwater_analysis.inp_manage.inp import SwmmModel\n",
    "from stormwater_analysis.inp_manage.test_inp import TEST_FILE\n",
    "\n",
    "import pprint\n",
    "pd.set_option('display.max_columns', None)\n",
    "# Ustawienie maksymalnej ilości wyświetlanych wierszy\n",
    "pd.set_option('display.max_rows', None)\n"
   ]
  },
  {
   "cell_type": "code",
   "execution_count": 2,
   "id": "38d354c7-bf9c-4a07-8b61-1088bc531702",
   "metadata": {
    "tags": []
   },
   "outputs": [
    {
     "name": "stdout",
     "output_type": "stream",
     "text": [
      "1/1 [==============================] - 0s 430ms/step\n"
     ]
    }
   ],
   "source": [
    "model = sw.Model(TEST_FILE, include_rpt=True)\n",
    "\n",
    "with ps.Simulation(model.inp.path) as sim:\n",
    "    for _ in sim:\n",
    "        pass\n",
    "\n",
    "conduits_data, nodes_data, subcatchments_data = feature_engineering(model)\n",
    "swmm_model = SwmmModel(model, conduits_data, nodes_data, subcatchments_data)"
   ]
  },
  {
   "cell_type": "code",
   "execution_count": 3,
   "id": "ded7410f",
   "metadata": {},
   "outputs": [
    {
     "name": "stdout",
     "output_type": "stream",
     "text": [
      "     InletNode OutletNode  Length  Roughness  MaxFlow  Geom1     Type   MaxQ  MaxDay  MaxHr  MaxV  MaxQPerc  MaxDPerc  InletNodeInvert  OutletNodeInvert  UpstreamInvert  DownstreamInvert  SlopeFtPerFt  Tag  Filling  ValMaxFill  ValMaxV  ValMinV  ValMaxSlope  ValMinSlope  InletMaxDepth  OutletMaxDepth  SlopePerMile  InletGroundCover  OutletGroundCover  ValDepth  ValCoverage\n",
      "Name                                                                                                                                                                                                                                                                                                                                                                                   \n",
      "C3          J2         J3      50       0.01        0    0.9  CONDUIT  1.019       0  00:27  1.82      1.02      0.91           146.61            146.52          146.61            146.52      0.001800   #P    0.819           0        1        1            1            1           2.71            2.40         1.800             143.9             144.12         1            1\n",
      "C2          J1         J2     400       0.01        0    1.0  CONDUIT  0.712       0  00:35  1.10      1.05      0.89           146.80            146.61          146.80            146.61      0.000475  NaN    0.890           0        1        1            1            0           2.50            2.71         0.475             144.3             143.90         1            1\n",
      "C1          J0         J1     400       0.01        0    1.0  CONDUIT  0.752       0  00:30  1.14      1.08      0.90           147.00            146.80          147.00            146.80      0.000500  NaN    0.900           0        1        1            1            0           2.30            2.50         0.500             144.7             144.30         1            1\n"
     ]
    }
   ],
   "source": [
    "print(swmm_model.conduits_data.conduits[swmm_model.conduits_data.conduits['ValMaxFill'] == 0])"
   ]
  },
  {
   "cell_type": "code",
   "execution_count": 4,
   "id": "bc047f57",
   "metadata": {},
   "outputs": [
    {
     "name": "stdout",
     "output_type": "stream",
     "text": [
      "Starting trace up from O4\n",
      "Traced 11 nodes from O4\n",
      "Starting trace up from 9\n",
      "Traced 12 nodes from 9\n",
      "{'O4': {'nodes': ['O4', 'J3', 'J2', 'J1', 'J0', '3', '5', '7', '4', '6', '8'], 'conduits': ['C4', 'C3', 'C2', 'C1', '3', '6', '7', '8', '9', '5']}, '9': {'nodes': ['9', '15', '16', '17', '18', '19', '20', '10', '11', '12', '13', '14'], 'conduits': ['16', '15', '14', '13', '12', '11', '21', '20', '19', '18', '17']}}\n"
     ]
    }
   ],
   "source": [
    "print(swmm_model.all_traces())\n"
   ]
  },
  {
   "cell_type": "code",
   "execution_count": 5,
   "id": "c7251088",
   "metadata": {},
   "outputs": [
    {
     "name": "stdout",
     "output_type": "stream",
     "text": [
      "     InletNode OutletNode  Length  Roughness  MaxFlow  Geom1     Type   MaxQ  MaxDay  MaxHr  MaxV  MaxQPerc  MaxDPerc  InletNodeInvert  OutletNodeInvert  UpstreamInvert  DownstreamInvert  SlopeFtPerFt  Tag  Filling  ValMaxFill  ValMaxV  ValMinV  ValMaxSlope  ValMinSlope  InletMaxDepth  OutletMaxDepth  SlopePerMile  InletGroundCover  OutletGroundCover  ValDepth  ValCoverage\n",
      "Name                                                                                                                                                                                                                                                                                                                                                                                   \n",
      "C3          J2         J3      50       0.01        0    0.9  CONDUIT  1.019       0  00:27  1.82      1.02      0.91           146.61            146.52          146.61            146.52      0.001800   #P    0.819           0        1        1            1            1           2.71            2.40         1.800             143.9             144.12         1            1\n",
      "C2          J1         J2     400       0.01        0    1.0  CONDUIT  0.712       0  00:35  1.10      1.05      0.89           146.80            146.61          146.80            146.61      0.000475  NaN    0.890           0        1        1            1            0           2.50            2.71         0.475             144.3             143.90         1            1\n",
      "C1          J0         J1     400       0.01        0    1.0  CONDUIT  0.752       0  00:30  1.14      1.08      0.90           147.00            146.80          147.00            146.80      0.000500  NaN    0.900           0        1        1            1            0           2.30            2.50         0.500             144.7             144.30         1            1\n"
     ]
    }
   ],
   "source": [
    "print(swmm_model.overflowing_pipes())"
   ]
  },
  {
   "cell_type": "code",
   "execution_count": 6,
   "id": "4faead80",
   "metadata": {},
   "outputs": [
    {
     "name": "stdout",
     "output_type": "stream",
     "text": [
      "Starting trace up from O4\n",
      "Traced 11 nodes from O4\n",
      "Starting trace up from 9\n",
      "Traced 12 nodes from 9\n",
      "Starting trace down from J0\n",
      "Traced 4 nodes from J0\n",
      "{'O4': {'nodes': ['J0', 'J1', 'J2', 'J3'], 'conduits': ['C1', 'C2', 'C3']}}\n"
     ]
    }
   ],
   "source": [
    "print(swmm_model.overflowing_traces())\n"
   ]
  },
  {
   "cell_type": "code",
   "execution_count": 7,
   "id": "bc373676",
   "metadata": {},
   "outputs": [
    {
     "name": "stdout",
     "output_type": "stream",
     "text": [
      "Starting trace up from O4\n",
      "Traced 11 nodes from O4\n",
      "Starting trace up from 9\n",
      "Traced 12 nodes from 9\n",
      "Starting trace down from J0\n",
      "Traced 4 nodes from J0\n",
      "['J0']\n"
     ]
    }
   ],
   "source": [
    "print(swmm_model.place_to_change())"
   ]
  },
  {
   "cell_type": "code",
   "execution_count": 8,
   "id": "cc9fdb3c",
   "metadata": {},
   "outputs": [
    {
     "name": "stdout",
     "output_type": "stream",
     "text": [
      "      InvertElev  MaxDepth  InitDepth  SurchargeDepth  PondedArea OutfallType StageOrTimeseries                      coords\n",
      "Name                                                                                                                       \n",
      "J2        146.61      2.71        0.0             0.0         0.0         NaN               NaN  [(777189.014, 592583.674)]\n",
      "J3        146.52      2.40        0.0             0.0         0.0         NaN               NaN  [(777197.506, 592564.623)]\n",
      "J1        146.80      2.50        0.0             0.0         0.0         NaN               NaN  [(777186.085, 592592.266)]\n",
      "J0        147.00      2.30        0.0             0.0         0.0         NaN               NaN   [(777184.18, 592603.551)]\n",
      "3         146.70      2.50        0.0             0.0         0.0         NaN               NaN  [(777202.206, 592568.475)]\n",
      "4         147.00      2.30        0.0             0.0         0.0         NaN               NaN    [(777209.485, 592575.9)]\n",
      "5         146.90      2.30        0.0             0.0         0.0         NaN               NaN   [(777197.37, 592584.303)]\n",
      "6         147.20      2.10        0.0             0.0         0.0         NaN               NaN  [(777217.497, 592586.648)]\n",
      "7         147.10      2.10        0.0             0.0         0.0         NaN               NaN  [(777194.145, 592595.637)]\n",
      "8         147.40      1.90        0.0             0.0         0.0         NaN               NaN  [(777215.543, 592595.686)]\n",
      "10        147.20      2.80        0.0             0.0         0.0         NaN               NaN   [(777226.49, 592566.534)]\n",
      "11        147.40      2.60        0.0             0.0         0.0         NaN               NaN  [(777229.041, 592573.239)]\n",
      "12        147.60      2.40        0.0             0.0         0.0         NaN               NaN  [(777229.456, 592579.053)]\n",
      "13        147.80      2.20        0.0             0.0         0.0         NaN               NaN  [(777228.685, 592586.885)]\n",
      "14        148.00      2.00        0.0             0.0         0.0         NaN               NaN  [(777227.736, 592591.513)]\n",
      "15        147.00      3.00        0.0             0.0         0.0         NaN               NaN  [(777224.472, 592567.009)]\n",
      "16        147.20      2.80        0.0             0.0         0.0         NaN               NaN  [(777222.158, 592572.883)]\n",
      "17        147.40      2.60        0.0             0.0         0.0         NaN               NaN  [(777221.624, 592579.172)]\n",
      "18        147.60      2.40        0.0             0.0         0.0         NaN               NaN  [(777221.624, 592584.512)]\n",
      "19        147.80      2.20        0.0             0.0         0.0         NaN               NaN  [(777220.972, 592591.276)]\n",
      "20        148.00      2.00        0.0             0.0         0.0         NaN               NaN    [(777220.2, 592595.251)]\n",
      "O4        146.20       NaN        NaN             NaN         NaN        FREE                NO   [(777203.103, 592557.13)]\n",
      "9         146.50       NaN        NaN             NaN         NaN        FREE                NO  [(777225.718, 592561.431)]\n",
      "None\n"
     ]
    }
   ],
   "source": [
    "print(swmm_model.apply_class())"
   ]
  }
 ],
 "metadata": {
  "kernelspec": {
   "display_name": "Python 3 (ipykernel)",
   "language": "python",
   "name": "python3"
  },
  "language_info": {
   "codemirror_mode": {
    "name": "ipython",
    "version": 3
   },
   "file_extension": ".py",
   "mimetype": "text/x-python",
   "name": "python",
   "nbconvert_exporter": "python",
   "pygments_lexer": "ipython3",
   "version": "3.10.2"
  }
 },
 "nbformat": 4,
 "nbformat_minor": 5
}
