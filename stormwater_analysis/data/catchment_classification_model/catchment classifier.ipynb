{
 "cells": [
  {
   "attachments": {},
   "cell_type": "markdown",
   "id": "5a0b6d6a",
   "metadata": {},
   "source": [
    "<a target=\"_blank\" href=\"https://colab.research.google.com/github/BuczynskiRafal/stormwater-analysis/blob/main/stormwater_analysis/data/catchment_classification_model/first_approach_classification.ipynb\">"
   ]
  },
  {
   "cell_type": "markdown",
   "id": "6633bc45",
   "metadata": {},
   "source": [
    "<a target=\"_blank\" href=\"https://colab.research.google.com/github/BuczynskiRafal/stormwater-analysis/blob/main/stormwater_analysis/data/catchment_classification_model/first_approach_classification.ipynb\">\n",
    "    <img src=\"https://colab.research.google.com/assets/colab-badge.svg\" alt=\"Open In Colab\"/>\n",
    "</a>"
   ]
  },
  {
   "attachments": {},
   "cell_type": "markdown",
   "id": "203c68be-eb8f-49c1-8f55-d3929d447923",
   "metadata": {},
   "source": [
    "# Training a model for catchment classification. \n",
    "* kategoryzacja zlewni oparta o większość dostępnych ceech zlewni z plików inp i rpt"
   ]
  },
  {
   "attachments": {},
   "cell_type": "markdown",
   "id": "0ca5aa33-8a1f-41a9-9f45-44b2405dff6a",
   "metadata": {},
   "source": [
    "# Imports"
   ]
  },
  {
   "cell_type": "code",
   "execution_count": 20,
   "id": "36d5c0c3-e761-4ba6-9aab-f74dada646a3",
   "metadata": {},
   "outputs": [],
   "source": [
    "import swmmio\n",
    "import pyswmm\n",
    "import pandas as pd\n",
    "import numpy as np\n",
    "from sklearn.model_selection import train_test_split\n",
    "from tensorflow.keras.models import Sequential\n",
    "from tensorflow.keras.layers import Dense, Dropout, Normalization, Input\n",
    "from tensorflow.keras.callbacks import EarlyStopping\n",
    "# from tensorflow.keras.layers.experimental import preprocessing\n",
    "\n",
    "\n",
    "desired_width = 500\n",
    "pd.set_option(\"display.width\", desired_width)\n",
    "np.set_printoptions(linewidth=desired_width)\n",
    "pd.set_option(\"display.max_columns\", 30)"
   ]
  },
  {
   "cell_type": "code",
   "execution_count": 3,
   "id": "93a421bf-75fd-46fa-b8a1-6277aa189444",
   "metadata": {
    "tags": []
   },
   "outputs": [
    {
     "data": {
      "text/html": [
       "<div>\n",
       "<style scoped>\n",
       "    .dataframe tbody tr th:only-of-type {\n",
       "        vertical-align: middle;\n",
       "    }\n",
       "\n",
       "    .dataframe tbody tr th {\n",
       "        vertical-align: top;\n",
       "    }\n",
       "\n",
       "    .dataframe thead th {\n",
       "        text-align: right;\n",
       "    }\n",
       "</style>\n",
       "<table border=\"1\" class=\"dataframe\">\n",
       "  <thead>\n",
       "    <tr style=\"text-align: right;\">\n",
       "      <th></th>\n",
       "      <th>classes</th>\n",
       "    </tr>\n",
       "  </thead>\n",
       "  <tbody>\n",
       "    <tr>\n",
       "      <th>0</th>\n",
       "      <td>compact_urban_development</td>\n",
       "    </tr>\n",
       "    <tr>\n",
       "      <th>1</th>\n",
       "      <td>urban</td>\n",
       "    </tr>\n",
       "    <tr>\n",
       "      <th>2</th>\n",
       "      <td>loose_urban_development</td>\n",
       "    </tr>\n",
       "    <tr>\n",
       "      <th>3</th>\n",
       "      <td>wooded_area</td>\n",
       "    </tr>\n",
       "    <tr>\n",
       "      <th>4</th>\n",
       "      <td>grassy</td>\n",
       "    </tr>\n",
       "    <tr>\n",
       "      <th>5</th>\n",
       "      <td>loose_soil</td>\n",
       "    </tr>\n",
       "    <tr>\n",
       "      <th>6</th>\n",
       "      <td>steep_area</td>\n",
       "    </tr>\n",
       "  </tbody>\n",
       "</table>\n",
       "</div>"
      ],
      "text/plain": [
       "                     classes\n",
       "0  compact_urban_development\n",
       "1                      urban\n",
       "2    loose_urban_development\n",
       "3                wooded_area\n",
       "4                     grassy\n",
       "5                 loose_soil\n",
       "6                 steep_area"
      ]
     },
     "execution_count": 3,
     "metadata": {},
     "output_type": "execute_result"
    }
   ],
   "source": [
    "classes = pd.DataFrame(\n",
    "    data={\n",
    "        \"classes\": [\n",
    "            \"compact_urban_development\",\n",
    "            \"urban\",\n",
    "            \"loose_urban_development\",\n",
    "            \"wooded_area\",\n",
    "            \"grassy\",\n",
    "            \"loose_soil\",\n",
    "            \"steep_area\",\n",
    "        ]\n",
    "    }\n",
    ")\n",
    "classes"
   ]
  },
  {
   "attachments": {},
   "cell_type": "markdown",
   "id": "4a70e679-858b-452c-b86f-5970de24452d",
   "metadata": {},
   "source": [
    "# Get files"
   ]
  },
  {
   "cell_type": "code",
   "execution_count": 4,
   "id": "33997e0f-4acc-4716-91a1-52529670ecdc",
   "metadata": {
    "tags": []
   },
   "outputs": [],
   "source": [
    "INP_FILE_01 = \"dataset/subcatchment_dataset_01.inp\"\n",
    "INP_FILE_02 = \"dataset/subcatchment_dataset_02.inp\"\n",
    "INP_FILE_03 = \"dataset/subcatchment_dataset_03.inp\"\n",
    "INP_FILE_04 = \"dataset/subcatchment_dataset_04.inp\"\n",
    "INP_FILE_05 = \"dataset/subcatchment_dataset_05.inp\"\n",
    "INP_FILE_06 = \"dataset/subcatchment_dataset_06.inp\"\n",
    "INP_FILE_07 = \"dataset/subcatchment_dataset_07.inp\"\n",
    "INP_FILE_08 = \"dataset/subcatchment_dataset_08.inp\"\n",
    "INP_FILE_09 = \"dataset/subcatchment_dataset_09.inp\"\n",
    "INP_FILE_10 = \"dataset/subcatchment_dataset_10.inp\"\n",
    "files = [INP_FILE_01, INP_FILE_02, INP_FILE_03, INP_FILE_04, INP_FILE_05, INP_FILE_06, INP_FILE_07, INP_FILE_08, INP_FILE_09, INP_FILE_10]"
   ]
  },
  {
   "attachments": {},
   "cell_type": "markdown",
   "id": "64f26c2a-8ea2-479f-afb4-a308ef9bd098",
   "metadata": {
    "tags": []
   },
   "source": [
    "# Run simulation"
   ]
  },
  {
   "cell_type": "code",
   "execution_count": 5,
   "id": "55ba70ee-57b6-4f10-ba31-1491cf3e5abd",
   "metadata": {
    "tags": []
   },
   "outputs": [],
   "source": [
    "for f in files:\n",
    "    with pyswmm.Simulation(f) as sim:\n",
    "        for step in sim:\n",
    "            pass"
   ]
  },
  {
   "attachments": {},
   "cell_type": "markdown",
   "id": "41a1e5e8-bc02-423b-be65-27525ff80744",
   "metadata": {
    "tags": []
   },
   "source": [
    "# Read inp and rpt file as swmmio model object"
   ]
  },
  {
   "cell_type": "code",
   "execution_count": 6,
   "id": "47c87820-5d5f-40d4-b47f-f1f9e3802551",
   "metadata": {
    "tags": []
   },
   "outputs": [],
   "source": [
    "model_01 = swmmio.Model(INP_FILE_01)\n",
    "model_02 = swmmio.Model(INP_FILE_02)\n",
    "model_03 = swmmio.Model(INP_FILE_03)\n",
    "model_04 = swmmio.Model(INP_FILE_04)\n",
    "model_05 = swmmio.Model(INP_FILE_05)\n",
    "model_06 = swmmio.Model(INP_FILE_06)\n",
    "model_07 = swmmio.Model(INP_FILE_07)\n",
    "model_08 = swmmio.Model(INP_FILE_08)\n",
    "model_09 = swmmio.Model(INP_FILE_09)\n",
    "model_10 = swmmio.Model(INP_FILE_10)\n",
    "\n",
    "models = [model_01, model_02, model_03, model_04, model_05, model_06, model_07, model_08, model_09, model_10]"
   ]
  },
  {
   "attachments": {},
   "cell_type": "markdown",
   "id": "509d6391-c4ac-462f-be8f-d39f57aa7666",
   "metadata": {
    "tags": []
   },
   "source": [
    "## Get subcatchments data from the model"
   ]
  },
  {
   "cell_type": "code",
   "execution_count": 7,
   "id": "3c34c355-f5c1-420f-a437-2223f8ff53e5",
   "metadata": {},
   "outputs": [],
   "source": [
    "raw_subcatchments_01 = model_01.subcatchments.dataframe\n",
    "raw_subcatchments_02 = model_02.subcatchments.dataframe\n",
    "raw_subcatchments_03 = model_03.subcatchments.dataframe\n",
    "raw_subcatchments_04 = model_04.subcatchments.dataframe\n",
    "raw_subcatchments_05 = model_05.subcatchments.dataframe\n",
    "raw_subcatchments_06 = model_06.subcatchments.dataframe\n",
    "raw_subcatchments_07 = model_07.subcatchments.dataframe\n",
    "raw_subcatchments_08 = model_08.subcatchments.dataframe\n",
    "raw_subcatchments_09 = model_09.subcatchments.dataframe\n",
    "raw_subcatchments_10 = model_10.subcatchments.dataframe\n",
    "\n",
    "subcatchments_01 = raw_subcatchments_01.copy()\n",
    "subcatchments_02 = raw_subcatchments_02.copy()\n",
    "subcatchments_03 = raw_subcatchments_03.copy()\n",
    "subcatchments_04 = raw_subcatchments_04.copy()\n",
    "subcatchments_05 = raw_subcatchments_05.copy()\n",
    "subcatchments_06 = raw_subcatchments_06.copy()\n",
    "subcatchments_07 = raw_subcatchments_07.copy()\n",
    "subcatchments_08 = raw_subcatchments_08.copy()\n",
    "subcatchments_09 = raw_subcatchments_09.copy()\n",
    "subcatchments_10 = raw_subcatchments_10.copy()\n",
    "\n",
    "subcatchments = [subcatchments_01, subcatchments_02, subcatchments_03, subcatchments_04, subcatchments_05, subcatchments_06, subcatchments_07, subcatchments_08, subcatchments_09, subcatchments_10]"
   ]
  },
  {
   "attachments": {},
   "cell_type": "markdown",
   "id": "90961230-f871-4f50-8d48-52f509304ec2",
   "metadata": {
    "tags": []
   },
   "source": [
    "### Drop unused columns"
   ]
  },
  {
   "cell_type": "code",
   "execution_count": 8,
   "id": "8d4bf621-5085-4641-a7c5-38460e68ab4b",
   "metadata": {
    "tags": []
   },
   "outputs": [],
   "source": [
    "for frame in subcatchments:\n",
    "    frame.drop(['N-Imperv', 'N-Perv', 'S-Imperv',\t'S-Perv', 'coords', 'RouteTo', 'CurbLength', 'Outlet', 'Raingage', 'TotalRunon', 'TotalEvap', 'TotalInfil', 'ImpervRunoff', 'PervRunoff', 'TotalRunoffIn'], axis=1, inplace=True)"
   ]
  },
  {
   "cell_type": "code",
   "execution_count": 9,
   "id": "2cc1d245",
   "metadata": {},
   "outputs": [
    {
     "data": {
      "text/html": [
       "<div>\n",
       "<style scoped>\n",
       "    .dataframe tbody tr th:only-of-type {\n",
       "        vertical-align: middle;\n",
       "    }\n",
       "\n",
       "    .dataframe tbody tr th {\n",
       "        vertical-align: top;\n",
       "    }\n",
       "\n",
       "    .dataframe thead th {\n",
       "        text-align: right;\n",
       "    }\n",
       "</style>\n",
       "<table border=\"1\" class=\"dataframe\">\n",
       "  <thead>\n",
       "    <tr style=\"text-align: right;\">\n",
       "      <th></th>\n",
       "      <th>Area</th>\n",
       "      <th>PercImperv</th>\n",
       "      <th>Width</th>\n",
       "      <th>PercSlope</th>\n",
       "      <th>PctZero</th>\n",
       "      <th>TotalPrecip</th>\n",
       "      <th>TotalRunoffMG</th>\n",
       "      <th>PeakRunoff</th>\n",
       "      <th>RunoffCoeff</th>\n",
       "    </tr>\n",
       "    <tr>\n",
       "      <th>Name</th>\n",
       "      <th></th>\n",
       "      <th></th>\n",
       "      <th></th>\n",
       "      <th></th>\n",
       "      <th></th>\n",
       "      <th></th>\n",
       "      <th></th>\n",
       "      <th></th>\n",
       "      <th></th>\n",
       "    </tr>\n",
       "  </thead>\n",
       "  <tbody>\n",
       "    <tr>\n",
       "      <th>S1</th>\n",
       "      <td>0.50</td>\n",
       "      <td>20.00</td>\n",
       "      <td>300.00</td>\n",
       "      <td>5.00</td>\n",
       "      <td>70</td>\n",
       "      <td>10.10</td>\n",
       "      <td>0.02</td>\n",
       "      <td>0.02</td>\n",
       "      <td>0.407</td>\n",
       "    </tr>\n",
       "    <tr>\n",
       "      <th>S10</th>\n",
       "      <td>1.87</td>\n",
       "      <td>45.00</td>\n",
       "      <td>136.75</td>\n",
       "      <td>15.00</td>\n",
       "      <td>90</td>\n",
       "      <td>10.10</td>\n",
       "      <td>0.11</td>\n",
       "      <td>0.09</td>\n",
       "      <td>0.587</td>\n",
       "    </tr>\n",
       "    <tr>\n",
       "      <th>S100</th>\n",
       "      <td>1.71</td>\n",
       "      <td>45.00</td>\n",
       "      <td>130.77</td>\n",
       "      <td>10.00</td>\n",
       "      <td>90</td>\n",
       "      <td>10.10</td>\n",
       "      <td>0.10</td>\n",
       "      <td>0.08</td>\n",
       "      <td>0.581</td>\n",
       "    </tr>\n",
       "    <tr>\n",
       "      <th>S1000</th>\n",
       "      <td>0.68</td>\n",
       "      <td>10.00</td>\n",
       "      <td>82.46</td>\n",
       "      <td>5.09</td>\n",
       "      <td>10</td>\n",
       "      <td>10.10</td>\n",
       "      <td>0.02</td>\n",
       "      <td>0.01</td>\n",
       "      <td>0.224</td>\n",
       "    </tr>\n",
       "    <tr>\n",
       "      <th>S1001</th>\n",
       "      <td>0.26</td>\n",
       "      <td>83.33</td>\n",
       "      <td>50.99</td>\n",
       "      <td>45.00</td>\n",
       "      <td>80</td>\n",
       "      <td>10.10</td>\n",
       "      <td>0.02</td>\n",
       "      <td>0.02</td>\n",
       "      <td>0.879</td>\n",
       "    </tr>\n",
       "  </tbody>\n",
       "</table>\n",
       "</div>"
      ],
      "text/plain": [
       "       Area  PercImperv   Width  PercSlope  PctZero TotalPrecip  TotalRunoffMG  PeakRunoff  RunoffCoeff\n",
       "Name                                                                                                   \n",
       "S1     0.50       20.00  300.00       5.00       70       10.10           0.02        0.02        0.407\n",
       "S10    1.87       45.00  136.75      15.00       90       10.10           0.11        0.09        0.587\n",
       "S100   1.71       45.00  130.77      10.00       90       10.10           0.10        0.08        0.581\n",
       "S1000  0.68       10.00   82.46       5.09       10       10.10           0.02        0.01        0.224\n",
       "S1001  0.26       83.33   50.99      45.00       80       10.10           0.02        0.02        0.879"
      ]
     },
     "execution_count": 9,
     "metadata": {},
     "output_type": "execute_result"
    }
   ],
   "source": [
    "subcatchments_01.iloc[:5, :]"
   ]
  },
  {
   "attachments": {},
   "cell_type": "markdown",
   "id": "aec10d49-c5c5-4d85-b88b-988292b3500b",
   "metadata": {},
   "source": [
    "## Get categories"
   ]
  },
  {
   "cell_type": "code",
   "execution_count": 10,
   "id": "16e17b13-3c2e-4475-96b5-1555b71d3e9c",
   "metadata": {
    "tags": []
   },
   "outputs": [
    {
     "data": {
      "text/html": [
       "<div>\n",
       "<style scoped>\n",
       "    .dataframe tbody tr th:only-of-type {\n",
       "        vertical-align: middle;\n",
       "    }\n",
       "\n",
       "    .dataframe tbody tr th {\n",
       "        vertical-align: top;\n",
       "    }\n",
       "\n",
       "    .dataframe thead th {\n",
       "        text-align: right;\n",
       "    }\n",
       "</style>\n",
       "<table border=\"1\" class=\"dataframe\">\n",
       "  <thead>\n",
       "    <tr style=\"text-align: right;\">\n",
       "      <th></th>\n",
       "      <th>Name</th>\n",
       "      <th>Tag</th>\n",
       "    </tr>\n",
       "    <tr>\n",
       "      <th>ElementType</th>\n",
       "      <th></th>\n",
       "      <th></th>\n",
       "    </tr>\n",
       "  </thead>\n",
       "  <tbody>\n",
       "    <tr>\n",
       "      <th>Subcatch</th>\n",
       "      <td>S1</td>\n",
       "      <td>loose_soil</td>\n",
       "    </tr>\n",
       "    <tr>\n",
       "      <th>Subcatch</th>\n",
       "      <td>S2</td>\n",
       "      <td>compact_urban_development</td>\n",
       "    </tr>\n",
       "    <tr>\n",
       "      <th>Subcatch</th>\n",
       "      <td>S3</td>\n",
       "      <td>loose_soil</td>\n",
       "    </tr>\n",
       "    <tr>\n",
       "      <th>Subcatch</th>\n",
       "      <td>S4</td>\n",
       "      <td>wooded_area</td>\n",
       "    </tr>\n",
       "    <tr>\n",
       "      <th>Subcatch</th>\n",
       "      <td>S5</td>\n",
       "      <td>loose_urban_development</td>\n",
       "    </tr>\n",
       "    <tr>\n",
       "      <th>...</th>\n",
       "      <td>...</td>\n",
       "      <td>...</td>\n",
       "    </tr>\n",
       "    <tr>\n",
       "      <th>Subcatch</th>\n",
       "      <td>S997</td>\n",
       "      <td>grassy</td>\n",
       "    </tr>\n",
       "    <tr>\n",
       "      <th>Subcatch</th>\n",
       "      <td>S998</td>\n",
       "      <td>steep_area</td>\n",
       "    </tr>\n",
       "    <tr>\n",
       "      <th>Subcatch</th>\n",
       "      <td>S999</td>\n",
       "      <td>urban</td>\n",
       "    </tr>\n",
       "    <tr>\n",
       "      <th>Subcatch</th>\n",
       "      <td>S1000</td>\n",
       "      <td>grassy</td>\n",
       "    </tr>\n",
       "    <tr>\n",
       "      <th>Subcatch</th>\n",
       "      <td>S1001</td>\n",
       "      <td>steep_area</td>\n",
       "    </tr>\n",
       "  </tbody>\n",
       "</table>\n",
       "<p>1001 rows × 2 columns</p>\n",
       "</div>"
      ],
      "text/plain": [
       "              Name                        Tag\n",
       "ElementType                                  \n",
       "Subcatch        S1                 loose_soil\n",
       "Subcatch        S2  compact_urban_development\n",
       "Subcatch        S3                 loose_soil\n",
       "Subcatch        S4                wooded_area\n",
       "Subcatch        S5    loose_urban_development\n",
       "...            ...                        ...\n",
       "Subcatch      S997                     grassy\n",
       "Subcatch      S998                 steep_area\n",
       "Subcatch      S999                      urban\n",
       "Subcatch     S1000                     grassy\n",
       "Subcatch     S1001                 steep_area\n",
       "\n",
       "[1001 rows x 2 columns]"
      ]
     },
     "execution_count": 10,
     "metadata": {},
     "output_type": "execute_result"
    }
   ],
   "source": [
    "categories_01 = model_01.inp.tags\n",
    "categories_02 = model_02.inp.tags\n",
    "categories_03 = model_03.inp.tags\n",
    "categories_04 = model_04.inp.tags\n",
    "categories_05 = model_05.inp.tags\n",
    "categories_06 = model_06.inp.tags\n",
    "categories_07 = model_07.inp.tags\n",
    "categories_08 = model_08.inp.tags\n",
    "categories_09 = model_09.inp.tags\n",
    "categories_10 = model_10.inp.tags\n",
    "categories_01"
   ]
  },
  {
   "attachments": {},
   "cell_type": "markdown",
   "id": "2909fc39-f2b9-4208-bd94-aff400908f83",
   "metadata": {},
   "source": [
    "### Add categories column to subcatchments DataFrame"
   ]
  },
  {
   "cell_type": "code",
   "execution_count": 11,
   "id": "c06fec91-94c5-4d36-ac9b-a9a7405bc95e",
   "metadata": {
    "tags": []
   },
   "outputs": [],
   "source": [
    "def merge_tag(subcatchment, model):\n",
    "    subcatchment.reset_index(inplace=True)\n",
    "    merged = subcatchment.merge(model.inp.tags, left_on=\"Name\", right_on=\"Name\", how=\"left\")\n",
    "    merged.rename(columns={\"Tag\": \"categories\"}, inplace=True)\n",
    "    merged.set_index(\"Name\", inplace=True)\n",
    "    return merged\n",
    "\n",
    "merged_df_01 = merge_tag(subcatchments_01, model_01)\n",
    "merged_df_02 = merge_tag(subcatchments_02, model_02)\n",
    "merged_df_03 = merge_tag(subcatchments_03, model_03)\n",
    "merged_df_04 = merge_tag(subcatchments_04, model_04)\n",
    "merged_df_05 = merge_tag(subcatchments_05, model_05)\n",
    "merged_df_06 = merge_tag(subcatchments_06, model_06)\n",
    "merged_df_07 = merge_tag(subcatchments_07, model_07)\n",
    "merged_df_08 = merge_tag(subcatchments_08, model_08)\n",
    "merged_df_09 = merge_tag(subcatchments_09, model_09)\n",
    "merged_df_10 = merge_tag(subcatchments_10, model_10)\n",
    "\n",
    "merged = [merged_df_01, merged_df_02, merged_df_03, merged_df_04, merged_df_05, merged_df_06, merged_df_07, merged_df_08, merged_df_09, merged_df_10]\n",
    "\n",
    "df = pd.concat(merged)\n",
    "df = df.reset_index(drop=True)"
   ]
  },
  {
   "cell_type": "code",
   "execution_count": 13,
   "id": "3e863959",
   "metadata": {},
   "outputs": [
    {
     "data": {
      "text/html": [
       "<div>\n",
       "<style scoped>\n",
       "    .dataframe tbody tr th:only-of-type {\n",
       "        vertical-align: middle;\n",
       "    }\n",
       "\n",
       "    .dataframe tbody tr th {\n",
       "        vertical-align: top;\n",
       "    }\n",
       "\n",
       "    .dataframe thead th {\n",
       "        text-align: right;\n",
       "    }\n",
       "</style>\n",
       "<table border=\"1\" class=\"dataframe\">\n",
       "  <thead>\n",
       "    <tr style=\"text-align: right;\">\n",
       "      <th></th>\n",
       "      <th>Area</th>\n",
       "      <th>PercImperv</th>\n",
       "      <th>Width</th>\n",
       "      <th>PercSlope</th>\n",
       "      <th>PctZero</th>\n",
       "      <th>TotalPrecip</th>\n",
       "      <th>TotalRunoffMG</th>\n",
       "      <th>PeakRunoff</th>\n",
       "      <th>RunoffCoeff</th>\n",
       "      <th>categories</th>\n",
       "    </tr>\n",
       "  </thead>\n",
       "  <tbody>\n",
       "    <tr>\n",
       "      <th>0</th>\n",
       "      <td>0.50</td>\n",
       "      <td>20.00</td>\n",
       "      <td>300.00</td>\n",
       "      <td>5.00</td>\n",
       "      <td>70</td>\n",
       "      <td>10.10</td>\n",
       "      <td>0.02</td>\n",
       "      <td>0.02</td>\n",
       "      <td>0.407</td>\n",
       "      <td>loose_soil</td>\n",
       "    </tr>\n",
       "    <tr>\n",
       "      <th>1</th>\n",
       "      <td>1.87</td>\n",
       "      <td>45.00</td>\n",
       "      <td>136.75</td>\n",
       "      <td>15.00</td>\n",
       "      <td>90</td>\n",
       "      <td>10.10</td>\n",
       "      <td>0.11</td>\n",
       "      <td>0.09</td>\n",
       "      <td>0.587</td>\n",
       "      <td>compact_urban_development</td>\n",
       "    </tr>\n",
       "    <tr>\n",
       "      <th>2</th>\n",
       "      <td>1.71</td>\n",
       "      <td>45.00</td>\n",
       "      <td>130.77</td>\n",
       "      <td>10.00</td>\n",
       "      <td>90</td>\n",
       "      <td>10.10</td>\n",
       "      <td>0.10</td>\n",
       "      <td>0.08</td>\n",
       "      <td>0.581</td>\n",
       "      <td>compact_urban_development</td>\n",
       "    </tr>\n",
       "    <tr>\n",
       "      <th>3</th>\n",
       "      <td>0.68</td>\n",
       "      <td>10.00</td>\n",
       "      <td>82.46</td>\n",
       "      <td>5.09</td>\n",
       "      <td>10</td>\n",
       "      <td>10.10</td>\n",
       "      <td>0.02</td>\n",
       "      <td>0.01</td>\n",
       "      <td>0.224</td>\n",
       "      <td>grassy</td>\n",
       "    </tr>\n",
       "    <tr>\n",
       "      <th>4</th>\n",
       "      <td>0.26</td>\n",
       "      <td>83.33</td>\n",
       "      <td>50.99</td>\n",
       "      <td>45.00</td>\n",
       "      <td>80</td>\n",
       "      <td>10.10</td>\n",
       "      <td>0.02</td>\n",
       "      <td>0.02</td>\n",
       "      <td>0.879</td>\n",
       "      <td>steep_area</td>\n",
       "    </tr>\n",
       "  </tbody>\n",
       "</table>\n",
       "</div>"
      ],
      "text/plain": [
       "   Area  PercImperv   Width  PercSlope  PctZero TotalPrecip  TotalRunoffMG  PeakRunoff  RunoffCoeff                 categories\n",
       "0  0.50       20.00  300.00       5.00       70       10.10           0.02        0.02        0.407                 loose_soil\n",
       "1  1.87       45.00  136.75      15.00       90       10.10           0.11        0.09        0.587  compact_urban_development\n",
       "2  1.71       45.00  130.77      10.00       90       10.10           0.10        0.08        0.581  compact_urban_development\n",
       "3  0.68       10.00   82.46       5.09       10       10.10           0.02        0.01        0.224                     grassy\n",
       "4  0.26       83.33   50.99      45.00       80       10.10           0.02        0.02        0.879                 steep_area"
      ]
     },
     "execution_count": 13,
     "metadata": {},
     "output_type": "execute_result"
    }
   ],
   "source": [
    "df.head()"
   ]
  },
  {
   "attachments": {},
   "cell_type": "markdown",
   "id": "0c7ad132-617d-4508-9efa-e311405f847b",
   "metadata": {},
   "source": [
    "### Split data into features and target"
   ]
  },
  {
   "cell_type": "code",
   "execution_count": 14,
   "id": "e931b316-d970-44d2-aa57-d652176e7598",
   "metadata": {
    "tags": []
   },
   "outputs": [
    {
     "name": "stdout",
     "output_type": "stream",
     "text": [
      "(8008, 9) (8008, 7)\n",
      "(2002, 9) (2002, 7)\n"
     ]
    }
   ],
   "source": [
    "X = df.drop('categories', axis=1)\n",
    "y = df['categories']\n",
    "\n",
    "X[\"TotalPrecip\"] = pd.to_numeric(X[\"TotalPrecip\"])\n",
    "# X[\"TotalRunon\"] = pd.to_numeric(X[\"TotalRunon\"])\n",
    "# X[\"TotalEvap\"] = pd.to_numeric(X[\"TotalEvap\"])\n",
    "# X[\"TotalInfil\"] = pd.to_numeric(X[\"TotalInfil\"])\n",
    "# X[\"PervRunoff\"] = pd.to_numeric(X[\"PervRunoff\"])\n",
    "# X[\"ImpervRunoff\"] = pd.to_numeric(X[\"ImpervRunoff\"])\n",
    "\n",
    "X_train, X_test, y_train, y_test = train_test_split(X, y, test_size=0.2, random_state=42)\n",
    "\n",
    "y_train = pd.get_dummies(y_train)\n",
    "y_test = pd.get_dummies(y_test)\n",
    "\n",
    "print(X_train.shape, y_train.shape)\n",
    "print(X_test.shape, y_test.shape)"
   ]
  },
  {
   "cell_type": "code",
   "execution_count": 15,
   "id": "891f98c9",
   "metadata": {},
   "outputs": [
    {
     "name": "stdout",
     "output_type": "stream",
     "text": [
      "<class 'pandas.core.frame.DataFrame'>\n",
      "Int64Index: 8008 entries, 2270 to 7270\n",
      "Data columns (total 9 columns):\n",
      " #   Column         Non-Null Count  Dtype  \n",
      "---  ------         --------------  -----  \n",
      " 0   Area           8008 non-null   float64\n",
      " 1   PercImperv     8008 non-null   float64\n",
      " 2   Width          8008 non-null   float64\n",
      " 3   PercSlope      8008 non-null   float64\n",
      " 4   PctZero        8008 non-null   int64  \n",
      " 5   TotalPrecip    8008 non-null   float64\n",
      " 6   TotalRunoffMG  8008 non-null   float64\n",
      " 7   PeakRunoff     8008 non-null   float64\n",
      " 8   RunoffCoeff    8008 non-null   float64\n",
      "dtypes: float64(8), int64(1)\n",
      "memory usage: 625.6 KB\n"
     ]
    }
   ],
   "source": [
    "X_train.info()"
   ]
  },
  {
   "cell_type": "code",
   "execution_count": 16,
   "id": "7c30f37c",
   "metadata": {},
   "outputs": [
    {
     "data": {
      "text/html": [
       "<div>\n",
       "<style scoped>\n",
       "    .dataframe tbody tr th:only-of-type {\n",
       "        vertical-align: middle;\n",
       "    }\n",
       "\n",
       "    .dataframe tbody tr th {\n",
       "        vertical-align: top;\n",
       "    }\n",
       "\n",
       "    .dataframe thead th {\n",
       "        text-align: right;\n",
       "    }\n",
       "</style>\n",
       "<table border=\"1\" class=\"dataframe\">\n",
       "  <thead>\n",
       "    <tr style=\"text-align: right;\">\n",
       "      <th></th>\n",
       "      <th>Area</th>\n",
       "      <th>PercImperv</th>\n",
       "      <th>Width</th>\n",
       "      <th>PercSlope</th>\n",
       "      <th>PctZero</th>\n",
       "      <th>TotalPrecip</th>\n",
       "      <th>TotalRunoffMG</th>\n",
       "      <th>PeakRunoff</th>\n",
       "      <th>RunoffCoeff</th>\n",
       "    </tr>\n",
       "  </thead>\n",
       "  <tbody>\n",
       "    <tr>\n",
       "      <th>2270</th>\n",
       "      <td>0.02</td>\n",
       "      <td>10.00</td>\n",
       "      <td>14.14</td>\n",
       "      <td>20.00</td>\n",
       "      <td>10</td>\n",
       "      <td>38.33</td>\n",
       "      <td>0.01</td>\n",
       "      <td>0.01</td>\n",
       "      <td>0.825</td>\n",
       "    </tr>\n",
       "    <tr>\n",
       "      <th>8668</th>\n",
       "      <td>1.87</td>\n",
       "      <td>10.00</td>\n",
       "      <td>136.75</td>\n",
       "      <td>20.00</td>\n",
       "      <td>10</td>\n",
       "      <td>12.67</td>\n",
       "      <td>0.06</td>\n",
       "      <td>0.01</td>\n",
       "      <td>0.256</td>\n",
       "    </tr>\n",
       "    <tr>\n",
       "      <th>8293</th>\n",
       "      <td>0.81</td>\n",
       "      <td>10.00</td>\n",
       "      <td>90.00</td>\n",
       "      <td>20.00</td>\n",
       "      <td>10</td>\n",
       "      <td>12.67</td>\n",
       "      <td>0.03</td>\n",
       "      <td>0.01</td>\n",
       "      <td>0.280</td>\n",
       "    </tr>\n",
       "    <tr>\n",
       "      <th>7868</th>\n",
       "      <td>1.46</td>\n",
       "      <td>10.00</td>\n",
       "      <td>120.83</td>\n",
       "      <td>5.09</td>\n",
       "      <td>10</td>\n",
       "      <td>9.50</td>\n",
       "      <td>0.01</td>\n",
       "      <td>0.00</td>\n",
       "      <td>0.101</td>\n",
       "    </tr>\n",
       "    <tr>\n",
       "      <th>1095</th>\n",
       "      <td>1.61</td>\n",
       "      <td>5.09</td>\n",
       "      <td>126.89</td>\n",
       "      <td>15.00</td>\n",
       "      <td>10</td>\n",
       "      <td>20.00</td>\n",
       "      <td>0.19</td>\n",
       "      <td>0.14</td>\n",
       "      <td>0.590</td>\n",
       "    </tr>\n",
       "    <tr>\n",
       "      <th>3131</th>\n",
       "      <td>0.58</td>\n",
       "      <td>15.00</td>\n",
       "      <td>76.16</td>\n",
       "      <td>30.00</td>\n",
       "      <td>5</td>\n",
       "      <td>15.00</td>\n",
       "      <td>0.02</td>\n",
       "      <td>0.01</td>\n",
       "      <td>0.259</td>\n",
       "    </tr>\n",
       "    <tr>\n",
       "      <th>8116</th>\n",
       "      <td>1.96</td>\n",
       "      <td>10.00</td>\n",
       "      <td>140.00</td>\n",
       "      <td>5.09</td>\n",
       "      <td>10</td>\n",
       "      <td>12.67</td>\n",
       "      <td>0.05</td>\n",
       "      <td>0.01</td>\n",
       "      <td>0.214</td>\n",
       "    </tr>\n",
       "    <tr>\n",
       "      <th>1561</th>\n",
       "      <td>0.89</td>\n",
       "      <td>5.09</td>\n",
       "      <td>94.34</td>\n",
       "      <td>15.00</td>\n",
       "      <td>10</td>\n",
       "      <td>20.00</td>\n",
       "      <td>0.11</td>\n",
       "      <td>0.09</td>\n",
       "      <td>0.606</td>\n",
       "    </tr>\n",
       "    <tr>\n",
       "      <th>1670</th>\n",
       "      <td>1.52</td>\n",
       "      <td>65.00</td>\n",
       "      <td>123.29</td>\n",
       "      <td>61.67</td>\n",
       "      <td>80</td>\n",
       "      <td>20.00</td>\n",
       "      <td>0.27</td>\n",
       "      <td>0.21</td>\n",
       "      <td>0.879</td>\n",
       "    </tr>\n",
       "    <tr>\n",
       "      <th>9951</th>\n",
       "      <td>1.68</td>\n",
       "      <td>45.00</td>\n",
       "      <td>129.61</td>\n",
       "      <td>5.09</td>\n",
       "      <td>90</td>\n",
       "      <td>0.32</td>\n",
       "      <td>0.00</td>\n",
       "      <td>0.00</td>\n",
       "      <td>0.403</td>\n",
       "    </tr>\n",
       "    <tr>\n",
       "      <th>4553</th>\n",
       "      <td>1.90</td>\n",
       "      <td>15.00</td>\n",
       "      <td>137.84</td>\n",
       "      <td>5.09</td>\n",
       "      <td>5</td>\n",
       "      <td>3.17</td>\n",
       "      <td>0.01</td>\n",
       "      <td>0.00</td>\n",
       "      <td>0.090</td>\n",
       "    </tr>\n",
       "    <tr>\n",
       "      <th>4113</th>\n",
       "      <td>0.43</td>\n",
       "      <td>10.00</td>\n",
       "      <td>65.57</td>\n",
       "      <td>20.00</td>\n",
       "      <td>10</td>\n",
       "      <td>3.17</td>\n",
       "      <td>0.00</td>\n",
       "      <td>0.00</td>\n",
       "      <td>0.064</td>\n",
       "    </tr>\n",
       "    <tr>\n",
       "      <th>4394</th>\n",
       "      <td>1.34</td>\n",
       "      <td>10.00</td>\n",
       "      <td>115.76</td>\n",
       "      <td>2.33</td>\n",
       "      <td>10</td>\n",
       "      <td>3.17</td>\n",
       "      <td>0.00</td>\n",
       "      <td>0.00</td>\n",
       "      <td>0.064</td>\n",
       "    </tr>\n",
       "    <tr>\n",
       "      <th>4631</th>\n",
       "      <td>1.35</td>\n",
       "      <td>2.33</td>\n",
       "      <td>116.19</td>\n",
       "      <td>2.33</td>\n",
       "      <td>10</td>\n",
       "      <td>3.17</td>\n",
       "      <td>0.00</td>\n",
       "      <td>0.00</td>\n",
       "      <td>0.015</td>\n",
       "    </tr>\n",
       "    <tr>\n",
       "      <th>3527</th>\n",
       "      <td>1.78</td>\n",
       "      <td>10.00</td>\n",
       "      <td>133.42</td>\n",
       "      <td>20.00</td>\n",
       "      <td>10</td>\n",
       "      <td>15.00</td>\n",
       "      <td>0.10</td>\n",
       "      <td>0.02</td>\n",
       "      <td>0.358</td>\n",
       "    </tr>\n",
       "    <tr>\n",
       "      <th>2002</th>\n",
       "      <td>0.50</td>\n",
       "      <td>20.00</td>\n",
       "      <td>300.00</td>\n",
       "      <td>5.00</td>\n",
       "      <td>70</td>\n",
       "      <td>38.33</td>\n",
       "      <td>0.16</td>\n",
       "      <td>0.13</td>\n",
       "      <td>0.832</td>\n",
       "    </tr>\n",
       "    <tr>\n",
       "      <th>9572</th>\n",
       "      <td>0.48</td>\n",
       "      <td>83.33</td>\n",
       "      <td>69.28</td>\n",
       "      <td>45.00</td>\n",
       "      <td>80</td>\n",
       "      <td>0.32</td>\n",
       "      <td>0.00</td>\n",
       "      <td>0.00</td>\n",
       "      <td>0.668</td>\n",
       "    </tr>\n",
       "    <tr>\n",
       "      <th>168</th>\n",
       "      <td>0.96</td>\n",
       "      <td>10.00</td>\n",
       "      <td>97.98</td>\n",
       "      <td>20.00</td>\n",
       "      <td>10</td>\n",
       "      <td>10.10</td>\n",
       "      <td>0.02</td>\n",
       "      <td>0.02</td>\n",
       "      <td>0.257</td>\n",
       "    </tr>\n",
       "    <tr>\n",
       "      <th>3465</th>\n",
       "      <td>1.60</td>\n",
       "      <td>5.09</td>\n",
       "      <td>126.49</td>\n",
       "      <td>10.00</td>\n",
       "      <td>10</td>\n",
       "      <td>15.00</td>\n",
       "      <td>0.07</td>\n",
       "      <td>0.02</td>\n",
       "      <td>0.302</td>\n",
       "    </tr>\n",
       "    <tr>\n",
       "      <th>9516</th>\n",
       "      <td>1.32</td>\n",
       "      <td>65.00</td>\n",
       "      <td>114.89</td>\n",
       "      <td>61.67</td>\n",
       "      <td>80</td>\n",
       "      <td>0.32</td>\n",
       "      <td>0.00</td>\n",
       "      <td>0.00</td>\n",
       "      <td>0.520</td>\n",
       "    </tr>\n",
       "    <tr>\n",
       "      <th>9539</th>\n",
       "      <td>1.55</td>\n",
       "      <td>65.00</td>\n",
       "      <td>124.50</td>\n",
       "      <td>61.67</td>\n",
       "      <td>80</td>\n",
       "      <td>0.32</td>\n",
       "      <td>0.00</td>\n",
       "      <td>0.00</td>\n",
       "      <td>0.520</td>\n",
       "    </tr>\n",
       "    <tr>\n",
       "      <th>2133</th>\n",
       "      <td>0.67</td>\n",
       "      <td>65.00</td>\n",
       "      <td>81.85</td>\n",
       "      <td>61.67</td>\n",
       "      <td>80</td>\n",
       "      <td>38.33</td>\n",
       "      <td>0.24</td>\n",
       "      <td>0.18</td>\n",
       "      <td>0.941</td>\n",
       "    </tr>\n",
       "    <tr>\n",
       "      <th>4421</th>\n",
       "      <td>1.20</td>\n",
       "      <td>2.33</td>\n",
       "      <td>109.54</td>\n",
       "      <td>2.33</td>\n",
       "      <td>10</td>\n",
       "      <td>3.17</td>\n",
       "      <td>0.00</td>\n",
       "      <td>0.00</td>\n",
       "      <td>0.015</td>\n",
       "    </tr>\n",
       "    <tr>\n",
       "      <th>2036</th>\n",
       "      <td>1.41</td>\n",
       "      <td>22.50</td>\n",
       "      <td>118.74</td>\n",
       "      <td>2.33</td>\n",
       "      <td>70</td>\n",
       "      <td>38.33</td>\n",
       "      <td>0.41</td>\n",
       "      <td>0.20</td>\n",
       "      <td>0.750</td>\n",
       "    </tr>\n",
       "    <tr>\n",
       "      <th>7536</th>\n",
       "      <td>1.01</td>\n",
       "      <td>45.00</td>\n",
       "      <td>100.50</td>\n",
       "      <td>5.09</td>\n",
       "      <td>90</td>\n",
       "      <td>9.50</td>\n",
       "      <td>0.05</td>\n",
       "      <td>0.01</td>\n",
       "      <td>0.475</td>\n",
       "    </tr>\n",
       "    <tr>\n",
       "      <th>7442</th>\n",
       "      <td>1.79</td>\n",
       "      <td>45.00</td>\n",
       "      <td>133.79</td>\n",
       "      <td>10.00</td>\n",
       "      <td>90</td>\n",
       "      <td>9.50</td>\n",
       "      <td>0.08</td>\n",
       "      <td>0.02</td>\n",
       "      <td>0.476</td>\n",
       "    </tr>\n",
       "    <tr>\n",
       "      <th>3378</th>\n",
       "      <td>1.83</td>\n",
       "      <td>65.00</td>\n",
       "      <td>135.28</td>\n",
       "      <td>61.67</td>\n",
       "      <td>80</td>\n",
       "      <td>15.00</td>\n",
       "      <td>0.22</td>\n",
       "      <td>0.08</td>\n",
       "      <td>0.811</td>\n",
       "    </tr>\n",
       "    <tr>\n",
       "      <th>5982</th>\n",
       "      <td>1.65</td>\n",
       "      <td>65.00</td>\n",
       "      <td>128.45</td>\n",
       "      <td>61.67</td>\n",
       "      <td>80</td>\n",
       "      <td>1.58</td>\n",
       "      <td>0.01</td>\n",
       "      <td>0.00</td>\n",
       "      <td>0.549</td>\n",
       "    </tr>\n",
       "    <tr>\n",
       "      <th>8103</th>\n",
       "      <td>0.35</td>\n",
       "      <td>10.00</td>\n",
       "      <td>59.16</td>\n",
       "      <td>15.00</td>\n",
       "      <td>10</td>\n",
       "      <td>12.67</td>\n",
       "      <td>0.01</td>\n",
       "      <td>0.00</td>\n",
       "      <td>0.294</td>\n",
       "    </tr>\n",
       "    <tr>\n",
       "      <th>2960</th>\n",
       "      <td>0.33</td>\n",
       "      <td>5.09</td>\n",
       "      <td>57.45</td>\n",
       "      <td>10.00</td>\n",
       "      <td>10</td>\n",
       "      <td>38.33</td>\n",
       "      <td>0.10</td>\n",
       "      <td>0.07</td>\n",
       "      <td>0.765</td>\n",
       "    </tr>\n",
       "    <tr>\n",
       "      <th>4011</th>\n",
       "      <td>1.92</td>\n",
       "      <td>5.09</td>\n",
       "      <td>138.56</td>\n",
       "      <td>15.00</td>\n",
       "      <td>10</td>\n",
       "      <td>3.17</td>\n",
       "      <td>0.00</td>\n",
       "      <td>0.00</td>\n",
       "      <td>0.033</td>\n",
       "    </tr>\n",
       "    <tr>\n",
       "      <th>6180</th>\n",
       "      <td>0.49</td>\n",
       "      <td>5.09</td>\n",
       "      <td>70.00</td>\n",
       "      <td>15.00</td>\n",
       "      <td>10</td>\n",
       "      <td>6.33</td>\n",
       "      <td>0.00</td>\n",
       "      <td>0.00</td>\n",
       "      <td>0.044</td>\n",
       "    </tr>\n",
       "    <tr>\n",
       "      <th>210</th>\n",
       "      <td>1.30</td>\n",
       "      <td>15.00</td>\n",
       "      <td>114.02</td>\n",
       "      <td>5.09</td>\n",
       "      <td>5</td>\n",
       "      <td>10.10</td>\n",
       "      <td>0.02</td>\n",
       "      <td>0.01</td>\n",
       "      <td>0.137</td>\n",
       "    </tr>\n",
       "    <tr>\n",
       "      <th>8626</th>\n",
       "      <td>0.37</td>\n",
       "      <td>15.00</td>\n",
       "      <td>60.83</td>\n",
       "      <td>30.00</td>\n",
       "      <td>5</td>\n",
       "      <td>12.67</td>\n",
       "      <td>0.01</td>\n",
       "      <td>0.00</td>\n",
       "      <td>0.169</td>\n",
       "    </tr>\n",
       "    <tr>\n",
       "      <th>1919</th>\n",
       "      <td>1.17</td>\n",
       "      <td>22.50</td>\n",
       "      <td>108.17</td>\n",
       "      <td>10.00</td>\n",
       "      <td>70</td>\n",
       "      <td>20.00</td>\n",
       "      <td>0.15</td>\n",
       "      <td>0.08</td>\n",
       "      <td>0.624</td>\n",
       "    </tr>\n",
       "    <tr>\n",
       "      <th>718</th>\n",
       "      <td>1.84</td>\n",
       "      <td>10.00</td>\n",
       "      <td>135.65</td>\n",
       "      <td>5.09</td>\n",
       "      <td>10</td>\n",
       "      <td>10.10</td>\n",
       "      <td>0.04</td>\n",
       "      <td>0.02</td>\n",
       "      <td>0.192</td>\n",
       "    </tr>\n",
       "    <tr>\n",
       "      <th>5327</th>\n",
       "      <td>0.30</td>\n",
       "      <td>10.00</td>\n",
       "      <td>54.77</td>\n",
       "      <td>20.00</td>\n",
       "      <td>10</td>\n",
       "      <td>1.58</td>\n",
       "      <td>0.00</td>\n",
       "      <td>0.00</td>\n",
       "      <td>0.028</td>\n",
       "    </tr>\n",
       "    <tr>\n",
       "      <th>9985</th>\n",
       "      <td>1.17</td>\n",
       "      <td>2.33</td>\n",
       "      <td>108.17</td>\n",
       "      <td>2.33</td>\n",
       "      <td>10</td>\n",
       "      <td>0.32</td>\n",
       "      <td>0.00</td>\n",
       "      <td>0.00</td>\n",
       "      <td>0.002</td>\n",
       "    </tr>\n",
       "    <tr>\n",
       "      <th>1298</th>\n",
       "      <td>1.22</td>\n",
       "      <td>10.00</td>\n",
       "      <td>110.45</td>\n",
       "      <td>5.09</td>\n",
       "      <td>10</td>\n",
       "      <td>20.00</td>\n",
       "      <td>0.13</td>\n",
       "      <td>0.06</td>\n",
       "      <td>0.521</td>\n",
       "    </tr>\n",
       "    <tr>\n",
       "      <th>4441</th>\n",
       "      <td>0.83</td>\n",
       "      <td>5.09</td>\n",
       "      <td>91.10</td>\n",
       "      <td>10.00</td>\n",
       "      <td>10</td>\n",
       "      <td>3.17</td>\n",
       "      <td>0.00</td>\n",
       "      <td>0.00</td>\n",
       "      <td>0.033</td>\n",
       "    </tr>\n",
       "    <tr>\n",
       "      <th>6495</th>\n",
       "      <td>0.92</td>\n",
       "      <td>22.50</td>\n",
       "      <td>95.92</td>\n",
       "      <td>5.09</td>\n",
       "      <td>70</td>\n",
       "      <td>6.33</td>\n",
       "      <td>0.01</td>\n",
       "      <td>0.00</td>\n",
       "      <td>0.216</td>\n",
       "    </tr>\n",
       "    <tr>\n",
       "      <th>9597</th>\n",
       "      <td>0.30</td>\n",
       "      <td>83.33</td>\n",
       "      <td>54.77</td>\n",
       "      <td>45.00</td>\n",
       "      <td>80</td>\n",
       "      <td>0.32</td>\n",
       "      <td>0.00</td>\n",
       "      <td>0.00</td>\n",
       "      <td>0.668</td>\n",
       "    </tr>\n",
       "    <tr>\n",
       "      <th>8042</th>\n",
       "      <td>1.41</td>\n",
       "      <td>22.50</td>\n",
       "      <td>118.74</td>\n",
       "      <td>2.33</td>\n",
       "      <td>70</td>\n",
       "      <td>12.67</td>\n",
       "      <td>0.06</td>\n",
       "      <td>0.01</td>\n",
       "      <td>0.324</td>\n",
       "    </tr>\n",
       "    <tr>\n",
       "      <th>3903</th>\n",
       "      <td>0.30</td>\n",
       "      <td>45.00</td>\n",
       "      <td>54.77</td>\n",
       "      <td>10.00</td>\n",
       "      <td>90</td>\n",
       "      <td>15.00</td>\n",
       "      <td>0.03</td>\n",
       "      <td>0.01</td>\n",
       "      <td>0.684</td>\n",
       "    </tr>\n",
       "    <tr>\n",
       "      <th>9934</th>\n",
       "      <td>1.38</td>\n",
       "      <td>15.00</td>\n",
       "      <td>117.47</td>\n",
       "      <td>10.00</td>\n",
       "      <td>5</td>\n",
       "      <td>0.32</td>\n",
       "      <td>0.00</td>\n",
       "      <td>0.00</td>\n",
       "      <td>0.007</td>\n",
       "    </tr>\n",
       "    <tr>\n",
       "      <th>3790</th>\n",
       "      <td>0.19</td>\n",
       "      <td>5.09</td>\n",
       "      <td>43.59</td>\n",
       "      <td>15.00</td>\n",
       "      <td>10</td>\n",
       "      <td>15.00</td>\n",
       "      <td>0.01</td>\n",
       "      <td>0.00</td>\n",
       "      <td>0.419</td>\n",
       "    </tr>\n",
       "    <tr>\n",
       "      <th>4074</th>\n",
       "      <td>1.07</td>\n",
       "      <td>5.09</td>\n",
       "      <td>103.44</td>\n",
       "      <td>15.00</td>\n",
       "      <td>10</td>\n",
       "      <td>3.17</td>\n",
       "      <td>0.00</td>\n",
       "      <td>0.00</td>\n",
       "      <td>0.033</td>\n",
       "    </tr>\n",
       "    <tr>\n",
       "      <th>1287</th>\n",
       "      <td>1.52</td>\n",
       "      <td>30.00</td>\n",
       "      <td>123.29</td>\n",
       "      <td>5.09</td>\n",
       "      <td>80</td>\n",
       "      <td>20.00</td>\n",
       "      <td>0.20</td>\n",
       "      <td>0.13</td>\n",
       "      <td>0.670</td>\n",
       "    </tr>\n",
       "    <tr>\n",
       "      <th>8999</th>\n",
       "      <td>0.35</td>\n",
       "      <td>45.00</td>\n",
       "      <td>59.16</td>\n",
       "      <td>15.00</td>\n",
       "      <td>90</td>\n",
       "      <td>12.67</td>\n",
       "      <td>0.03</td>\n",
       "      <td>0.01</td>\n",
       "      <td>0.623</td>\n",
       "    </tr>\n",
       "    <tr>\n",
       "      <th>6388</th>\n",
       "      <td>0.84</td>\n",
       "      <td>30.00</td>\n",
       "      <td>91.65</td>\n",
       "      <td>5.09</td>\n",
       "      <td>80</td>\n",
       "      <td>6.33</td>\n",
       "      <td>0.02</td>\n",
       "      <td>0.00</td>\n",
       "      <td>0.293</td>\n",
       "    </tr>\n",
       "  </tbody>\n",
       "</table>\n",
       "</div>"
      ],
      "text/plain": [
       "      Area  PercImperv   Width  PercSlope  PctZero  TotalPrecip  TotalRunoffMG  PeakRunoff  RunoffCoeff\n",
       "2270  0.02       10.00   14.14      20.00       10        38.33           0.01        0.01        0.825\n",
       "8668  1.87       10.00  136.75      20.00       10        12.67           0.06        0.01        0.256\n",
       "8293  0.81       10.00   90.00      20.00       10        12.67           0.03        0.01        0.280\n",
       "7868  1.46       10.00  120.83       5.09       10         9.50           0.01        0.00        0.101\n",
       "1095  1.61        5.09  126.89      15.00       10        20.00           0.19        0.14        0.590\n",
       "3131  0.58       15.00   76.16      30.00        5        15.00           0.02        0.01        0.259\n",
       "8116  1.96       10.00  140.00       5.09       10        12.67           0.05        0.01        0.214\n",
       "1561  0.89        5.09   94.34      15.00       10        20.00           0.11        0.09        0.606\n",
       "1670  1.52       65.00  123.29      61.67       80        20.00           0.27        0.21        0.879\n",
       "9951  1.68       45.00  129.61       5.09       90         0.32           0.00        0.00        0.403\n",
       "4553  1.90       15.00  137.84       5.09        5         3.17           0.01        0.00        0.090\n",
       "4113  0.43       10.00   65.57      20.00       10         3.17           0.00        0.00        0.064\n",
       "4394  1.34       10.00  115.76       2.33       10         3.17           0.00        0.00        0.064\n",
       "4631  1.35        2.33  116.19       2.33       10         3.17           0.00        0.00        0.015\n",
       "3527  1.78       10.00  133.42      20.00       10        15.00           0.10        0.02        0.358\n",
       "2002  0.50       20.00  300.00       5.00       70        38.33           0.16        0.13        0.832\n",
       "9572  0.48       83.33   69.28      45.00       80         0.32           0.00        0.00        0.668\n",
       "168   0.96       10.00   97.98      20.00       10        10.10           0.02        0.02        0.257\n",
       "3465  1.60        5.09  126.49      10.00       10        15.00           0.07        0.02        0.302\n",
       "9516  1.32       65.00  114.89      61.67       80         0.32           0.00        0.00        0.520\n",
       "9539  1.55       65.00  124.50      61.67       80         0.32           0.00        0.00        0.520\n",
       "2133  0.67       65.00   81.85      61.67       80        38.33           0.24        0.18        0.941\n",
       "4421  1.20        2.33  109.54       2.33       10         3.17           0.00        0.00        0.015\n",
       "2036  1.41       22.50  118.74       2.33       70        38.33           0.41        0.20        0.750\n",
       "7536  1.01       45.00  100.50       5.09       90         9.50           0.05        0.01        0.475\n",
       "7442  1.79       45.00  133.79      10.00       90         9.50           0.08        0.02        0.476\n",
       "3378  1.83       65.00  135.28      61.67       80        15.00           0.22        0.08        0.811\n",
       "5982  1.65       65.00  128.45      61.67       80         1.58           0.01        0.00        0.549\n",
       "8103  0.35       10.00   59.16      15.00       10        12.67           0.01        0.00        0.294\n",
       "2960  0.33        5.09   57.45      10.00       10        38.33           0.10        0.07        0.765\n",
       "4011  1.92        5.09  138.56      15.00       10         3.17           0.00        0.00        0.033\n",
       "6180  0.49        5.09   70.00      15.00       10         6.33           0.00        0.00        0.044\n",
       "210   1.30       15.00  114.02       5.09        5        10.10           0.02        0.01        0.137\n",
       "8626  0.37       15.00   60.83      30.00        5        12.67           0.01        0.00        0.169\n",
       "1919  1.17       22.50  108.17      10.00       70        20.00           0.15        0.08        0.624\n",
       "718   1.84       10.00  135.65       5.09       10        10.10           0.04        0.02        0.192\n",
       "5327  0.30       10.00   54.77      20.00       10         1.58           0.00        0.00        0.028\n",
       "9985  1.17        2.33  108.17       2.33       10         0.32           0.00        0.00        0.002\n",
       "1298  1.22       10.00  110.45       5.09       10        20.00           0.13        0.06        0.521\n",
       "4441  0.83        5.09   91.10      10.00       10         3.17           0.00        0.00        0.033\n",
       "6495  0.92       22.50   95.92       5.09       70         6.33           0.01        0.00        0.216\n",
       "9597  0.30       83.33   54.77      45.00       80         0.32           0.00        0.00        0.668\n",
       "8042  1.41       22.50  118.74       2.33       70        12.67           0.06        0.01        0.324\n",
       "3903  0.30       45.00   54.77      10.00       90        15.00           0.03        0.01        0.684\n",
       "9934  1.38       15.00  117.47      10.00        5         0.32           0.00        0.00        0.007\n",
       "3790  0.19        5.09   43.59      15.00       10        15.00           0.01        0.00        0.419\n",
       "4074  1.07        5.09  103.44      15.00       10         3.17           0.00        0.00        0.033\n",
       "1287  1.52       30.00  123.29       5.09       80        20.00           0.20        0.13        0.670\n",
       "8999  0.35       45.00   59.16      15.00       90        12.67           0.03        0.01        0.623\n",
       "6388  0.84       30.00   91.65       5.09       80         6.33           0.02        0.00        0.293"
      ]
     },
     "execution_count": 16,
     "metadata": {},
     "output_type": "execute_result"
    }
   ],
   "source": [
    "X_train[:50]"
   ]
  },
  {
   "cell_type": "code",
   "execution_count": 21,
   "id": "032eda89-3cee-4040-9553-2a353e39b1d0",
   "metadata": {
    "tags": []
   },
   "outputs": [],
   "source": [
    "normalizer = Normalization()\n",
    "normalizer.adapt(np.array(X_train))\n"
   ]
  },
  {
   "attachments": {},
   "cell_type": "markdown",
   "id": "43dae304-a279-430d-baa1-ebe5d19f1c98",
   "metadata": {},
   "source": [
    "# Build the model"
   ]
  },
  {
   "cell_type": "code",
   "execution_count": 22,
   "id": "99b2e114-ff60-4200-ae35-f80089181eb9",
   "metadata": {
    "tags": []
   },
   "outputs": [
    {
     "data": {
      "text/html": [
       "<pre style=\"white-space:pre;overflow-x:auto;line-height:normal;font-family:Menlo,'DejaVu Sans Mono',consolas,'Courier New',monospace\"><span style=\"font-weight: bold\">Model: \"sequential_1\"</span>\n",
       "</pre>\n"
      ],
      "text/plain": [
       "\u001b[1mModel: \"sequential_1\"\u001b[0m\n"
      ]
     },
     "metadata": {},
     "output_type": "display_data"
    },
    {
     "data": {
      "text/html": [
       "<pre style=\"white-space:pre;overflow-x:auto;line-height:normal;font-family:Menlo,'DejaVu Sans Mono',consolas,'Courier New',monospace\">┏━━━━━━━━━━━━━━━━━━━━━━━━━━━━━━━━━┳━━━━━━━━━━━━━━━━━━━━━━━━┳━━━━━━━━━━━━━━━┓\n",
       "┃<span style=\"font-weight: bold\"> Layer (type)                    </span>┃<span style=\"font-weight: bold\"> Output Shape           </span>┃<span style=\"font-weight: bold\">       Param # </span>┃\n",
       "┡━━━━━━━━━━━━━━━━━━━━━━━━━━━━━━━━━╇━━━━━━━━━━━━━━━━━━━━━━━━╇━━━━━━━━━━━━━━━┩\n",
       "│ normalization_1 (<span style=\"color: #0087ff; text-decoration-color: #0087ff\">Normalization</span>) │ (<span style=\"color: #00d7ff; text-decoration-color: #00d7ff\">None</span>, <span style=\"color: #00af00; text-decoration-color: #00af00\">9</span>)              │            <span style=\"color: #00af00; text-decoration-color: #00af00\">19</span> │\n",
       "├─────────────────────────────────┼────────────────────────┼───────────────┤\n",
       "│ dense_3 (<span style=\"color: #0087ff; text-decoration-color: #0087ff\">Dense</span>)                 │ (<span style=\"color: #00d7ff; text-decoration-color: #00d7ff\">None</span>, <span style=\"color: #00af00; text-decoration-color: #00af00\">9</span>)              │            <span style=\"color: #00af00; text-decoration-color: #00af00\">90</span> │\n",
       "├─────────────────────────────────┼────────────────────────┼───────────────┤\n",
       "│ dropout_2 (<span style=\"color: #0087ff; text-decoration-color: #0087ff\">Dropout</span>)             │ (<span style=\"color: #00d7ff; text-decoration-color: #00d7ff\">None</span>, <span style=\"color: #00af00; text-decoration-color: #00af00\">9</span>)              │             <span style=\"color: #00af00; text-decoration-color: #00af00\">0</span> │\n",
       "├─────────────────────────────────┼────────────────────────┼───────────────┤\n",
       "│ dense_4 (<span style=\"color: #0087ff; text-decoration-color: #0087ff\">Dense</span>)                 │ (<span style=\"color: #00d7ff; text-decoration-color: #00d7ff\">None</span>, <span style=\"color: #00af00; text-decoration-color: #00af00\">18</span>)             │           <span style=\"color: #00af00; text-decoration-color: #00af00\">180</span> │\n",
       "├─────────────────────────────────┼────────────────────────┼───────────────┤\n",
       "│ dropout_3 (<span style=\"color: #0087ff; text-decoration-color: #0087ff\">Dropout</span>)             │ (<span style=\"color: #00d7ff; text-decoration-color: #00d7ff\">None</span>, <span style=\"color: #00af00; text-decoration-color: #00af00\">18</span>)             │             <span style=\"color: #00af00; text-decoration-color: #00af00\">0</span> │\n",
       "├─────────────────────────────────┼────────────────────────┼───────────────┤\n",
       "│ dense_5 (<span style=\"color: #0087ff; text-decoration-color: #0087ff\">Dense</span>)                 │ (<span style=\"color: #00d7ff; text-decoration-color: #00d7ff\">None</span>, <span style=\"color: #00af00; text-decoration-color: #00af00\">7</span>)              │           <span style=\"color: #00af00; text-decoration-color: #00af00\">133</span> │\n",
       "└─────────────────────────────────┴────────────────────────┴───────────────┘\n",
       "</pre>\n"
      ],
      "text/plain": [
       "┏━━━━━━━━━━━━━━━━━━━━━━━━━━━━━━━━━┳━━━━━━━━━━━━━━━━━━━━━━━━┳━━━━━━━━━━━━━━━┓\n",
       "┃\u001b[1m \u001b[0m\u001b[1mLayer (type)                   \u001b[0m\u001b[1m \u001b[0m┃\u001b[1m \u001b[0m\u001b[1mOutput Shape          \u001b[0m\u001b[1m \u001b[0m┃\u001b[1m \u001b[0m\u001b[1m      Param #\u001b[0m\u001b[1m \u001b[0m┃\n",
       "┡━━━━━━━━━━━━━━━━━━━━━━━━━━━━━━━━━╇━━━━━━━━━━━━━━━━━━━━━━━━╇━━━━━━━━━━━━━━━┩\n",
       "│ normalization_1 (\u001b[38;5;33mNormalization\u001b[0m) │ (\u001b[38;5;45mNone\u001b[0m, \u001b[38;5;34m9\u001b[0m)              │            \u001b[38;5;34m19\u001b[0m │\n",
       "├─────────────────────────────────┼────────────────────────┼───────────────┤\n",
       "│ dense_3 (\u001b[38;5;33mDense\u001b[0m)                 │ (\u001b[38;5;45mNone\u001b[0m, \u001b[38;5;34m9\u001b[0m)              │            \u001b[38;5;34m90\u001b[0m │\n",
       "├─────────────────────────────────┼────────────────────────┼───────────────┤\n",
       "│ dropout_2 (\u001b[38;5;33mDropout\u001b[0m)             │ (\u001b[38;5;45mNone\u001b[0m, \u001b[38;5;34m9\u001b[0m)              │             \u001b[38;5;34m0\u001b[0m │\n",
       "├─────────────────────────────────┼────────────────────────┼───────────────┤\n",
       "│ dense_4 (\u001b[38;5;33mDense\u001b[0m)                 │ (\u001b[38;5;45mNone\u001b[0m, \u001b[38;5;34m18\u001b[0m)             │           \u001b[38;5;34m180\u001b[0m │\n",
       "├─────────────────────────────────┼────────────────────────┼───────────────┤\n",
       "│ dropout_3 (\u001b[38;5;33mDropout\u001b[0m)             │ (\u001b[38;5;45mNone\u001b[0m, \u001b[38;5;34m18\u001b[0m)             │             \u001b[38;5;34m0\u001b[0m │\n",
       "├─────────────────────────────────┼────────────────────────┼───────────────┤\n",
       "│ dense_5 (\u001b[38;5;33mDense\u001b[0m)                 │ (\u001b[38;5;45mNone\u001b[0m, \u001b[38;5;34m7\u001b[0m)              │           \u001b[38;5;34m133\u001b[0m │\n",
       "└─────────────────────────────────┴────────────────────────┴───────────────┘\n"
      ]
     },
     "metadata": {},
     "output_type": "display_data"
    },
    {
     "data": {
      "text/html": [
       "<pre style=\"white-space:pre;overflow-x:auto;line-height:normal;font-family:Menlo,'DejaVu Sans Mono',consolas,'Courier New',monospace\"><span style=\"font-weight: bold\"> Total params: </span><span style=\"color: #00af00; text-decoration-color: #00af00\">422</span> (1.65 KB)\n",
       "</pre>\n"
      ],
      "text/plain": [
       "\u001b[1m Total params: \u001b[0m\u001b[38;5;34m422\u001b[0m (1.65 KB)\n"
      ]
     },
     "metadata": {},
     "output_type": "display_data"
    },
    {
     "data": {
      "text/html": [
       "<pre style=\"white-space:pre;overflow-x:auto;line-height:normal;font-family:Menlo,'DejaVu Sans Mono',consolas,'Courier New',monospace\"><span style=\"font-weight: bold\"> Trainable params: </span><span style=\"color: #00af00; text-decoration-color: #00af00\">403</span> (1.57 KB)\n",
       "</pre>\n"
      ],
      "text/plain": [
       "\u001b[1m Trainable params: \u001b[0m\u001b[38;5;34m403\u001b[0m (1.57 KB)\n"
      ]
     },
     "metadata": {},
     "output_type": "display_data"
    },
    {
     "data": {
      "text/html": [
       "<pre style=\"white-space:pre;overflow-x:auto;line-height:normal;font-family:Menlo,'DejaVu Sans Mono',consolas,'Courier New',monospace\"><span style=\"font-weight: bold\"> Non-trainable params: </span><span style=\"color: #00af00; text-decoration-color: #00af00\">19</span> (80.00 B)\n",
       "</pre>\n"
      ],
      "text/plain": [
       "\u001b[1m Non-trainable params: \u001b[0m\u001b[38;5;34m19\u001b[0m (80.00 B)\n"
      ]
     },
     "metadata": {},
     "output_type": "display_data"
    }
   ],
   "source": [
    "# model = Sequential()\n",
    "# model.add(normalizer)\n",
    "# model.add(Dense(units=X_train.shape[1], activation='relu', input_dim=X_train.shape[1]))\n",
    "# model.add(Dropout(0.2))\n",
    "# model.add(Dense(18, activation='relu'))\n",
    "# model.add(Dropout(0.2))\n",
    "# model.add(Dense(units=y_train.shape[1], activation='softmax'))\n",
    "# model.summary()\n",
    "\n",
    "\n",
    "model = Sequential([\n",
    "    Input(shape=(X_train.shape[1],)),  # Dodanie Input Layer zamiast input_dim w Dense\n",
    "    normalizer,\n",
    "    Dense(units=X_train.shape[1], activation='relu'),\n",
    "    Dropout(0.2),\n",
    "    Dense(18, activation='relu'),\n",
    "    Dropout(0.2),\n",
    "    Dense(units=y_train.shape[1], activation='softmax')\n",
    "])\n",
    "\n",
    "model.summary()"
   ]
  },
  {
   "cell_type": "code",
   "execution_count": 23,
   "id": "61ddff67-e74f-4454-a253-40577f7a2722",
   "metadata": {
    "tags": []
   },
   "outputs": [
    {
     "name": "stdout",
     "output_type": "stream",
     "text": [
      "Epoch 1/100\n",
      "\u001b[1m501/501\u001b[0m \u001b[32m━━━━━━━━━━━━━━━━━━━━\u001b[0m\u001b[37m\u001b[0m \u001b[1m3s\u001b[0m 3ms/step - accuracy: 0.3532 - loss: 1.7535 - val_accuracy: 0.6708 - val_loss: 0.9539\n",
      "Epoch 2/100\n",
      "\u001b[1m501/501\u001b[0m \u001b[32m━━━━━━━━━━━━━━━━━━━━\u001b[0m\u001b[37m\u001b[0m \u001b[1m1s\u001b[0m 3ms/step - accuracy: 0.5907 - loss: 1.0527 - val_accuracy: 0.7348 - val_loss: 0.6809\n",
      "Epoch 3/100\n",
      "\u001b[1m501/501\u001b[0m \u001b[32m━━━━━━━━━━━━━━━━━━━━\u001b[0m\u001b[37m\u001b[0m \u001b[1m1s\u001b[0m 3ms/step - accuracy: 0.6653 - loss: 0.8309 - val_accuracy: 0.8671 - val_loss: 0.5327\n",
      "Epoch 4/100\n",
      "\u001b[1m501/501\u001b[0m \u001b[32m━━━━━━━━━━━━━━━━━━━━\u001b[0m\u001b[37m\u001b[0m \u001b[1m1s\u001b[0m 3ms/step - accuracy: 0.7289 - loss: 0.6997 - val_accuracy: 0.9161 - val_loss: 0.4087\n",
      "Epoch 5/100\n",
      "\u001b[1m501/501\u001b[0m \u001b[32m━━━━━━━━━━━━━━━━━━━━\u001b[0m\u001b[37m\u001b[0m \u001b[1m1s\u001b[0m 3ms/step - accuracy: 0.7770 - loss: 0.5953 - val_accuracy: 0.9231 - val_loss: 0.3052\n",
      "Epoch 6/100\n",
      "\u001b[1m501/501\u001b[0m \u001b[32m━━━━━━━━━━━━━━━━━━━━\u001b[0m\u001b[37m\u001b[0m \u001b[1m1s\u001b[0m 3ms/step - accuracy: 0.7938 - loss: 0.5162 - val_accuracy: 0.9261 - val_loss: 0.2320\n",
      "Epoch 7/100\n",
      "\u001b[1m501/501\u001b[0m \u001b[32m━━━━━━━━━━━━━━━━━━━━\u001b[0m\u001b[37m\u001b[0m \u001b[1m1s\u001b[0m 3ms/step - accuracy: 0.8298 - loss: 0.4315 - val_accuracy: 0.9266 - val_loss: 0.1658\n",
      "Epoch 8/100\n",
      "\u001b[1m501/501\u001b[0m \u001b[32m━━━━━━━━━━━━━━━━━━━━\u001b[0m\u001b[37m\u001b[0m \u001b[1m1s\u001b[0m 3ms/step - accuracy: 0.8566 - loss: 0.3714 - val_accuracy: 0.9870 - val_loss: 0.1183\n",
      "Epoch 9/100\n",
      "\u001b[1m501/501\u001b[0m \u001b[32m━━━━━━━━━━━━━━━━━━━━\u001b[0m\u001b[37m\u001b[0m \u001b[1m1s\u001b[0m 3ms/step - accuracy: 0.8989 - loss: 0.2856 - val_accuracy: 0.9965 - val_loss: 0.0863\n",
      "Epoch 10/100\n",
      "\u001b[1m501/501\u001b[0m \u001b[32m━━━━━━━━━━━━━━━━━━━━\u001b[0m\u001b[37m\u001b[0m \u001b[1m1s\u001b[0m 3ms/step - accuracy: 0.9005 - loss: 0.2681 - val_accuracy: 0.9935 - val_loss: 0.0663\n",
      "Epoch 11/100\n",
      "\u001b[1m501/501\u001b[0m \u001b[32m━━━━━━━━━━━━━━━━━━━━\u001b[0m\u001b[37m\u001b[0m \u001b[1m1s\u001b[0m 3ms/step - accuracy: 0.9160 - loss: 0.2372 - val_accuracy: 0.9975 - val_loss: 0.0537\n",
      "Epoch 12/100\n",
      "\u001b[1m501/501\u001b[0m \u001b[32m━━━━━━━━━━━━━━━━━━━━\u001b[0m\u001b[37m\u001b[0m \u001b[1m1s\u001b[0m 3ms/step - accuracy: 0.9208 - loss: 0.2193 - val_accuracy: 1.0000 - val_loss: 0.0408\n",
      "Epoch 13/100\n",
      "\u001b[1m501/501\u001b[0m \u001b[32m━━━━━━━━━━━━━━━━━━━━\u001b[0m\u001b[37m\u001b[0m \u001b[1m1s\u001b[0m 2ms/step - accuracy: 0.9267 - loss: 0.1987 - val_accuracy: 1.0000 - val_loss: 0.0311\n",
      "Epoch 14/100\n",
      "\u001b[1m501/501\u001b[0m \u001b[32m━━━━━━━━━━━━━━━━━━━━\u001b[0m\u001b[37m\u001b[0m \u001b[1m1s\u001b[0m 3ms/step - accuracy: 0.9335 - loss: 0.1821 - val_accuracy: 1.0000 - val_loss: 0.0296\n",
      "Epoch 15/100\n",
      "\u001b[1m501/501\u001b[0m \u001b[32m━━━━━━━━━━━━━━━━━━━━\u001b[0m\u001b[37m\u001b[0m \u001b[1m1s\u001b[0m 3ms/step - accuracy: 0.9432 - loss: 0.1639 - val_accuracy: 1.0000 - val_loss: 0.0261\n",
      "Epoch 16/100\n",
      "\u001b[1m501/501\u001b[0m \u001b[32m━━━━━━━━━━━━━━━━━━━━\u001b[0m\u001b[37m\u001b[0m \u001b[1m1s\u001b[0m 3ms/step - accuracy: 0.9489 - loss: 0.1479 - val_accuracy: 1.0000 - val_loss: 0.0219\n",
      "Epoch 17/100\n",
      "\u001b[1m501/501\u001b[0m \u001b[32m━━━━━━━━━━━━━━━━━━━━\u001b[0m\u001b[37m\u001b[0m \u001b[1m1s\u001b[0m 3ms/step - accuracy: 0.9461 - loss: 0.1580 - val_accuracy: 1.0000 - val_loss: 0.0218\n",
      "Epoch 18/100\n",
      "\u001b[1m501/501\u001b[0m \u001b[32m━━━━━━━━━━━━━━━━━━━━\u001b[0m\u001b[37m\u001b[0m \u001b[1m1s\u001b[0m 3ms/step - accuracy: 0.9440 - loss: 0.1534 - val_accuracy: 1.0000 - val_loss: 0.0171\n",
      "Epoch 19/100\n",
      "\u001b[1m501/501\u001b[0m \u001b[32m━━━━━━━━━━━━━━━━━━━━\u001b[0m\u001b[37m\u001b[0m \u001b[1m1s\u001b[0m 3ms/step - accuracy: 0.9535 - loss: 0.1331 - val_accuracy: 1.0000 - val_loss: 0.0186\n",
      "Epoch 20/100\n",
      "\u001b[1m501/501\u001b[0m \u001b[32m━━━━━━━━━━━━━━━━━━━━\u001b[0m\u001b[37m\u001b[0m \u001b[1m1s\u001b[0m 3ms/step - accuracy: 0.9569 - loss: 0.1290 - val_accuracy: 1.0000 - val_loss: 0.0155\n",
      "Epoch 21/100\n",
      "\u001b[1m501/501\u001b[0m \u001b[32m━━━━━━━━━━━━━━━━━━━━\u001b[0m\u001b[37m\u001b[0m \u001b[1m1s\u001b[0m 2ms/step - accuracy: 0.9561 - loss: 0.1203 - val_accuracy: 1.0000 - val_loss: 0.0119\n",
      "Epoch 22/100\n",
      "\u001b[1m501/501\u001b[0m \u001b[32m━━━━━━━━━━━━━━━━━━━━\u001b[0m\u001b[37m\u001b[0m \u001b[1m1s\u001b[0m 3ms/step - accuracy: 0.9575 - loss: 0.1245 - val_accuracy: 1.0000 - val_loss: 0.0162\n",
      "Epoch 23/100\n",
      "\u001b[1m501/501\u001b[0m \u001b[32m━━━━━━━━━━━━━━━━━━━━\u001b[0m\u001b[37m\u001b[0m \u001b[1m1s\u001b[0m 3ms/step - accuracy: 0.9614 - loss: 0.1139 - val_accuracy: 1.0000 - val_loss: 0.0121\n",
      "Epoch 24/100\n",
      "\u001b[1m501/501\u001b[0m \u001b[32m━━━━━━━━━━━━━━━━━━━━\u001b[0m\u001b[37m\u001b[0m \u001b[1m1s\u001b[0m 3ms/step - accuracy: 0.9637 - loss: 0.1091 - val_accuracy: 1.0000 - val_loss: 0.0122\n",
      "Epoch 25/100\n",
      "\u001b[1m501/501\u001b[0m \u001b[32m━━━━━━━━━━━━━━━━━━━━\u001b[0m\u001b[37m\u001b[0m \u001b[1m1s\u001b[0m 3ms/step - accuracy: 0.9701 - loss: 0.1027 - val_accuracy: 1.0000 - val_loss: 0.0091\n",
      "Epoch 26/100\n",
      "\u001b[1m501/501\u001b[0m \u001b[32m━━━━━━━━━━━━━━━━━━━━\u001b[0m\u001b[37m\u001b[0m \u001b[1m1s\u001b[0m 3ms/step - accuracy: 0.9619 - loss: 0.1105 - val_accuracy: 1.0000 - val_loss: 0.0116\n",
      "Epoch 27/100\n",
      "\u001b[1m501/501\u001b[0m \u001b[32m━━━━━━━━━━━━━━━━━━━━\u001b[0m\u001b[37m\u001b[0m \u001b[1m1s\u001b[0m 3ms/step - accuracy: 0.9705 - loss: 0.0939 - val_accuracy: 1.0000 - val_loss: 0.0103\n",
      "Epoch 28/100\n",
      "\u001b[1m501/501\u001b[0m \u001b[32m━━━━━━━━━━━━━━━━━━━━\u001b[0m\u001b[37m\u001b[0m \u001b[1m1s\u001b[0m 3ms/step - accuracy: 0.9618 - loss: 0.1089 - val_accuracy: 1.0000 - val_loss: 0.0093\n",
      "Epoch 29/100\n",
      "\u001b[1m501/501\u001b[0m \u001b[32m━━━━━━━━━━━━━━━━━━━━\u001b[0m\u001b[37m\u001b[0m \u001b[1m1s\u001b[0m 3ms/step - accuracy: 0.9626 - loss: 0.1057 - val_accuracy: 1.0000 - val_loss: 0.0078\n",
      "Epoch 30/100\n",
      "\u001b[1m501/501\u001b[0m \u001b[32m━━━━━━━━━━━━━━━━━━━━\u001b[0m\u001b[37m\u001b[0m \u001b[1m1s\u001b[0m 3ms/step - accuracy: 0.9707 - loss: 0.0967 - val_accuracy: 1.0000 - val_loss: 0.0083\n",
      "Epoch 31/100\n",
      "\u001b[1m501/501\u001b[0m \u001b[32m━━━━━━━━━━━━━━━━━━━━\u001b[0m\u001b[37m\u001b[0m \u001b[1m1s\u001b[0m 3ms/step - accuracy: 0.9669 - loss: 0.1009 - val_accuracy: 1.0000 - val_loss: 0.0078\n",
      "Epoch 32/100\n",
      "\u001b[1m501/501\u001b[0m \u001b[32m━━━━━━━━━━━━━━━━━━━━\u001b[0m\u001b[37m\u001b[0m \u001b[1m1s\u001b[0m 3ms/step - accuracy: 0.9698 - loss: 0.0972 - val_accuracy: 1.0000 - val_loss: 0.0077\n",
      "Epoch 33/100\n",
      "\u001b[1m501/501\u001b[0m \u001b[32m━━━━━━━━━━━━━━━━━━━━\u001b[0m\u001b[37m\u001b[0m \u001b[1m1s\u001b[0m 3ms/step - accuracy: 0.9673 - loss: 0.0937 - val_accuracy: 1.0000 - val_loss: 0.0078\n",
      "Epoch 34/100\n",
      "\u001b[1m501/501\u001b[0m \u001b[32m━━━━━━━━━━━━━━━━━━━━\u001b[0m\u001b[37m\u001b[0m \u001b[1m1s\u001b[0m 3ms/step - accuracy: 0.9690 - loss: 0.0911 - val_accuracy: 1.0000 - val_loss: 0.0057\n",
      "Epoch 35/100\n",
      "\u001b[1m501/501\u001b[0m \u001b[32m━━━━━━━━━━━━━━━━━━━━\u001b[0m\u001b[37m\u001b[0m \u001b[1m1s\u001b[0m 3ms/step - accuracy: 0.9719 - loss: 0.0861 - val_accuracy: 1.0000 - val_loss: 0.0068\n",
      "Epoch 36/100\n",
      "\u001b[1m501/501\u001b[0m \u001b[32m━━━━━━━━━━━━━━━━━━━━\u001b[0m\u001b[37m\u001b[0m \u001b[1m1s\u001b[0m 3ms/step - accuracy: 0.9741 - loss: 0.0802 - val_accuracy: 1.0000 - val_loss: 0.0051\n",
      "Epoch 37/100\n",
      "\u001b[1m501/501\u001b[0m \u001b[32m━━━━━━━━━━━━━━━━━━━━\u001b[0m\u001b[37m\u001b[0m \u001b[1m1s\u001b[0m 3ms/step - accuracy: 0.9730 - loss: 0.0835 - val_accuracy: 1.0000 - val_loss: 0.0072\n",
      "Epoch 38/100\n",
      "\u001b[1m501/501\u001b[0m \u001b[32m━━━━━━━━━━━━━━━━━━━━\u001b[0m\u001b[37m\u001b[0m \u001b[1m1s\u001b[0m 3ms/step - accuracy: 0.9772 - loss: 0.0751 - val_accuracy: 1.0000 - val_loss: 0.0060\n",
      "Epoch 39/100\n",
      "\u001b[1m501/501\u001b[0m \u001b[32m━━━━━━━━━━━━━━━━━━━━\u001b[0m\u001b[37m\u001b[0m \u001b[1m1s\u001b[0m 3ms/step - accuracy: 0.9692 - loss: 0.0894 - val_accuracy: 1.0000 - val_loss: 0.0056\n",
      "Epoch 40/100\n",
      "\u001b[1m501/501\u001b[0m \u001b[32m━━━━━━━━━━━━━━━━━━━━\u001b[0m\u001b[37m\u001b[0m \u001b[1m1s\u001b[0m 3ms/step - accuracy: 0.9707 - loss: 0.0888 - val_accuracy: 1.0000 - val_loss: 0.0059\n",
      "Epoch 41/100\n",
      "\u001b[1m501/501\u001b[0m \u001b[32m━━━━━━━━━━━━━━━━━━━━\u001b[0m\u001b[37m\u001b[0m \u001b[1m1s\u001b[0m 3ms/step - accuracy: 0.9727 - loss: 0.0876 - val_accuracy: 1.0000 - val_loss: 0.0066\n",
      "Epoch 42/100\n",
      "\u001b[1m501/501\u001b[0m \u001b[32m━━━━━━━━━━━━━━━━━━━━\u001b[0m\u001b[37m\u001b[0m \u001b[1m1s\u001b[0m 3ms/step - accuracy: 0.9717 - loss: 0.0849 - val_accuracy: 1.0000 - val_loss: 0.0063\n",
      "Epoch 43/100\n",
      "\u001b[1m501/501\u001b[0m \u001b[32m━━━━━━━━━━━━━━━━━━━━\u001b[0m\u001b[37m\u001b[0m \u001b[1m1s\u001b[0m 3ms/step - accuracy: 0.9709 - loss: 0.0844 - val_accuracy: 1.0000 - val_loss: 0.0072\n",
      "Epoch 44/100\n",
      "\u001b[1m501/501\u001b[0m \u001b[32m━━━━━━━━━━━━━━━━━━━━\u001b[0m\u001b[37m\u001b[0m \u001b[1m1s\u001b[0m 3ms/step - accuracy: 0.9732 - loss: 0.0886 - val_accuracy: 1.0000 - val_loss: 0.0058\n",
      "Epoch 45/100\n",
      "\u001b[1m501/501\u001b[0m \u001b[32m━━━━━━━━━━━━━━━━━━━━\u001b[0m\u001b[37m\u001b[0m \u001b[1m1s\u001b[0m 3ms/step - accuracy: 0.9771 - loss: 0.0740 - val_accuracy: 1.0000 - val_loss: 0.0051\n",
      "Epoch 46/100\n",
      "\u001b[1m501/501\u001b[0m \u001b[32m━━━━━━━━━━━━━━━━━━━━\u001b[0m\u001b[37m\u001b[0m \u001b[1m1s\u001b[0m 3ms/step - accuracy: 0.9755 - loss: 0.0729 - val_accuracy: 1.0000 - val_loss: 0.0075\n",
      "Epoch 47/100\n",
      "\u001b[1m501/501\u001b[0m \u001b[32m━━━━━━━━━━━━━━━━━━━━\u001b[0m\u001b[37m\u001b[0m \u001b[1m1s\u001b[0m 3ms/step - accuracy: 0.9719 - loss: 0.0833 - val_accuracy: 1.0000 - val_loss: 0.0061\n",
      "Epoch 48/100\n",
      "\u001b[1m501/501\u001b[0m \u001b[32m━━━━━━━━━━━━━━━━━━━━\u001b[0m\u001b[37m\u001b[0m \u001b[1m1s\u001b[0m 3ms/step - accuracy: 0.9746 - loss: 0.0890 - val_accuracy: 1.0000 - val_loss: 0.0039\n",
      "Epoch 49/100\n",
      "\u001b[1m501/501\u001b[0m \u001b[32m━━━━━━━━━━━━━━━━━━━━\u001b[0m\u001b[37m\u001b[0m \u001b[1m1s\u001b[0m 3ms/step - accuracy: 0.9757 - loss: 0.0786 - val_accuracy: 1.0000 - val_loss: 0.0050\n",
      "Epoch 50/100\n",
      "\u001b[1m501/501\u001b[0m \u001b[32m━━━━━━━━━━━━━━━━━━━━\u001b[0m\u001b[37m\u001b[0m \u001b[1m1s\u001b[0m 3ms/step - accuracy: 0.9756 - loss: 0.0814 - val_accuracy: 1.0000 - val_loss: 0.0030\n",
      "Epoch 51/100\n",
      "\u001b[1m501/501\u001b[0m \u001b[32m━━━━━━━━━━━━━━━━━━━━\u001b[0m\u001b[37m\u001b[0m \u001b[1m1s\u001b[0m 3ms/step - accuracy: 0.9748 - loss: 0.0723 - val_accuracy: 1.0000 - val_loss: 0.0105\n",
      "Epoch 52/100\n",
      "\u001b[1m501/501\u001b[0m \u001b[32m━━━━━━━━━━━━━━━━━━━━\u001b[0m\u001b[37m\u001b[0m \u001b[1m1s\u001b[0m 3ms/step - accuracy: 0.9723 - loss: 0.0786 - val_accuracy: 1.0000 - val_loss: 0.0058\n",
      "Epoch 53/100\n",
      "\u001b[1m501/501\u001b[0m \u001b[32m━━━━━━━━━━━━━━━━━━━━\u001b[0m\u001b[37m\u001b[0m \u001b[1m1s\u001b[0m 3ms/step - accuracy: 0.9674 - loss: 0.0859 - val_accuracy: 1.0000 - val_loss: 0.0041\n",
      "Epoch 54/100\n",
      "\u001b[1m501/501\u001b[0m \u001b[32m━━━━━━━━━━━━━━━━━━━━\u001b[0m\u001b[37m\u001b[0m \u001b[1m1s\u001b[0m 3ms/step - accuracy: 0.9736 - loss: 0.0778 - val_accuracy: 1.0000 - val_loss: 0.0062\n",
      "Epoch 55/100\n",
      "\u001b[1m501/501\u001b[0m \u001b[32m━━━━━━━━━━━━━━━━━━━━\u001b[0m\u001b[37m\u001b[0m \u001b[1m1s\u001b[0m 3ms/step - accuracy: 0.9744 - loss: 0.0691 - val_accuracy: 1.0000 - val_loss: 0.0045\n",
      "Epoch 56/100\n",
      "\u001b[1m501/501\u001b[0m \u001b[32m━━━━━━━━━━━━━━━━━━━━\u001b[0m\u001b[37m\u001b[0m \u001b[1m1s\u001b[0m 3ms/step - accuracy: 0.9688 - loss: 0.0805 - val_accuracy: 1.0000 - val_loss: 0.0049\n",
      "Epoch 57/100\n",
      "\u001b[1m501/501\u001b[0m \u001b[32m━━━━━━━━━━━━━━━━━━━━\u001b[0m\u001b[37m\u001b[0m \u001b[1m1s\u001b[0m 3ms/step - accuracy: 0.9698 - loss: 0.0797 - val_accuracy: 1.0000 - val_loss: 0.0038\n",
      "Epoch 58/100\n",
      "\u001b[1m501/501\u001b[0m \u001b[32m━━━━━━━━━━━━━━━━━━━━\u001b[0m\u001b[37m\u001b[0m \u001b[1m1s\u001b[0m 3ms/step - accuracy: 0.9770 - loss: 0.0707 - val_accuracy: 1.0000 - val_loss: 0.0041\n",
      "Epoch 59/100\n",
      "\u001b[1m501/501\u001b[0m \u001b[32m━━━━━━━━━━━━━━━━━━━━\u001b[0m\u001b[37m\u001b[0m \u001b[1m1s\u001b[0m 3ms/step - accuracy: 0.9737 - loss: 0.0716 - val_accuracy: 1.0000 - val_loss: 0.0041\n",
      "Epoch 60/100\n",
      "\u001b[1m501/501\u001b[0m \u001b[32m━━━━━━━━━━━━━━━━━━━━\u001b[0m\u001b[37m\u001b[0m \u001b[1m1s\u001b[0m 3ms/step - accuracy: 0.9799 - loss: 0.0620 - val_accuracy: 1.0000 - val_loss: 0.0042\n"
     ]
    }
   ],
   "source": [
    "model.compile(\n",
    "    optimizer='adam',\n",
    "    loss='categorical_crossentropy',\n",
    "    metrics=['accuracy']\n",
    ")\n",
    "history = model.fit(\n",
    "    x=X_train,\n",
    "    y=y_train,\n",
    "    epochs=100,\n",
    "    validation_data=(X_test, y_test),\n",
    "    validation_split=0.2,\n",
    "    verbose=1,\n",
    "    batch_size=16,\n",
    "    callbacks=[EarlyStopping(monitor='val_loss', patience=10)]\n",
    ")"
   ]
  },
  {
   "cell_type": "code",
   "execution_count": 24,
   "id": "5f0e2731-5e33-42c8-9f6b-139e25fde8aa",
   "metadata": {
    "tags": []
   },
   "outputs": [
    {
     "name": "stdout",
     "output_type": "stream",
     "text": [
      "\u001b[1m63/63\u001b[0m \u001b[32m━━━━━━━━━━━━━━━━━━━━\u001b[0m\u001b[37m\u001b[0m \u001b[1m0s\u001b[0m 3ms/step - accuracy: 1.0000 - loss: 0.0044\n",
      "Test set accuracy: 1.000\n"
     ]
    }
   ],
   "source": [
    "# Evaluate ANN model\n",
    "loss, accuracy = model.evaluate(X_test, y_test)\n",
    "print(f\"Test set accuracy: {accuracy:.3f}\")"
   ]
  },
  {
   "cell_type": "code",
   "execution_count": 25,
   "id": "5ca7057a-6890-4505-852c-6c1226a798f6",
   "metadata": {},
   "outputs": [
    {
     "name": "stdout",
     "output_type": "stream",
     "text": [
      "\u001b[1m63/63\u001b[0m \u001b[32m━━━━━━━━━━━━━━━━━━━━\u001b[0m\u001b[37m\u001b[0m \u001b[1m0s\u001b[0m 3ms/step\n"
     ]
    }
   ],
   "source": [
    "# model.predict(X_test)\n",
    "y_pred = model.predict(X_test)"
   ]
  },
  {
   "cell_type": "code",
   "execution_count": 26,
   "id": "5a615160",
   "metadata": {},
   "outputs": [
    {
     "data": {
      "text/html": [
       "<div>\n",
       "<style scoped>\n",
       "    .dataframe tbody tr th:only-of-type {\n",
       "        vertical-align: middle;\n",
       "    }\n",
       "\n",
       "    .dataframe tbody tr th {\n",
       "        vertical-align: top;\n",
       "    }\n",
       "\n",
       "    .dataframe thead th {\n",
       "        text-align: right;\n",
       "    }\n",
       "</style>\n",
       "<table border=\"1\" class=\"dataframe\">\n",
       "  <thead>\n",
       "    <tr style=\"text-align: right;\">\n",
       "      <th></th>\n",
       "      <th>accuracy</th>\n",
       "      <th>loss</th>\n",
       "      <th>val_accuracy</th>\n",
       "      <th>val_loss</th>\n",
       "      <th>epoch</th>\n",
       "    </tr>\n",
       "  </thead>\n",
       "  <tbody>\n",
       "    <tr>\n",
       "      <th>0</th>\n",
       "      <td>0.468781</td>\n",
       "      <td>1.497201</td>\n",
       "      <td>0.670829</td>\n",
       "      <td>0.953897</td>\n",
       "      <td>0</td>\n",
       "    </tr>\n",
       "    <tr>\n",
       "      <th>1</th>\n",
       "      <td>0.625125</td>\n",
       "      <td>0.963627</td>\n",
       "      <td>0.734765</td>\n",
       "      <td>0.680919</td>\n",
       "      <td>1</td>\n",
       "    </tr>\n",
       "    <tr>\n",
       "      <th>2</th>\n",
       "      <td>0.692932</td>\n",
       "      <td>0.788740</td>\n",
       "      <td>0.867133</td>\n",
       "      <td>0.532650</td>\n",
       "      <td>2</td>\n",
       "    </tr>\n",
       "    <tr>\n",
       "      <th>3</th>\n",
       "      <td>0.745504</td>\n",
       "      <td>0.673396</td>\n",
       "      <td>0.916084</td>\n",
       "      <td>0.408687</td>\n",
       "      <td>3</td>\n",
       "    </tr>\n",
       "    <tr>\n",
       "      <th>4</th>\n",
       "      <td>0.781344</td>\n",
       "      <td>0.573008</td>\n",
       "      <td>0.923077</td>\n",
       "      <td>0.305236</td>\n",
       "      <td>4</td>\n",
       "    </tr>\n",
       "    <tr>\n",
       "      <th>5</th>\n",
       "      <td>0.802448</td>\n",
       "      <td>0.492889</td>\n",
       "      <td>0.926074</td>\n",
       "      <td>0.231999</td>\n",
       "      <td>5</td>\n",
       "    </tr>\n",
       "    <tr>\n",
       "      <th>6</th>\n",
       "      <td>0.834915</td>\n",
       "      <td>0.415817</td>\n",
       "      <td>0.926573</td>\n",
       "      <td>0.165817</td>\n",
       "      <td>6</td>\n",
       "    </tr>\n",
       "    <tr>\n",
       "      <th>7</th>\n",
       "      <td>0.871379</td>\n",
       "      <td>0.347341</td>\n",
       "      <td>0.987013</td>\n",
       "      <td>0.118346</td>\n",
       "      <td>7</td>\n",
       "    </tr>\n",
       "    <tr>\n",
       "      <th>8</th>\n",
       "      <td>0.899351</td>\n",
       "      <td>0.282165</td>\n",
       "      <td>0.996503</td>\n",
       "      <td>0.086296</td>\n",
       "      <td>8</td>\n",
       "    </tr>\n",
       "    <tr>\n",
       "      <th>9</th>\n",
       "      <td>0.907343</td>\n",
       "      <td>0.255308</td>\n",
       "      <td>0.993506</td>\n",
       "      <td>0.066328</td>\n",
       "      <td>9</td>\n",
       "    </tr>\n",
       "    <tr>\n",
       "      <th>10</th>\n",
       "      <td>0.918581</td>\n",
       "      <td>0.227141</td>\n",
       "      <td>0.997503</td>\n",
       "      <td>0.053698</td>\n",
       "      <td>10</td>\n",
       "    </tr>\n",
       "    <tr>\n",
       "      <th>11</th>\n",
       "      <td>0.926823</td>\n",
       "      <td>0.206477</td>\n",
       "      <td>1.000000</td>\n",
       "      <td>0.040758</td>\n",
       "      <td>11</td>\n",
       "    </tr>\n",
       "    <tr>\n",
       "      <th>12</th>\n",
       "      <td>0.926199</td>\n",
       "      <td>0.203388</td>\n",
       "      <td>1.000000</td>\n",
       "      <td>0.031081</td>\n",
       "      <td>12</td>\n",
       "    </tr>\n",
       "    <tr>\n",
       "      <th>13</th>\n",
       "      <td>0.933067</td>\n",
       "      <td>0.185585</td>\n",
       "      <td>1.000000</td>\n",
       "      <td>0.029580</td>\n",
       "      <td>13</td>\n",
       "    </tr>\n",
       "    <tr>\n",
       "      <th>14</th>\n",
       "      <td>0.941683</td>\n",
       "      <td>0.165537</td>\n",
       "      <td>1.000000</td>\n",
       "      <td>0.026132</td>\n",
       "      <td>14</td>\n",
       "    </tr>\n",
       "    <tr>\n",
       "      <th>15</th>\n",
       "      <td>0.948801</td>\n",
       "      <td>0.149304</td>\n",
       "      <td>1.000000</td>\n",
       "      <td>0.021852</td>\n",
       "      <td>15</td>\n",
       "    </tr>\n",
       "    <tr>\n",
       "      <th>16</th>\n",
       "      <td>0.943432</td>\n",
       "      <td>0.155680</td>\n",
       "      <td>1.000000</td>\n",
       "      <td>0.021801</td>\n",
       "      <td>16</td>\n",
       "    </tr>\n",
       "    <tr>\n",
       "      <th>17</th>\n",
       "      <td>0.946553</td>\n",
       "      <td>0.150751</td>\n",
       "      <td>1.000000</td>\n",
       "      <td>0.017053</td>\n",
       "      <td>17</td>\n",
       "    </tr>\n",
       "    <tr>\n",
       "      <th>18</th>\n",
       "      <td>0.953172</td>\n",
       "      <td>0.134330</td>\n",
       "      <td>1.000000</td>\n",
       "      <td>0.018617</td>\n",
       "      <td>18</td>\n",
       "    </tr>\n",
       "    <tr>\n",
       "      <th>19</th>\n",
       "      <td>0.955420</td>\n",
       "      <td>0.125064</td>\n",
       "      <td>1.000000</td>\n",
       "      <td>0.015501</td>\n",
       "      <td>19</td>\n",
       "    </tr>\n",
       "    <tr>\n",
       "      <th>20</th>\n",
       "      <td>0.958042</td>\n",
       "      <td>0.119188</td>\n",
       "      <td>1.000000</td>\n",
       "      <td>0.011922</td>\n",
       "      <td>20</td>\n",
       "    </tr>\n",
       "    <tr>\n",
       "      <th>21</th>\n",
       "      <td>0.957043</td>\n",
       "      <td>0.125400</td>\n",
       "      <td>1.000000</td>\n",
       "      <td>0.016165</td>\n",
       "      <td>21</td>\n",
       "    </tr>\n",
       "    <tr>\n",
       "      <th>22</th>\n",
       "      <td>0.961164</td>\n",
       "      <td>0.113114</td>\n",
       "      <td>1.000000</td>\n",
       "      <td>0.012138</td>\n",
       "      <td>22</td>\n",
       "    </tr>\n",
       "    <tr>\n",
       "      <th>23</th>\n",
       "      <td>0.960539</td>\n",
       "      <td>0.116760</td>\n",
       "      <td>1.000000</td>\n",
       "      <td>0.012164</td>\n",
       "      <td>23</td>\n",
       "    </tr>\n",
       "    <tr>\n",
       "      <th>24</th>\n",
       "      <td>0.966034</td>\n",
       "      <td>0.105455</td>\n",
       "      <td>1.000000</td>\n",
       "      <td>0.009127</td>\n",
       "      <td>24</td>\n",
       "    </tr>\n",
       "    <tr>\n",
       "      <th>25</th>\n",
       "      <td>0.962288</td>\n",
       "      <td>0.111213</td>\n",
       "      <td>1.000000</td>\n",
       "      <td>0.011560</td>\n",
       "      <td>25</td>\n",
       "    </tr>\n",
       "    <tr>\n",
       "      <th>26</th>\n",
       "      <td>0.969780</td>\n",
       "      <td>0.096111</td>\n",
       "      <td>1.000000</td>\n",
       "      <td>0.010320</td>\n",
       "      <td>26</td>\n",
       "    </tr>\n",
       "    <tr>\n",
       "      <th>27</th>\n",
       "      <td>0.967033</td>\n",
       "      <td>0.100795</td>\n",
       "      <td>1.000000</td>\n",
       "      <td>0.009257</td>\n",
       "      <td>27</td>\n",
       "    </tr>\n",
       "    <tr>\n",
       "      <th>28</th>\n",
       "      <td>0.968407</td>\n",
       "      <td>0.096451</td>\n",
       "      <td>1.000000</td>\n",
       "      <td>0.007841</td>\n",
       "      <td>28</td>\n",
       "    </tr>\n",
       "    <tr>\n",
       "      <th>29</th>\n",
       "      <td>0.969281</td>\n",
       "      <td>0.098660</td>\n",
       "      <td>1.000000</td>\n",
       "      <td>0.008300</td>\n",
       "      <td>29</td>\n",
       "    </tr>\n",
       "    <tr>\n",
       "      <th>30</th>\n",
       "      <td>0.967033</td>\n",
       "      <td>0.098068</td>\n",
       "      <td>1.000000</td>\n",
       "      <td>0.007789</td>\n",
       "      <td>30</td>\n",
       "    </tr>\n",
       "    <tr>\n",
       "      <th>31</th>\n",
       "      <td>0.969281</td>\n",
       "      <td>0.094319</td>\n",
       "      <td>1.000000</td>\n",
       "      <td>0.007687</td>\n",
       "      <td>31</td>\n",
       "    </tr>\n",
       "    <tr>\n",
       "      <th>32</th>\n",
       "      <td>0.967283</td>\n",
       "      <td>0.096850</td>\n",
       "      <td>1.000000</td>\n",
       "      <td>0.007753</td>\n",
       "      <td>32</td>\n",
       "    </tr>\n",
       "    <tr>\n",
       "      <th>33</th>\n",
       "      <td>0.968407</td>\n",
       "      <td>0.091327</td>\n",
       "      <td>1.000000</td>\n",
       "      <td>0.005744</td>\n",
       "      <td>33</td>\n",
       "    </tr>\n",
       "    <tr>\n",
       "      <th>34</th>\n",
       "      <td>0.970654</td>\n",
       "      <td>0.088815</td>\n",
       "      <td>1.000000</td>\n",
       "      <td>0.006808</td>\n",
       "      <td>34</td>\n",
       "    </tr>\n",
       "    <tr>\n",
       "      <th>35</th>\n",
       "      <td>0.974276</td>\n",
       "      <td>0.078172</td>\n",
       "      <td>1.000000</td>\n",
       "      <td>0.005138</td>\n",
       "      <td>35</td>\n",
       "    </tr>\n",
       "    <tr>\n",
       "      <th>36</th>\n",
       "      <td>0.971778</td>\n",
       "      <td>0.081738</td>\n",
       "      <td>1.000000</td>\n",
       "      <td>0.007151</td>\n",
       "      <td>36</td>\n",
       "    </tr>\n",
       "    <tr>\n",
       "      <th>37</th>\n",
       "      <td>0.976399</td>\n",
       "      <td>0.077703</td>\n",
       "      <td>1.000000</td>\n",
       "      <td>0.005990</td>\n",
       "      <td>37</td>\n",
       "    </tr>\n",
       "    <tr>\n",
       "      <th>38</th>\n",
       "      <td>0.972278</td>\n",
       "      <td>0.083489</td>\n",
       "      <td>1.000000</td>\n",
       "      <td>0.005567</td>\n",
       "      <td>38</td>\n",
       "    </tr>\n",
       "    <tr>\n",
       "      <th>39</th>\n",
       "      <td>0.972652</td>\n",
       "      <td>0.084790</td>\n",
       "      <td>1.000000</td>\n",
       "      <td>0.005921</td>\n",
       "      <td>39</td>\n",
       "    </tr>\n",
       "    <tr>\n",
       "      <th>40</th>\n",
       "      <td>0.971279</td>\n",
       "      <td>0.090854</td>\n",
       "      <td>1.000000</td>\n",
       "      <td>0.006650</td>\n",
       "      <td>40</td>\n",
       "    </tr>\n",
       "    <tr>\n",
       "      <th>41</th>\n",
       "      <td>0.970280</td>\n",
       "      <td>0.087106</td>\n",
       "      <td>1.000000</td>\n",
       "      <td>0.006340</td>\n",
       "      <td>41</td>\n",
       "    </tr>\n",
       "    <tr>\n",
       "      <th>42</th>\n",
       "      <td>0.971528</td>\n",
       "      <td>0.084451</td>\n",
       "      <td>1.000000</td>\n",
       "      <td>0.007182</td>\n",
       "      <td>42</td>\n",
       "    </tr>\n",
       "    <tr>\n",
       "      <th>43</th>\n",
       "      <td>0.972527</td>\n",
       "      <td>0.085317</td>\n",
       "      <td>1.000000</td>\n",
       "      <td>0.005803</td>\n",
       "      <td>43</td>\n",
       "    </tr>\n",
       "    <tr>\n",
       "      <th>44</th>\n",
       "      <td>0.975275</td>\n",
       "      <td>0.080474</td>\n",
       "      <td>1.000000</td>\n",
       "      <td>0.005136</td>\n",
       "      <td>44</td>\n",
       "    </tr>\n",
       "    <tr>\n",
       "      <th>45</th>\n",
       "      <td>0.971653</td>\n",
       "      <td>0.082772</td>\n",
       "      <td>1.000000</td>\n",
       "      <td>0.007464</td>\n",
       "      <td>45</td>\n",
       "    </tr>\n",
       "    <tr>\n",
       "      <th>46</th>\n",
       "      <td>0.972777</td>\n",
       "      <td>0.079911</td>\n",
       "      <td>1.000000</td>\n",
       "      <td>0.006094</td>\n",
       "      <td>46</td>\n",
       "    </tr>\n",
       "    <tr>\n",
       "      <th>47</th>\n",
       "      <td>0.973651</td>\n",
       "      <td>0.085543</td>\n",
       "      <td>1.000000</td>\n",
       "      <td>0.003860</td>\n",
       "      <td>47</td>\n",
       "    </tr>\n",
       "    <tr>\n",
       "      <th>48</th>\n",
       "      <td>0.973776</td>\n",
       "      <td>0.080990</td>\n",
       "      <td>1.000000</td>\n",
       "      <td>0.005012</td>\n",
       "      <td>48</td>\n",
       "    </tr>\n",
       "    <tr>\n",
       "      <th>49</th>\n",
       "      <td>0.974650</td>\n",
       "      <td>0.077077</td>\n",
       "      <td>1.000000</td>\n",
       "      <td>0.003013</td>\n",
       "      <td>49</td>\n",
       "    </tr>\n",
       "    <tr>\n",
       "      <th>50</th>\n",
       "      <td>0.970654</td>\n",
       "      <td>0.081833</td>\n",
       "      <td>1.000000</td>\n",
       "      <td>0.010499</td>\n",
       "      <td>50</td>\n",
       "    </tr>\n",
       "    <tr>\n",
       "      <th>51</th>\n",
       "      <td>0.969905</td>\n",
       "      <td>0.083104</td>\n",
       "      <td>1.000000</td>\n",
       "      <td>0.005774</td>\n",
       "      <td>51</td>\n",
       "    </tr>\n",
       "    <tr>\n",
       "      <th>52</th>\n",
       "      <td>0.969905</td>\n",
       "      <td>0.082346</td>\n",
       "      <td>1.000000</td>\n",
       "      <td>0.004142</td>\n",
       "      <td>52</td>\n",
       "    </tr>\n",
       "    <tr>\n",
       "      <th>53</th>\n",
       "      <td>0.974900</td>\n",
       "      <td>0.074613</td>\n",
       "      <td>1.000000</td>\n",
       "      <td>0.006220</td>\n",
       "      <td>53</td>\n",
       "    </tr>\n",
       "    <tr>\n",
       "      <th>54</th>\n",
       "      <td>0.974900</td>\n",
       "      <td>0.069391</td>\n",
       "      <td>1.000000</td>\n",
       "      <td>0.004463</td>\n",
       "      <td>54</td>\n",
       "    </tr>\n",
       "    <tr>\n",
       "      <th>55</th>\n",
       "      <td>0.972278</td>\n",
       "      <td>0.078452</td>\n",
       "      <td>1.000000</td>\n",
       "      <td>0.004880</td>\n",
       "      <td>55</td>\n",
       "    </tr>\n",
       "    <tr>\n",
       "      <th>56</th>\n",
       "      <td>0.973776</td>\n",
       "      <td>0.072460</td>\n",
       "      <td>1.000000</td>\n",
       "      <td>0.003810</td>\n",
       "      <td>56</td>\n",
       "    </tr>\n",
       "    <tr>\n",
       "      <th>57</th>\n",
       "      <td>0.975524</td>\n",
       "      <td>0.073229</td>\n",
       "      <td>1.000000</td>\n",
       "      <td>0.004054</td>\n",
       "      <td>57</td>\n",
       "    </tr>\n",
       "    <tr>\n",
       "      <th>58</th>\n",
       "      <td>0.970904</td>\n",
       "      <td>0.077909</td>\n",
       "      <td>1.000000</td>\n",
       "      <td>0.004074</td>\n",
       "      <td>58</td>\n",
       "    </tr>\n",
       "    <tr>\n",
       "      <th>59</th>\n",
       "      <td>0.977398</td>\n",
       "      <td>0.068094</td>\n",
       "      <td>1.000000</td>\n",
       "      <td>0.004216</td>\n",
       "      <td>59</td>\n",
       "    </tr>\n",
       "  </tbody>\n",
       "</table>\n",
       "</div>"
      ],
      "text/plain": [
       "    accuracy      loss  val_accuracy  val_loss  epoch\n",
       "0   0.468781  1.497201      0.670829  0.953897      0\n",
       "1   0.625125  0.963627      0.734765  0.680919      1\n",
       "2   0.692932  0.788740      0.867133  0.532650      2\n",
       "3   0.745504  0.673396      0.916084  0.408687      3\n",
       "4   0.781344  0.573008      0.923077  0.305236      4\n",
       "5   0.802448  0.492889      0.926074  0.231999      5\n",
       "6   0.834915  0.415817      0.926573  0.165817      6\n",
       "7   0.871379  0.347341      0.987013  0.118346      7\n",
       "8   0.899351  0.282165      0.996503  0.086296      8\n",
       "9   0.907343  0.255308      0.993506  0.066328      9\n",
       "10  0.918581  0.227141      0.997503  0.053698     10\n",
       "11  0.926823  0.206477      1.000000  0.040758     11\n",
       "12  0.926199  0.203388      1.000000  0.031081     12\n",
       "13  0.933067  0.185585      1.000000  0.029580     13\n",
       "14  0.941683  0.165537      1.000000  0.026132     14\n",
       "15  0.948801  0.149304      1.000000  0.021852     15\n",
       "16  0.943432  0.155680      1.000000  0.021801     16\n",
       "17  0.946553  0.150751      1.000000  0.017053     17\n",
       "18  0.953172  0.134330      1.000000  0.018617     18\n",
       "19  0.955420  0.125064      1.000000  0.015501     19\n",
       "20  0.958042  0.119188      1.000000  0.011922     20\n",
       "21  0.957043  0.125400      1.000000  0.016165     21\n",
       "22  0.961164  0.113114      1.000000  0.012138     22\n",
       "23  0.960539  0.116760      1.000000  0.012164     23\n",
       "24  0.966034  0.105455      1.000000  0.009127     24\n",
       "25  0.962288  0.111213      1.000000  0.011560     25\n",
       "26  0.969780  0.096111      1.000000  0.010320     26\n",
       "27  0.967033  0.100795      1.000000  0.009257     27\n",
       "28  0.968407  0.096451      1.000000  0.007841     28\n",
       "29  0.969281  0.098660      1.000000  0.008300     29\n",
       "30  0.967033  0.098068      1.000000  0.007789     30\n",
       "31  0.969281  0.094319      1.000000  0.007687     31\n",
       "32  0.967283  0.096850      1.000000  0.007753     32\n",
       "33  0.968407  0.091327      1.000000  0.005744     33\n",
       "34  0.970654  0.088815      1.000000  0.006808     34\n",
       "35  0.974276  0.078172      1.000000  0.005138     35\n",
       "36  0.971778  0.081738      1.000000  0.007151     36\n",
       "37  0.976399  0.077703      1.000000  0.005990     37\n",
       "38  0.972278  0.083489      1.000000  0.005567     38\n",
       "39  0.972652  0.084790      1.000000  0.005921     39\n",
       "40  0.971279  0.090854      1.000000  0.006650     40\n",
       "41  0.970280  0.087106      1.000000  0.006340     41\n",
       "42  0.971528  0.084451      1.000000  0.007182     42\n",
       "43  0.972527  0.085317      1.000000  0.005803     43\n",
       "44  0.975275  0.080474      1.000000  0.005136     44\n",
       "45  0.971653  0.082772      1.000000  0.007464     45\n",
       "46  0.972777  0.079911      1.000000  0.006094     46\n",
       "47  0.973651  0.085543      1.000000  0.003860     47\n",
       "48  0.973776  0.080990      1.000000  0.005012     48\n",
       "49  0.974650  0.077077      1.000000  0.003013     49\n",
       "50  0.970654  0.081833      1.000000  0.010499     50\n",
       "51  0.969905  0.083104      1.000000  0.005774     51\n",
       "52  0.969905  0.082346      1.000000  0.004142     52\n",
       "53  0.974900  0.074613      1.000000  0.006220     53\n",
       "54  0.974900  0.069391      1.000000  0.004463     54\n",
       "55  0.972278  0.078452      1.000000  0.004880     55\n",
       "56  0.973776  0.072460      1.000000  0.003810     56\n",
       "57  0.975524  0.073229      1.000000  0.004054     57\n",
       "58  0.970904  0.077909      1.000000  0.004074     58\n",
       "59  0.977398  0.068094      1.000000  0.004216     59"
      ]
     },
     "execution_count": 26,
     "metadata": {},
     "output_type": "execute_result"
    }
   ],
   "source": [
    "metrics = pd.DataFrame(history.history)\n",
    "metrics['epoch'] = history.epoch\n",
    "metrics"
   ]
  },
  {
   "attachments": {},
   "cell_type": "markdown",
   "id": "4461c262",
   "metadata": {},
   "source": [
    "# Model evaluate"
   ]
  },
  {
   "cell_type": "code",
   "execution_count": 27,
   "id": "a42430b5",
   "metadata": {},
   "outputs": [
    {
     "data": {
      "application/vnd.plotly.v1+json": {
       "config": {
        "plotlyServerURL": "https://plot.ly"
       },
       "data": [
        {
         "name": "accuracy",
         "type": "scatter",
         "x": [
          0,
          1,
          2,
          3,
          4,
          5,
          6,
          7,
          8,
          9,
          10,
          11,
          12,
          13,
          14,
          15,
          16,
          17,
          18,
          19,
          20,
          21,
          22,
          23,
          24,
          25,
          26,
          27,
          28,
          29,
          30,
          31,
          32,
          33,
          34,
          35,
          36,
          37,
          38,
          39,
          40,
          41,
          42,
          43,
          44,
          45,
          46,
          47,
          48,
          49,
          50,
          51,
          52,
          53,
          54,
          55,
          56,
          57,
          58,
          59
         ],
         "xaxis": "x",
         "y": [
          0.4687812328338623,
          0.6251248717308044,
          0.6929320693016052,
          0.7455044984817505,
          0.7813436388969421,
          0.8024475574493408,
          0.8349151015281677,
          0.8713786005973816,
          0.899350643157959,
          0.9073426723480225,
          0.9185814261436462,
          0.9268231987953186,
          0.9261987805366516,
          0.9330669045448303,
          0.941683292388916,
          0.9488012194633484,
          0.943431556224823,
          0.9465534687042236,
          0.9531718492507935,
          0.9554196000099182,
          0.9580419659614563,
          0.957042932510376,
          0.9611638188362122,
          0.9605394601821899,
          0.9660339951515198,
          0.9622877240180969,
          0.9697802066802979,
          0.9670329689979553,
          0.968406617641449,
          0.9692807197570801,
          0.9670329689979553,
          0.9692807197570801,
          0.9672827124595642,
          0.968406617641449,
          0.9706543684005737,
          0.9742757081985474,
          0.9717782139778137,
          0.9763985872268677,
          0.9722777009010315,
          0.9726523756980896,
          0.971278727054596,
          0.9702796936035156,
          0.9715284705162048,
          0.9725274443626404,
          0.9752747416496277,
          0.9716533422470093,
          0.972777247428894,
          0.9736513495445251,
          0.9737762212753296,
          0.9746503233909607,
          0.9706543684005737,
          0.9699050784111023,
          0.9699050784111023,
          0.9749001264572144,
          0.9749001264572144,
          0.9722777009010315,
          0.9737762212753296,
          0.9755244851112366,
          0.9709041118621826,
          0.977397620677948
         ],
         "yaxis": "y"
        },
        {
         "name": "loss",
         "type": "scatter",
         "x": [
          0,
          1,
          2,
          3,
          4,
          5,
          6,
          7,
          8,
          9,
          10,
          11,
          12,
          13,
          14,
          15,
          16,
          17,
          18,
          19,
          20,
          21,
          22,
          23,
          24,
          25,
          26,
          27,
          28,
          29,
          30,
          31,
          32,
          33,
          34,
          35,
          36,
          37,
          38,
          39,
          40,
          41,
          42,
          43,
          44,
          45,
          46,
          47,
          48,
          49,
          50,
          51,
          52,
          53,
          54,
          55,
          56,
          57,
          58,
          59
         ],
         "xaxis": "x2",
         "y": [
          1.497200608253479,
          0.9636269211769104,
          0.7887401580810547,
          0.6733961701393127,
          0.573008120059967,
          0.49288877844810486,
          0.4158172309398651,
          0.3473410904407501,
          0.28216519951820374,
          0.25530803203582764,
          0.22714100778102875,
          0.20647679269313812,
          0.20338787138462067,
          0.18558543920516968,
          0.16553688049316406,
          0.14930438995361328,
          0.15567991137504578,
          0.15075090527534485,
          0.13432995975017548,
          0.12506425380706787,
          0.11918818950653076,
          0.12539950013160706,
          0.11311392486095428,
          0.11676040291786194,
          0.10545526444911957,
          0.11121270805597305,
          0.096110999584198,
          0.10079465061426163,
          0.09645106643438339,
          0.09865964949131012,
          0.09806761890649796,
          0.09431903064250946,
          0.09685005992650986,
          0.09132708609104156,
          0.08881452679634094,
          0.07817190885543823,
          0.0817379355430603,
          0.0777033194899559,
          0.08348862081766129,
          0.08478987216949463,
          0.09085417538881302,
          0.08710609376430511,
          0.0844508484005928,
          0.08531737327575684,
          0.08047366142272949,
          0.08277173340320587,
          0.0799105241894722,
          0.08554274588823318,
          0.08098989725112915,
          0.07707691937685013,
          0.08183277398347855,
          0.08310407400131226,
          0.0823458731174469,
          0.07461316883563995,
          0.06939075142145157,
          0.07845202833414078,
          0.07245970517396927,
          0.07322889566421509,
          0.07790883630514145,
          0.06809379160404205
         ],
         "yaxis": "y2"
        },
        {
         "name": "val_accuracy",
         "type": "scatter",
         "x": [
          0,
          1,
          2,
          3,
          4,
          5,
          6,
          7,
          8,
          9,
          10,
          11,
          12,
          13,
          14,
          15,
          16,
          17,
          18,
          19,
          20,
          21,
          22,
          23,
          24,
          25,
          26,
          27,
          28,
          29,
          30,
          31,
          32,
          33,
          34,
          35,
          36,
          37,
          38,
          39,
          40,
          41,
          42,
          43,
          44,
          45,
          46,
          47,
          48,
          49,
          50,
          51,
          52,
          53,
          54,
          55,
          56,
          57,
          58,
          59
         ],
         "xaxis": "x",
         "y": [
          0.670829176902771,
          0.7347652316093445,
          0.867132842540741,
          0.9160839319229126,
          0.9230769276618958,
          0.9260739088058472,
          0.9265734553337097,
          0.9870129823684692,
          0.996503472328186,
          0.9935064911842346,
          0.9975025057792664,
          1,
          1,
          1,
          1,
          1,
          1,
          1,
          1,
          1,
          1,
          1,
          1,
          1,
          1,
          1,
          1,
          1,
          1,
          1,
          1,
          1,
          1,
          1,
          1,
          1,
          1,
          1,
          1,
          1,
          1,
          1,
          1,
          1,
          1,
          1,
          1,
          1,
          1,
          1,
          1,
          1,
          1,
          1,
          1,
          1,
          1,
          1,
          1,
          1
         ],
         "yaxis": "y"
        },
        {
         "name": "val_loss",
         "type": "scatter",
         "x": [
          0,
          1,
          2,
          3,
          4,
          5,
          6,
          7,
          8,
          9,
          10,
          11,
          12,
          13,
          14,
          15,
          16,
          17,
          18,
          19,
          20,
          21,
          22,
          23,
          24,
          25,
          26,
          27,
          28,
          29,
          30,
          31,
          32,
          33,
          34,
          35,
          36,
          37,
          38,
          39,
          40,
          41,
          42,
          43,
          44,
          45,
          46,
          47,
          48,
          49,
          50,
          51,
          52,
          53,
          54,
          55,
          56,
          57,
          58,
          59
         ],
         "xaxis": "x2",
         "y": [
          0.95389723777771,
          0.6809186339378357,
          0.5326504111289978,
          0.408687025308609,
          0.30523642897605896,
          0.23199856281280518,
          0.16581672430038452,
          0.11834562569856644,
          0.08629628270864487,
          0.0663277730345726,
          0.05369817093014717,
          0.0407579205930233,
          0.031081169843673706,
          0.02957967482507229,
          0.02613195963203907,
          0.02185164950788021,
          0.021800825372338295,
          0.017053451389074326,
          0.018616847693920135,
          0.015500573441386223,
          0.011922311969101429,
          0.01616549678146839,
          0.012138284742832184,
          0.012164258398115635,
          0.00912662222981453,
          0.011559967882931232,
          0.010319986380636692,
          0.009256544522941113,
          0.007841472513973713,
          0.008299563080072403,
          0.007789260242134333,
          0.0076873525977134705,
          0.007753179408609867,
          0.005744031630456448,
          0.006807842757552862,
          0.0051382239907979965,
          0.007151184603571892,
          0.005989569239318371,
          0.005567334592342377,
          0.00592072494328022,
          0.0066496338695287704,
          0.00634040730074048,
          0.0071822525933384895,
          0.0058026621118187904,
          0.005136182531714439,
          0.007463784422725439,
          0.006094060372561216,
          0.0038597139064222574,
          0.0050124479457736015,
          0.003013423178344965,
          0.010499149560928345,
          0.005773528944700956,
          0.004141916520893574,
          0.006220096256583929,
          0.004462891258299351,
          0.004880043212324381,
          0.003810103749856353,
          0.004054064862430096,
          0.0040743593126535416,
          0.004216417670249939
         ],
         "yaxis": "y2"
        }
       ],
       "layout": {
        "template": {
         "data": {
          "bar": [
           {
            "error_x": {
             "color": "#2a3f5f"
            },
            "error_y": {
             "color": "#2a3f5f"
            },
            "marker": {
             "line": {
              "color": "#E5ECF6",
              "width": 0.5
             },
             "pattern": {
              "fillmode": "overlay",
              "size": 10,
              "solidity": 0.2
             }
            },
            "type": "bar"
           }
          ],
          "barpolar": [
           {
            "marker": {
             "line": {
              "color": "#E5ECF6",
              "width": 0.5
             },
             "pattern": {
              "fillmode": "overlay",
              "size": 10,
              "solidity": 0.2
             }
            },
            "type": "barpolar"
           }
          ],
          "carpet": [
           {
            "aaxis": {
             "endlinecolor": "#2a3f5f",
             "gridcolor": "white",
             "linecolor": "white",
             "minorgridcolor": "white",
             "startlinecolor": "#2a3f5f"
            },
            "baxis": {
             "endlinecolor": "#2a3f5f",
             "gridcolor": "white",
             "linecolor": "white",
             "minorgridcolor": "white",
             "startlinecolor": "#2a3f5f"
            },
            "type": "carpet"
           }
          ],
          "choropleth": [
           {
            "colorbar": {
             "outlinewidth": 0,
             "ticks": ""
            },
            "type": "choropleth"
           }
          ],
          "contour": [
           {
            "colorbar": {
             "outlinewidth": 0,
             "ticks": ""
            },
            "colorscale": [
             [
              0,
              "#0d0887"
             ],
             [
              0.1111111111111111,
              "#46039f"
             ],
             [
              0.2222222222222222,
              "#7201a8"
             ],
             [
              0.3333333333333333,
              "#9c179e"
             ],
             [
              0.4444444444444444,
              "#bd3786"
             ],
             [
              0.5555555555555556,
              "#d8576b"
             ],
             [
              0.6666666666666666,
              "#ed7953"
             ],
             [
              0.7777777777777778,
              "#fb9f3a"
             ],
             [
              0.8888888888888888,
              "#fdca26"
             ],
             [
              1,
              "#f0f921"
             ]
            ],
            "type": "contour"
           }
          ],
          "contourcarpet": [
           {
            "colorbar": {
             "outlinewidth": 0,
             "ticks": ""
            },
            "type": "contourcarpet"
           }
          ],
          "heatmap": [
           {
            "colorbar": {
             "outlinewidth": 0,
             "ticks": ""
            },
            "colorscale": [
             [
              0,
              "#0d0887"
             ],
             [
              0.1111111111111111,
              "#46039f"
             ],
             [
              0.2222222222222222,
              "#7201a8"
             ],
             [
              0.3333333333333333,
              "#9c179e"
             ],
             [
              0.4444444444444444,
              "#bd3786"
             ],
             [
              0.5555555555555556,
              "#d8576b"
             ],
             [
              0.6666666666666666,
              "#ed7953"
             ],
             [
              0.7777777777777778,
              "#fb9f3a"
             ],
             [
              0.8888888888888888,
              "#fdca26"
             ],
             [
              1,
              "#f0f921"
             ]
            ],
            "type": "heatmap"
           }
          ],
          "heatmapgl": [
           {
            "colorbar": {
             "outlinewidth": 0,
             "ticks": ""
            },
            "colorscale": [
             [
              0,
              "#0d0887"
             ],
             [
              0.1111111111111111,
              "#46039f"
             ],
             [
              0.2222222222222222,
              "#7201a8"
             ],
             [
              0.3333333333333333,
              "#9c179e"
             ],
             [
              0.4444444444444444,
              "#bd3786"
             ],
             [
              0.5555555555555556,
              "#d8576b"
             ],
             [
              0.6666666666666666,
              "#ed7953"
             ],
             [
              0.7777777777777778,
              "#fb9f3a"
             ],
             [
              0.8888888888888888,
              "#fdca26"
             ],
             [
              1,
              "#f0f921"
             ]
            ],
            "type": "heatmapgl"
           }
          ],
          "histogram": [
           {
            "marker": {
             "pattern": {
              "fillmode": "overlay",
              "size": 10,
              "solidity": 0.2
             }
            },
            "type": "histogram"
           }
          ],
          "histogram2d": [
           {
            "colorbar": {
             "outlinewidth": 0,
             "ticks": ""
            },
            "colorscale": [
             [
              0,
              "#0d0887"
             ],
             [
              0.1111111111111111,
              "#46039f"
             ],
             [
              0.2222222222222222,
              "#7201a8"
             ],
             [
              0.3333333333333333,
              "#9c179e"
             ],
             [
              0.4444444444444444,
              "#bd3786"
             ],
             [
              0.5555555555555556,
              "#d8576b"
             ],
             [
              0.6666666666666666,
              "#ed7953"
             ],
             [
              0.7777777777777778,
              "#fb9f3a"
             ],
             [
              0.8888888888888888,
              "#fdca26"
             ],
             [
              1,
              "#f0f921"
             ]
            ],
            "type": "histogram2d"
           }
          ],
          "histogram2dcontour": [
           {
            "colorbar": {
             "outlinewidth": 0,
             "ticks": ""
            },
            "colorscale": [
             [
              0,
              "#0d0887"
             ],
             [
              0.1111111111111111,
              "#46039f"
             ],
             [
              0.2222222222222222,
              "#7201a8"
             ],
             [
              0.3333333333333333,
              "#9c179e"
             ],
             [
              0.4444444444444444,
              "#bd3786"
             ],
             [
              0.5555555555555556,
              "#d8576b"
             ],
             [
              0.6666666666666666,
              "#ed7953"
             ],
             [
              0.7777777777777778,
              "#fb9f3a"
             ],
             [
              0.8888888888888888,
              "#fdca26"
             ],
             [
              1,
              "#f0f921"
             ]
            ],
            "type": "histogram2dcontour"
           }
          ],
          "mesh3d": [
           {
            "colorbar": {
             "outlinewidth": 0,
             "ticks": ""
            },
            "type": "mesh3d"
           }
          ],
          "parcoords": [
           {
            "line": {
             "colorbar": {
              "outlinewidth": 0,
              "ticks": ""
             }
            },
            "type": "parcoords"
           }
          ],
          "pie": [
           {
            "automargin": true,
            "type": "pie"
           }
          ],
          "scatter": [
           {
            "fillpattern": {
             "fillmode": "overlay",
             "size": 10,
             "solidity": 0.2
            },
            "type": "scatter"
           }
          ],
          "scatter3d": [
           {
            "line": {
             "colorbar": {
              "outlinewidth": 0,
              "ticks": ""
             }
            },
            "marker": {
             "colorbar": {
              "outlinewidth": 0,
              "ticks": ""
             }
            },
            "type": "scatter3d"
           }
          ],
          "scattercarpet": [
           {
            "marker": {
             "colorbar": {
              "outlinewidth": 0,
              "ticks": ""
             }
            },
            "type": "scattercarpet"
           }
          ],
          "scattergeo": [
           {
            "marker": {
             "colorbar": {
              "outlinewidth": 0,
              "ticks": ""
             }
            },
            "type": "scattergeo"
           }
          ],
          "scattergl": [
           {
            "marker": {
             "colorbar": {
              "outlinewidth": 0,
              "ticks": ""
             }
            },
            "type": "scattergl"
           }
          ],
          "scattermapbox": [
           {
            "marker": {
             "colorbar": {
              "outlinewidth": 0,
              "ticks": ""
             }
            },
            "type": "scattermapbox"
           }
          ],
          "scatterpolar": [
           {
            "marker": {
             "colorbar": {
              "outlinewidth": 0,
              "ticks": ""
             }
            },
            "type": "scatterpolar"
           }
          ],
          "scatterpolargl": [
           {
            "marker": {
             "colorbar": {
              "outlinewidth": 0,
              "ticks": ""
             }
            },
            "type": "scatterpolargl"
           }
          ],
          "scatterternary": [
           {
            "marker": {
             "colorbar": {
              "outlinewidth": 0,
              "ticks": ""
             }
            },
            "type": "scatterternary"
           }
          ],
          "surface": [
           {
            "colorbar": {
             "outlinewidth": 0,
             "ticks": ""
            },
            "colorscale": [
             [
              0,
              "#0d0887"
             ],
             [
              0.1111111111111111,
              "#46039f"
             ],
             [
              0.2222222222222222,
              "#7201a8"
             ],
             [
              0.3333333333333333,
              "#9c179e"
             ],
             [
              0.4444444444444444,
              "#bd3786"
             ],
             [
              0.5555555555555556,
              "#d8576b"
             ],
             [
              0.6666666666666666,
              "#ed7953"
             ],
             [
              0.7777777777777778,
              "#fb9f3a"
             ],
             [
              0.8888888888888888,
              "#fdca26"
             ],
             [
              1,
              "#f0f921"
             ]
            ],
            "type": "surface"
           }
          ],
          "table": [
           {
            "cells": {
             "fill": {
              "color": "#EBF0F8"
             },
             "line": {
              "color": "white"
             }
            },
            "header": {
             "fill": {
              "color": "#C8D4E3"
             },
             "line": {
              "color": "white"
             }
            },
            "type": "table"
           }
          ]
         },
         "layout": {
          "annotationdefaults": {
           "arrowcolor": "#2a3f5f",
           "arrowhead": 0,
           "arrowwidth": 1
          },
          "autotypenumbers": "strict",
          "coloraxis": {
           "colorbar": {
            "outlinewidth": 0,
            "ticks": ""
           }
          },
          "colorscale": {
           "diverging": [
            [
             0,
             "#8e0152"
            ],
            [
             0.1,
             "#c51b7d"
            ],
            [
             0.2,
             "#de77ae"
            ],
            [
             0.3,
             "#f1b6da"
            ],
            [
             0.4,
             "#fde0ef"
            ],
            [
             0.5,
             "#f7f7f7"
            ],
            [
             0.6,
             "#e6f5d0"
            ],
            [
             0.7,
             "#b8e186"
            ],
            [
             0.8,
             "#7fbc41"
            ],
            [
             0.9,
             "#4d9221"
            ],
            [
             1,
             "#276419"
            ]
           ],
           "sequential": [
            [
             0,
             "#0d0887"
            ],
            [
             0.1111111111111111,
             "#46039f"
            ],
            [
             0.2222222222222222,
             "#7201a8"
            ],
            [
             0.3333333333333333,
             "#9c179e"
            ],
            [
             0.4444444444444444,
             "#bd3786"
            ],
            [
             0.5555555555555556,
             "#d8576b"
            ],
            [
             0.6666666666666666,
             "#ed7953"
            ],
            [
             0.7777777777777778,
             "#fb9f3a"
            ],
            [
             0.8888888888888888,
             "#fdca26"
            ],
            [
             1,
             "#f0f921"
            ]
           ],
           "sequentialminus": [
            [
             0,
             "#0d0887"
            ],
            [
             0.1111111111111111,
             "#46039f"
            ],
            [
             0.2222222222222222,
             "#7201a8"
            ],
            [
             0.3333333333333333,
             "#9c179e"
            ],
            [
             0.4444444444444444,
             "#bd3786"
            ],
            [
             0.5555555555555556,
             "#d8576b"
            ],
            [
             0.6666666666666666,
             "#ed7953"
            ],
            [
             0.7777777777777778,
             "#fb9f3a"
            ],
            [
             0.8888888888888888,
             "#fdca26"
            ],
            [
             1,
             "#f0f921"
            ]
           ]
          },
          "colorway": [
           "#636efa",
           "#EF553B",
           "#00cc96",
           "#ab63fa",
           "#FFA15A",
           "#19d3f3",
           "#FF6692",
           "#B6E880",
           "#FF97FF",
           "#FECB52"
          ],
          "font": {
           "color": "#2a3f5f"
          },
          "geo": {
           "bgcolor": "white",
           "lakecolor": "white",
           "landcolor": "#E5ECF6",
           "showlakes": true,
           "showland": true,
           "subunitcolor": "white"
          },
          "hoverlabel": {
           "align": "left"
          },
          "hovermode": "closest",
          "mapbox": {
           "style": "light"
          },
          "paper_bgcolor": "white",
          "plot_bgcolor": "#E5ECF6",
          "polar": {
           "angularaxis": {
            "gridcolor": "white",
            "linecolor": "white",
            "ticks": ""
           },
           "bgcolor": "#E5ECF6",
           "radialaxis": {
            "gridcolor": "white",
            "linecolor": "white",
            "ticks": ""
           }
          },
          "scene": {
           "xaxis": {
            "backgroundcolor": "#E5ECF6",
            "gridcolor": "white",
            "gridwidth": 2,
            "linecolor": "white",
            "showbackground": true,
            "ticks": "",
            "zerolinecolor": "white"
           },
           "yaxis": {
            "backgroundcolor": "#E5ECF6",
            "gridcolor": "white",
            "gridwidth": 2,
            "linecolor": "white",
            "showbackground": true,
            "ticks": "",
            "zerolinecolor": "white"
           },
           "zaxis": {
            "backgroundcolor": "#E5ECF6",
            "gridcolor": "white",
            "gridwidth": 2,
            "linecolor": "white",
            "showbackground": true,
            "ticks": "",
            "zerolinecolor": "white"
           }
          },
          "shapedefaults": {
           "line": {
            "color": "#2a3f5f"
           }
          },
          "ternary": {
           "aaxis": {
            "gridcolor": "white",
            "linecolor": "white",
            "ticks": ""
           },
           "baxis": {
            "gridcolor": "white",
            "linecolor": "white",
            "ticks": ""
           },
           "bgcolor": "#E5ECF6",
           "caxis": {
            "gridcolor": "white",
            "linecolor": "white",
            "ticks": ""
           }
          },
          "title": {
           "x": 0.05
          },
          "xaxis": {
           "automargin": true,
           "gridcolor": "white",
           "linecolor": "white",
           "ticks": "",
           "title": {
            "standoff": 15
           },
           "zerolinecolor": "white",
           "zerolinewidth": 2
          },
          "yaxis": {
           "automargin": true,
           "gridcolor": "white",
           "linecolor": "white",
           "ticks": "",
           "title": {
            "standoff": 15
           },
           "zerolinecolor": "white",
           "zerolinewidth": 2
          }
         }
        },
        "title": {
         "text": "Accuracy and Loss"
        },
        "width": 1000,
        "xaxis": {
         "anchor": "y",
         "domain": [
          0,
          0.45
         ],
         "title": {
          "text": "epochs"
         }
        },
        "xaxis2": {
         "anchor": "y2",
         "domain": [
          0.55,
          1
         ],
         "title": {
          "text": "epochs"
         }
        },
        "yaxis": {
         "anchor": "x",
         "domain": [
          0,
          1
         ],
         "title": {
          "text": "accuracy"
         }
        },
        "yaxis2": {
         "anchor": "x2",
         "domain": [
          0,
          1
         ],
         "title": {
          "text": "loss"
         }
        }
       }
      }
     },
     "metadata": {},
     "output_type": "display_data"
    }
   ],
   "source": [
    "import plotly.graph_objects as go\n",
    "from plotly.subplots import make_subplots\n",
    "\n",
    "fig = make_subplots(rows=1, cols=2)\n",
    "fig.add_trace(go.Scatter(x=metrics['epoch'], y=metrics['accuracy'], name='accuracy'), row=1, col=1)\n",
    "fig.add_trace(go.Scatter(x=metrics['epoch'], y=metrics['loss'], name='loss'), row=1, col=2)\n",
    "fig.add_trace(go.Scatter(x=metrics['epoch'], y=metrics['val_accuracy'], name='val_accuracy'), row=1, col=1)\n",
    "fig.add_trace(go.Scatter(x=metrics['epoch'], y=metrics['val_loss'], name='val_loss'), row=1, col=2)\n",
    "\n",
    "fig.update_xaxes(title_text='epochs')\n",
    "fig.update_yaxes(title_text='accuracy', row=1, col=1)\n",
    "fig.update_yaxes(title_text='loss', row=1, col=2)\n",
    "fig.update_layout(width=1000, title='Accuracy and Loss')\n",
    "fig.show()"
   ]
  },
  {
   "cell_type": "code",
   "execution_count": 28,
   "id": "dea0d5f4",
   "metadata": {},
   "outputs": [
    {
     "name": "stdout",
     "output_type": "stream",
     "text": [
      "1.0\n"
     ]
    }
   ],
   "source": [
    "test_loss, test_acc = model.evaluate(X_test, y_test, verbose=0)\n",
    "print(test_acc)"
   ]
  },
  {
   "attachments": {},
   "cell_type": "markdown",
   "id": "dcf959ed",
   "metadata": {},
   "source": [
    "Predykcja na podstawie modelu.\n",
    "* model.evaluate(y_true, y_pred) - pozwala obliczyć metryki modelu\n",
    "* model.predict_classes() - pozwala zwrócić odpowiednio przewidziane klasy\n",
    "* model.predict_proba(), model.predict() - pozwala zwrócić prawdopodobieństwo danej klasy"
   ]
  },
  {
   "cell_type": "code",
   "execution_count": 29,
   "id": "d886fb03",
   "metadata": {},
   "outputs": [
    {
     "name": "stdout",
     "output_type": "stream",
     "text": [
      "\u001b[1m63/63\u001b[0m \u001b[32m━━━━━━━━━━━━━━━━━━━━\u001b[0m\u001b[37m\u001b[0m \u001b[1m0s\u001b[0m 2ms/step\n"
     ]
    },
    {
     "data": {
      "text/plain": [
       "array([[4.7946610e-34, 1.0000000e+00, 4.7604715e-11, ..., 6.1301779e-25, 3.4358207e-17, 8.6972562e-27],\n",
       "       [3.6285966e-36, 1.0000000e+00, 1.1931296e-09, ..., 5.2703477e-26, 3.6148277e-18, 5.4745868e-27],\n",
       "       [6.6952460e-05, 1.4827287e-16, 3.9370196e-23, ..., 6.9322764e-10, 9.9993300e-01, 4.6980023e-20],\n",
       "       ...,\n",
       "       [2.5773288e-13, 1.0000000e+00, 9.0302478e-13, ..., 2.2426110e-10, 1.0944027e-10, 6.7731287e-09],\n",
       "       [7.8852318e-06, 0.0000000e+00, 0.0000000e+00, ..., 9.9999213e-01, 0.0000000e+00, 5.8488611e-22],\n",
       "       [8.8950037e-07, 5.9983533e-05, 0.0000000e+00, ..., 1.2915916e-04, 3.4836165e-37, 9.9981004e-01]], dtype=float32)"
      ]
     },
     "execution_count": 29,
     "metadata": {},
     "output_type": "execute_result"
    }
   ],
   "source": [
    "predictions = model.predict(X_test)\n",
    "predictions"
   ]
  },
  {
   "cell_type": "code",
   "execution_count": 30,
   "id": "f0517586",
   "metadata": {},
   "outputs": [
    {
     "data": {
      "text/html": [
       "<div>\n",
       "<style scoped>\n",
       "    .dataframe tbody tr th:only-of-type {\n",
       "        vertical-align: middle;\n",
       "    }\n",
       "\n",
       "    .dataframe tbody tr th {\n",
       "        vertical-align: top;\n",
       "    }\n",
       "\n",
       "    .dataframe thead th {\n",
       "        text-align: right;\n",
       "    }\n",
       "</style>\n",
       "<table border=\"1\" class=\"dataframe\">\n",
       "  <thead>\n",
       "    <tr style=\"text-align: right;\">\n",
       "      <th></th>\n",
       "      <th>0</th>\n",
       "      <th>1</th>\n",
       "      <th>2</th>\n",
       "      <th>3</th>\n",
       "      <th>4</th>\n",
       "      <th>5</th>\n",
       "      <th>6</th>\n",
       "    </tr>\n",
       "  </thead>\n",
       "  <tbody>\n",
       "    <tr>\n",
       "      <th>0</th>\n",
       "      <td>4.794661e-34</td>\n",
       "      <td>1.000000e+00</td>\n",
       "      <td>4.760472e-11</td>\n",
       "      <td>1.587735e-12</td>\n",
       "      <td>6.130178e-25</td>\n",
       "      <td>3.435821e-17</td>\n",
       "      <td>8.697256e-27</td>\n",
       "    </tr>\n",
       "    <tr>\n",
       "      <th>1</th>\n",
       "      <td>3.628597e-36</td>\n",
       "      <td>1.000000e+00</td>\n",
       "      <td>1.193130e-09</td>\n",
       "      <td>3.409753e-13</td>\n",
       "      <td>5.270348e-26</td>\n",
       "      <td>3.614828e-18</td>\n",
       "      <td>5.474587e-27</td>\n",
       "    </tr>\n",
       "    <tr>\n",
       "      <th>2</th>\n",
       "      <td>6.695246e-05</td>\n",
       "      <td>1.482729e-16</td>\n",
       "      <td>3.937020e-23</td>\n",
       "      <td>5.892462e-11</td>\n",
       "      <td>6.932276e-10</td>\n",
       "      <td>9.999330e-01</td>\n",
       "      <td>4.698002e-20</td>\n",
       "    </tr>\n",
       "    <tr>\n",
       "      <th>3</th>\n",
       "      <td>1.868925e-03</td>\n",
       "      <td>2.392493e-04</td>\n",
       "      <td>0.000000e+00</td>\n",
       "      <td>1.445893e-31</td>\n",
       "      <td>5.974065e-03</td>\n",
       "      <td>2.642885e-19</td>\n",
       "      <td>9.919178e-01</td>\n",
       "    </tr>\n",
       "    <tr>\n",
       "      <th>4</th>\n",
       "      <td>1.554817e-05</td>\n",
       "      <td>3.907212e-21</td>\n",
       "      <td>2.905704e-33</td>\n",
       "      <td>2.212286e-13</td>\n",
       "      <td>4.195121e-14</td>\n",
       "      <td>9.999845e-01</td>\n",
       "      <td>1.468950e-31</td>\n",
       "    </tr>\n",
       "    <tr>\n",
       "      <th>...</th>\n",
       "      <td>...</td>\n",
       "      <td>...</td>\n",
       "      <td>...</td>\n",
       "      <td>...</td>\n",
       "      <td>...</td>\n",
       "      <td>...</td>\n",
       "      <td>...</td>\n",
       "    </tr>\n",
       "    <tr>\n",
       "      <th>1997</th>\n",
       "      <td>3.287582e-13</td>\n",
       "      <td>0.000000e+00</td>\n",
       "      <td>0.000000e+00</td>\n",
       "      <td>0.000000e+00</td>\n",
       "      <td>1.000000e+00</td>\n",
       "      <td>0.000000e+00</td>\n",
       "      <td>1.744623e-36</td>\n",
       "    </tr>\n",
       "    <tr>\n",
       "      <th>1998</th>\n",
       "      <td>1.198635e-05</td>\n",
       "      <td>0.000000e+00</td>\n",
       "      <td>0.000000e+00</td>\n",
       "      <td>0.000000e+00</td>\n",
       "      <td>9.999880e-01</td>\n",
       "      <td>8.759131e-38</td>\n",
       "      <td>1.069375e-21</td>\n",
       "    </tr>\n",
       "    <tr>\n",
       "      <th>1999</th>\n",
       "      <td>2.577329e-13</td>\n",
       "      <td>1.000000e+00</td>\n",
       "      <td>9.030248e-13</td>\n",
       "      <td>1.605759e-11</td>\n",
       "      <td>2.242611e-10</td>\n",
       "      <td>1.094403e-10</td>\n",
       "      <td>6.773129e-09</td>\n",
       "    </tr>\n",
       "    <tr>\n",
       "      <th>2000</th>\n",
       "      <td>7.885232e-06</td>\n",
       "      <td>0.000000e+00</td>\n",
       "      <td>0.000000e+00</td>\n",
       "      <td>0.000000e+00</td>\n",
       "      <td>9.999921e-01</td>\n",
       "      <td>0.000000e+00</td>\n",
       "      <td>5.848861e-22</td>\n",
       "    </tr>\n",
       "    <tr>\n",
       "      <th>2001</th>\n",
       "      <td>8.895004e-07</td>\n",
       "      <td>5.998353e-05</td>\n",
       "      <td>0.000000e+00</td>\n",
       "      <td>0.000000e+00</td>\n",
       "      <td>1.291592e-04</td>\n",
       "      <td>3.483617e-37</td>\n",
       "      <td>9.998100e-01</td>\n",
       "    </tr>\n",
       "  </tbody>\n",
       "</table>\n",
       "<p>2002 rows × 7 columns</p>\n",
       "</div>"
      ],
      "text/plain": [
       "                 0             1             2             3             4             5             6\n",
       "0     4.794661e-34  1.000000e+00  4.760472e-11  1.587735e-12  6.130178e-25  3.435821e-17  8.697256e-27\n",
       "1     3.628597e-36  1.000000e+00  1.193130e-09  3.409753e-13  5.270348e-26  3.614828e-18  5.474587e-27\n",
       "2     6.695246e-05  1.482729e-16  3.937020e-23  5.892462e-11  6.932276e-10  9.999330e-01  4.698002e-20\n",
       "3     1.868925e-03  2.392493e-04  0.000000e+00  1.445893e-31  5.974065e-03  2.642885e-19  9.919178e-01\n",
       "4     1.554817e-05  3.907212e-21  2.905704e-33  2.212286e-13  4.195121e-14  9.999845e-01  1.468950e-31\n",
       "...            ...           ...           ...           ...           ...           ...           ...\n",
       "1997  3.287582e-13  0.000000e+00  0.000000e+00  0.000000e+00  1.000000e+00  0.000000e+00  1.744623e-36\n",
       "1998  1.198635e-05  0.000000e+00  0.000000e+00  0.000000e+00  9.999880e-01  8.759131e-38  1.069375e-21\n",
       "1999  2.577329e-13  1.000000e+00  9.030248e-13  1.605759e-11  2.242611e-10  1.094403e-10  6.773129e-09\n",
       "2000  7.885232e-06  0.000000e+00  0.000000e+00  0.000000e+00  9.999921e-01  0.000000e+00  5.848861e-22\n",
       "2001  8.895004e-07  5.998353e-05  0.000000e+00  0.000000e+00  1.291592e-04  3.483617e-37  9.998100e-01\n",
       "\n",
       "[2002 rows x 7 columns]"
      ]
     },
     "execution_count": 30,
     "metadata": {},
     "output_type": "execute_result"
    }
   ],
   "source": [
    "predictions_df = pd.DataFrame(predictions)\n",
    "predictions_df"
   ]
  },
  {
   "cell_type": "code",
   "execution_count": 31,
   "id": "03d216ea",
   "metadata": {},
   "outputs": [
    {
     "data": {
      "text/plain": [
       "array([1, 1, 5, ..., 1, 4, 6], dtype=int64)"
      ]
     },
     "execution_count": 31,
     "metadata": {},
     "output_type": "execute_result"
    }
   ],
   "source": [
    "predictions_cls = predictions.argmax(axis=-1)\n",
    "predictions_cls"
   ]
  },
  {
   "cell_type": "code",
   "execution_count": 36,
   "id": "5d50fa06",
   "metadata": {},
   "outputs": [
    {
     "name": "stdout",
     "output_type": "stream",
     "text": [
      "Name: tensorflow\n",
      "Version: 2.16.1\n",
      "Summary: TensorFlow is an open source machine learning framework for everyone.\n",
      "Home-page: https://www.tensorflow.org/\n",
      "Author: Google Inc.\n",
      "Author-email: packages@tensorflow.org\n",
      "License: Apache 2.0\n",
      "Location: c:\\users\\dell\\documents\\git\\stormwater-analysis\\venv\\lib\\site-packages\n",
      "Requires: tensorflow-intel\n",
      "Required-by: \n"
     ]
    },
    {
     "name": "stderr",
     "output_type": "stream",
     "text": [
      "WARNING: Ignoring invalid distribution -ensorflow-intel (c:\\users\\dell\\documents\\git\\stormwater-analysis\\venv\\lib\\site-packages)\n"
     ]
    }
   ],
   "source": [
    "!pip show tensorflow\n"
   ]
  },
  {
   "attachments": {},
   "cell_type": "markdown",
   "id": "70f70183",
   "metadata": {},
   "source": [
    "# Zapisanie modelu"
   ]
  },
  {
   "cell_type": "code",
   "execution_count": 39,
   "id": "5a32ea88",
   "metadata": {},
   "outputs": [],
   "source": [
    "# model.save(r'C:\\Users\\Dell\\Documents\\Git\\stormwater-analysis\\stormwater_analysis\\data\\catchment_classification_model\\catchemnt_classifier')\n",
    "model.save(R'C:\\Users\\Dell\\Documents\\Git\\stormwater-analysis\\stormwater_analysis\\data\\catchment_classification_model\\catchemnt_classifier\\model.keras')\n"
   ]
  },
  {
   "attachments": {},
   "cell_type": "markdown",
   "id": "2a8a23e3",
   "metadata": {},
   "source": [
    "# Załadowanie modelu"
   ]
  },
  {
   "cell_type": "code",
   "execution_count": 40,
   "id": "772d2f7e",
   "metadata": {},
   "outputs": [],
   "source": [
    "from tensorflow import keras\n",
    "model = keras.models.load_model(R'C:\\Users\\Dell\\Documents\\Git\\stormwater-analysis\\stormwater_analysis\\data\\catchment_classification_model\\catchemnt_classifier\\model.keras')"
   ]
  },
  {
   "cell_type": "code",
   "execution_count": 41,
   "id": "c05cbf24",
   "metadata": {},
   "outputs": [
    {
     "data": {
      "text/html": [
       "<div>\n",
       "<style scoped>\n",
       "    .dataframe tbody tr th:only-of-type {\n",
       "        vertical-align: middle;\n",
       "    }\n",
       "\n",
       "    .dataframe tbody tr th {\n",
       "        vertical-align: top;\n",
       "    }\n",
       "\n",
       "    .dataframe thead th {\n",
       "        text-align: right;\n",
       "    }\n",
       "</style>\n",
       "<table border=\"1\" class=\"dataframe\">\n",
       "  <thead>\n",
       "    <tr style=\"text-align: right;\">\n",
       "      <th></th>\n",
       "      <th>Area</th>\n",
       "      <th>PercImperv</th>\n",
       "      <th>Width</th>\n",
       "      <th>PercSlope</th>\n",
       "      <th>PctZero</th>\n",
       "      <th>TotalPrecip</th>\n",
       "      <th>TotalRunoffMG</th>\n",
       "      <th>PeakRunoff</th>\n",
       "      <th>RunoffCoeff</th>\n",
       "    </tr>\n",
       "  </thead>\n",
       "  <tbody>\n",
       "    <tr>\n",
       "      <th>7438</th>\n",
       "      <td>1.43</td>\n",
       "      <td>5.09</td>\n",
       "      <td>119.58</td>\n",
       "      <td>10.00</td>\n",
       "      <td>10</td>\n",
       "      <td>9.50</td>\n",
       "      <td>0.01</td>\n",
       "      <td>0.00</td>\n",
       "      <td>0.063</td>\n",
       "    </tr>\n",
       "    <tr>\n",
       "      <th>9058</th>\n",
       "      <td>1.00</td>\n",
       "      <td>5.09</td>\n",
       "      <td>100.00</td>\n",
       "      <td>10.00</td>\n",
       "      <td>10</td>\n",
       "      <td>0.32</td>\n",
       "      <td>0.00</td>\n",
       "      <td>0.00</td>\n",
       "      <td>0.005</td>\n",
       "    </tr>\n",
       "    <tr>\n",
       "      <th>568</th>\n",
       "      <td>0.77</td>\n",
       "      <td>30.00</td>\n",
       "      <td>87.75</td>\n",
       "      <td>15.00</td>\n",
       "      <td>80</td>\n",
       "      <td>10.10</td>\n",
       "      <td>0.04</td>\n",
       "      <td>0.03</td>\n",
       "      <td>0.462</td>\n",
       "    </tr>\n",
       "    <tr>\n",
       "      <th>9344</th>\n",
       "      <td>0.60</td>\n",
       "      <td>15.00</td>\n",
       "      <td>77.46</td>\n",
       "      <td>30.00</td>\n",
       "      <td>5</td>\n",
       "      <td>0.32</td>\n",
       "      <td>0.00</td>\n",
       "      <td>0.00</td>\n",
       "      <td>0.007</td>\n",
       "    </tr>\n",
       "    <tr>\n",
       "      <th>2236</th>\n",
       "      <td>1.39</td>\n",
       "      <td>30.00</td>\n",
       "      <td>117.90</td>\n",
       "      <td>5.09</td>\n",
       "      <td>80</td>\n",
       "      <td>38.33</td>\n",
       "      <td>0.44</td>\n",
       "      <td>0.30</td>\n",
       "      <td>0.820</td>\n",
       "    </tr>\n",
       "    <tr>\n",
       "      <th>...</th>\n",
       "      <td>...</td>\n",
       "      <td>...</td>\n",
       "      <td>...</td>\n",
       "      <td>...</td>\n",
       "      <td>...</td>\n",
       "      <td>...</td>\n",
       "      <td>...</td>\n",
       "      <td>...</td>\n",
       "      <td>...</td>\n",
       "    </tr>\n",
       "    <tr>\n",
       "      <th>533</th>\n",
       "      <td>0.19</td>\n",
       "      <td>83.33</td>\n",
       "      <td>43.59</td>\n",
       "      <td>45.00</td>\n",
       "      <td>80</td>\n",
       "      <td>10.10</td>\n",
       "      <td>0.02</td>\n",
       "      <td>0.01</td>\n",
       "      <td>0.880</td>\n",
       "    </tr>\n",
       "    <tr>\n",
       "      <th>132</th>\n",
       "      <td>1.36</td>\n",
       "      <td>65.00</td>\n",
       "      <td>116.62</td>\n",
       "      <td>61.67</td>\n",
       "      <td>80</td>\n",
       "      <td>10.10</td>\n",
       "      <td>0.10</td>\n",
       "      <td>0.09</td>\n",
       "      <td>0.761</td>\n",
       "    </tr>\n",
       "    <tr>\n",
       "      <th>7329</th>\n",
       "      <td>0.30</td>\n",
       "      <td>10.00</td>\n",
       "      <td>54.77</td>\n",
       "      <td>20.00</td>\n",
       "      <td>10</td>\n",
       "      <td>9.50</td>\n",
       "      <td>0.00</td>\n",
       "      <td>0.00</td>\n",
       "      <td>0.127</td>\n",
       "    </tr>\n",
       "    <tr>\n",
       "      <th>8466</th>\n",
       "      <td>1.25</td>\n",
       "      <td>65.00</td>\n",
       "      <td>111.80</td>\n",
       "      <td>61.67</td>\n",
       "      <td>80</td>\n",
       "      <td>12.67</td>\n",
       "      <td>0.12</td>\n",
       "      <td>0.04</td>\n",
       "      <td>0.772</td>\n",
       "    </tr>\n",
       "    <tr>\n",
       "      <th>964</th>\n",
       "      <td>1.08</td>\n",
       "      <td>15.00</td>\n",
       "      <td>103.92</td>\n",
       "      <td>10.00</td>\n",
       "      <td>5</td>\n",
       "      <td>10.10</td>\n",
       "      <td>0.02</td>\n",
       "      <td>0.01</td>\n",
       "      <td>0.140</td>\n",
       "    </tr>\n",
       "  </tbody>\n",
       "</table>\n",
       "<p>2002 rows × 9 columns</p>\n",
       "</div>"
      ],
      "text/plain": [
       "      Area  PercImperv   Width  PercSlope  PctZero  TotalPrecip  TotalRunoffMG  PeakRunoff  RunoffCoeff\n",
       "7438  1.43        5.09  119.58      10.00       10         9.50           0.01        0.00        0.063\n",
       "9058  1.00        5.09  100.00      10.00       10         0.32           0.00        0.00        0.005\n",
       "568   0.77       30.00   87.75      15.00       80        10.10           0.04        0.03        0.462\n",
       "9344  0.60       15.00   77.46      30.00        5         0.32           0.00        0.00        0.007\n",
       "2236  1.39       30.00  117.90       5.09       80        38.33           0.44        0.30        0.820\n",
       "...    ...         ...     ...        ...      ...          ...            ...         ...          ...\n",
       "533   0.19       83.33   43.59      45.00       80        10.10           0.02        0.01        0.880\n",
       "132   1.36       65.00  116.62      61.67       80        10.10           0.10        0.09        0.761\n",
       "7329  0.30       10.00   54.77      20.00       10         9.50           0.00        0.00        0.127\n",
       "8466  1.25       65.00  111.80      61.67       80        12.67           0.12        0.04        0.772\n",
       "964   1.08       15.00  103.92      10.00        5        10.10           0.02        0.01        0.140\n",
       "\n",
       "[2002 rows x 9 columns]"
      ]
     },
     "execution_count": 41,
     "metadata": {},
     "output_type": "execute_result"
    }
   ],
   "source": [
    "X_test"
   ]
  },
  {
   "cell_type": "code",
   "execution_count": 42,
   "id": "0e9ee3c8",
   "metadata": {},
   "outputs": [
    {
     "name": "stdout",
     "output_type": "stream",
     "text": [
      "Requirement already satisfied: pydot in c:\\users\\dell\\documents\\git\\stormwater-analysis\\venv\\lib\\site-packages (1.4.2)\n",
      "Requirement already satisfied: pyparsing>=2.1.4 in c:\\users\\dell\\documents\\git\\stormwater-analysis\\venv\\lib\\site-packages (from pydot) (3.0.9)\n"
     ]
    },
    {
     "name": "stderr",
     "output_type": "stream",
     "text": [
      "WARNING: Ignoring invalid distribution -ensorflow-intel (c:\\users\\dell\\documents\\git\\stormwater-analysis\\venv\\lib\\site-packages)\n",
      "WARNING: Ignoring invalid distribution -ensorflow-intel (c:\\users\\dell\\documents\\git\\stormwater-analysis\\venv\\lib\\site-packages)\n"
     ]
    }
   ],
   "source": [
    "! pip install pydot\n"
   ]
  },
  {
   "cell_type": "code",
   "execution_count": 43,
   "id": "32bb7740",
   "metadata": {},
   "outputs": [
    {
     "name": "stdout",
     "output_type": "stream",
     "text": [
      "You must install graphviz (see instructions at https://graphviz.gitlab.io/download/) for `plot_model` to work.\n"
     ]
    }
   ],
   "source": [
    "from tensorflow.keras.utils import plot_model\n",
    "plot_model(model)"
   ]
  },
  {
   "cell_type": "code",
   "execution_count": 44,
   "id": "96645d62",
   "metadata": {},
   "outputs": [
    {
     "name": "stdout",
     "output_type": "stream",
     "text": [
      "\u001b[1m63/63\u001b[0m \u001b[32m━━━━━━━━━━━━━━━━━━━━\u001b[0m\u001b[37m\u001b[0m \u001b[1m0s\u001b[0m 3ms/step\n"
     ]
    },
    {
     "data": {
      "text/plain": [
       "array([[4.7946610e-34, 1.0000000e+00, 4.7604715e-11, ..., 6.1301779e-25, 3.4358207e-17, 8.6972562e-27],\n",
       "       [3.6285966e-36, 1.0000000e+00, 1.1931296e-09, ..., 5.2703477e-26, 3.6148277e-18, 5.4745868e-27],\n",
       "       [6.6952460e-05, 1.4827287e-16, 3.9370196e-23, ..., 6.9322764e-10, 9.9993300e-01, 4.6980023e-20],\n",
       "       ...,\n",
       "       [2.5773288e-13, 1.0000000e+00, 9.0302478e-13, ..., 2.2426110e-10, 1.0944027e-10, 6.7731287e-09],\n",
       "       [7.8852318e-06, 0.0000000e+00, 0.0000000e+00, ..., 9.9999213e-01, 0.0000000e+00, 5.8488611e-22],\n",
       "       [8.8950037e-07, 5.9983533e-05, 0.0000000e+00, ..., 1.2915916e-04, 3.4836165e-37, 9.9981004e-01]], dtype=float32)"
      ]
     },
     "execution_count": 44,
     "metadata": {},
     "output_type": "execute_result"
    }
   ],
   "source": [
    "pred = model.predict(X_test)\n",
    "pred"
   ]
  },
  {
   "cell_type": "code",
   "execution_count": 45,
   "id": "f42874b5",
   "metadata": {},
   "outputs": [
    {
     "ename": "NameError",
     "evalue": "name 'tensorflow' is not defined",
     "output_type": "error",
     "traceback": [
      "\u001b[1;31m---------------------------------------------------------------------------\u001b[0m",
      "\u001b[1;31mNameError\u001b[0m                                 Traceback (most recent call last)",
      "Cell \u001b[1;32mIn[45], line 1\u001b[0m\n\u001b[1;32m----> 1\u001b[0m \u001b[43mtensorflow\u001b[49m\u001b[38;5;241m.\u001b[39mversion\n",
      "\u001b[1;31mNameError\u001b[0m: name 'tensorflow' is not defined"
     ]
    }
   ],
   "source": [
    "tensorflow.version"
   ]
  },
  {
   "cell_type": "code",
   "execution_count": null,
   "id": "288ccd1d",
   "metadata": {},
   "outputs": [],
   "source": []
  }
 ],
 "metadata": {
  "kernelspec": {
   "display_name": "Python 3 (ipykernel)",
   "language": "python",
   "name": "python3"
  },
  "language_info": {
   "codemirror_mode": {
    "name": "ipython",
    "version": 3
   },
   "file_extension": ".py",
   "mimetype": "text/x-python",
   "name": "python",
   "nbconvert_exporter": "python",
   "pygments_lexer": "ipython3",
   "version": "3.10.2"
  }
 },
 "nbformat": 4,
 "nbformat_minor": 5
}
