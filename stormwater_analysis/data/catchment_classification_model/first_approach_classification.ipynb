{
 "cells": [
  {
   "attachments": {},
   "cell_type": "markdown",
   "id": "5a0b6d6a",
   "metadata": {},
   "source": [
    "<a target=\"_blank\" href=\"https://colab.research.google.com/github/BuczynskiRafal/stormwater-analysis/blob/main/stormwater_analysis/data/catchment_classification_model/first_approach_classification.ipynb\">"
   ]
  },
  {
   "cell_type": "markdown",
   "id": "6633bc45",
   "metadata": {},
   "source": [
    "<a target=\"_blank\" href=\"https://colab.research.google.com/github/BuczynskiRafal/stormwater-analysis/blob/main/stormwater_analysis/data/catchment_classification_model/first_approach_classification.ipynb\">\n",
    "    <img src=\"https://colab.research.google.com/assets/colab-badge.svg\" alt=\"Open In Colab\"/>\n",
    "</a>"
   ]
  },
  {
   "attachments": {},
   "cell_type": "markdown",
   "id": "203c68be-eb8f-49c1-8f55-d3929d447923",
   "metadata": {},
   "source": [
    "# Training a model for catchment classification. \n",
    "* kategoryzacja zlewni oparta o większość dostępnych ceech zlewni z plików inp i rpt"
   ]
  },
  {
   "attachments": {},
   "cell_type": "markdown",
   "id": "0ca5aa33-8a1f-41a9-9f45-44b2405dff6a",
   "metadata": {},
   "source": [
    "# Imports"
   ]
  },
  {
   "cell_type": "code",
   "execution_count": 1,
   "id": "36d5c0c3-e761-4ba6-9aab-f74dada646a3",
   "metadata": {},
   "outputs": [],
   "source": [
    "import swmmio\n",
    "import pyswmm\n",
    "import pandas as pd\n",
    "import numpy as np\n",
    "from sklearn.model_selection import train_test_split\n",
    "from tensorflow.keras.models import Sequential\n",
    "from tensorflow.keras.layers import Dense, Dropout\n",
    "from tensorflow.keras.callbacks import EarlyStopping\n",
    "from tensorflow.keras.layers.experimental import preprocessing\n",
    "\n",
    "\n",
    "desired_width = 500\n",
    "pd.set_option(\"display.width\", desired_width)\n",
    "np.set_printoptions(linewidth=desired_width)\n",
    "pd.set_option(\"display.max_columns\", 30)"
   ]
  },
  {
   "cell_type": "code",
   "execution_count": 2,
   "id": "93a421bf-75fd-46fa-b8a1-6277aa189444",
   "metadata": {
    "tags": []
   },
   "outputs": [
    {
     "data": {
      "text/html": [
       "<div>\n",
       "<style scoped>\n",
       "    .dataframe tbody tr th:only-of-type {\n",
       "        vertical-align: middle;\n",
       "    }\n",
       "\n",
       "    .dataframe tbody tr th {\n",
       "        vertical-align: top;\n",
       "    }\n",
       "\n",
       "    .dataframe thead th {\n",
       "        text-align: right;\n",
       "    }\n",
       "</style>\n",
       "<table border=\"1\" class=\"dataframe\">\n",
       "  <thead>\n",
       "    <tr style=\"text-align: right;\">\n",
       "      <th></th>\n",
       "      <th>classes</th>\n",
       "    </tr>\n",
       "  </thead>\n",
       "  <tbody>\n",
       "    <tr>\n",
       "      <th>0</th>\n",
       "      <td>compact_urban_development</td>\n",
       "    </tr>\n",
       "    <tr>\n",
       "      <th>1</th>\n",
       "      <td>urban</td>\n",
       "    </tr>\n",
       "    <tr>\n",
       "      <th>2</th>\n",
       "      <td>loose_urban_development</td>\n",
       "    </tr>\n",
       "    <tr>\n",
       "      <th>3</th>\n",
       "      <td>wooded_area</td>\n",
       "    </tr>\n",
       "    <tr>\n",
       "      <th>4</th>\n",
       "      <td>grassy</td>\n",
       "    </tr>\n",
       "    <tr>\n",
       "      <th>5</th>\n",
       "      <td>loose_soil</td>\n",
       "    </tr>\n",
       "    <tr>\n",
       "      <th>6</th>\n",
       "      <td>steep_area</td>\n",
       "    </tr>\n",
       "  </tbody>\n",
       "</table>\n",
       "</div>"
      ],
      "text/plain": [
       "                     classes\n",
       "0  compact_urban_development\n",
       "1                      urban\n",
       "2    loose_urban_development\n",
       "3                wooded_area\n",
       "4                     grassy\n",
       "5                 loose_soil\n",
       "6                 steep_area"
      ]
     },
     "execution_count": 2,
     "metadata": {},
     "output_type": "execute_result"
    }
   ],
   "source": [
    "classes = pd.DataFrame(\n",
    "    data={\n",
    "        \"classes\": [\n",
    "            \"compact_urban_development\",\n",
    "            \"urban\",\n",
    "            \"loose_urban_development\",\n",
    "            \"wooded_area\",\n",
    "            \"grassy\",\n",
    "            \"loose_soil\",\n",
    "            \"steep_area\",\n",
    "        ]\n",
    "    }\n",
    ")\n",
    "classes"
   ]
  },
  {
   "attachments": {},
   "cell_type": "markdown",
   "id": "4a70e679-858b-452c-b86f-5970de24452d",
   "metadata": {},
   "source": [
    "# Get files"
   ]
  },
  {
   "cell_type": "code",
   "execution_count": 3,
   "id": "33997e0f-4acc-4716-91a1-52529670ecdc",
   "metadata": {
    "tags": []
   },
   "outputs": [],
   "source": [
    "INP_FILE_01 = \"dataset/subcatchment_dataset_01.inp\"\n",
    "INP_FILE_02 = \"dataset/subcatchment_dataset_02.inp\"\n",
    "INP_FILE_03 = \"dataset/subcatchment_dataset_03.inp\"\n",
    "INP_FILE_04 = \"dataset/subcatchment_dataset_04.inp\"\n",
    "INP_FILE_05 = \"dataset/subcatchment_dataset_05.inp\"\n",
    "INP_FILE_06 = \"dataset/subcatchment_dataset_06.inp\"\n",
    "INP_FILE_07 = \"dataset/subcatchment_dataset_07.inp\"\n",
    "INP_FILE_08 = \"dataset/subcatchment_dataset_08.inp\"\n",
    "INP_FILE_09 = \"dataset/subcatchment_dataset_09.inp\"\n",
    "INP_FILE_10 = \"dataset/subcatchment_dataset_10.inp\"\n",
    "files = [INP_FILE_01, INP_FILE_02, INP_FILE_03, INP_FILE_04, INP_FILE_05, INP_FILE_06, INP_FILE_07, INP_FILE_08, INP_FILE_09, INP_FILE_10]"
   ]
  },
  {
   "attachments": {},
   "cell_type": "markdown",
   "id": "64f26c2a-8ea2-479f-afb4-a308ef9bd098",
   "metadata": {
    "tags": []
   },
   "source": [
    "# Run simulation"
   ]
  },
  {
   "cell_type": "code",
   "execution_count": 4,
   "id": "55ba70ee-57b6-4f10-ba31-1491cf3e5abd",
   "metadata": {
    "tags": []
   },
   "outputs": [],
   "source": [
    "for f in files:\n",
    "    with pyswmm.Simulation(f) as sim:\n",
    "        for step in sim:\n",
    "            pass"
   ]
  },
  {
   "cell_type": "code",
   "execution_count": null,
   "id": "a7706c7b",
   "metadata": {},
   "outputs": [],
   "source": [
    "from data"
   ]
  },
  {
   "attachments": {},
   "cell_type": "markdown",
   "id": "41a1e5e8-bc02-423b-be65-27525ff80744",
   "metadata": {
    "tags": []
   },
   "source": [
    "# Read inp and rpt file as swmmio model object"
   ]
  },
  {
   "cell_type": "code",
   "execution_count": 5,
   "id": "47c87820-5d5f-40d4-b47f-f1f9e3802551",
   "metadata": {
    "tags": []
   },
   "outputs": [],
   "source": [
    "model_01 = swmmio.Model(INP_FILE_01)\n",
    "model_02 = swmmio.Model(INP_FILE_02)\n",
    "model_03 = swmmio.Model(INP_FILE_03)\n",
    "model_04 = swmmio.Model(INP_FILE_04)\n",
    "model_05 = swmmio.Model(INP_FILE_05)\n",
    "model_06 = swmmio.Model(INP_FILE_06)\n",
    "model_07 = swmmio.Model(INP_FILE_07)\n",
    "model_08 = swmmio.Model(INP_FILE_08)\n",
    "model_09 = swmmio.Model(INP_FILE_09)\n",
    "model_10 = swmmio.Model(INP_FILE_10)\n",
    "\n",
    "models = [model_01, model_02, model_03, model_04, model_05, model_06, model_07, model_08, model_09, model_10]"
   ]
  },
  {
   "attachments": {},
   "cell_type": "markdown",
   "id": "509d6391-c4ac-462f-be8f-d39f57aa7666",
   "metadata": {
    "tags": []
   },
   "source": [
    "## Get subcatchments data from the model"
   ]
  },
  {
   "cell_type": "code",
   "execution_count": 6,
   "id": "3c34c355-f5c1-420f-a437-2223f8ff53e5",
   "metadata": {},
   "outputs": [],
   "source": [
    "raw_subcatchments_01 = model_01.subcatchments.dataframe\n",
    "raw_subcatchments_02 = model_02.subcatchments.dataframe\n",
    "raw_subcatchments_03 = model_03.subcatchments.dataframe\n",
    "raw_subcatchments_04 = model_04.subcatchments.dataframe\n",
    "raw_subcatchments_05 = model_05.subcatchments.dataframe\n",
    "raw_subcatchments_06 = model_06.subcatchments.dataframe\n",
    "raw_subcatchments_07 = model_07.subcatchments.dataframe\n",
    "raw_subcatchments_08 = model_08.subcatchments.dataframe\n",
    "raw_subcatchments_09 = model_09.subcatchments.dataframe\n",
    "raw_subcatchments_10 = model_10.subcatchments.dataframe\n",
    "\n",
    "subcatchments_01 = raw_subcatchments_01.copy()\n",
    "subcatchments_02 = raw_subcatchments_02.copy()\n",
    "subcatchments_03 = raw_subcatchments_03.copy()\n",
    "subcatchments_04 = raw_subcatchments_04.copy()\n",
    "subcatchments_05 = raw_subcatchments_05.copy()\n",
    "subcatchments_06 = raw_subcatchments_06.copy()\n",
    "subcatchments_07 = raw_subcatchments_07.copy()\n",
    "subcatchments_08 = raw_subcatchments_08.copy()\n",
    "subcatchments_09 = raw_subcatchments_09.copy()\n",
    "subcatchments_10 = raw_subcatchments_10.copy()\n",
    "\n",
    "subcatchments = [subcatchments_01, subcatchments_02, subcatchments_03, subcatchments_04, subcatchments_05, subcatchments_06, subcatchments_07, subcatchments_08, subcatchments_09, subcatchments_10]"
   ]
  },
  {
   "attachments": {},
   "cell_type": "markdown",
   "id": "90961230-f871-4f50-8d48-52f509304ec2",
   "metadata": {
    "tags": []
   },
   "source": [
    "### Drop unused columns"
   ]
  },
  {
   "cell_type": "code",
   "execution_count": 7,
   "id": "8d4bf621-5085-4641-a7c5-38460e68ab4b",
   "metadata": {
    "tags": []
   },
   "outputs": [],
   "source": [
    "for frame in subcatchments:\n",
    "    frame.drop(['N-Imperv', 'N-Perv', 'S-Imperv',\t'S-Perv', 'coords', 'RouteTo', 'CurbLength', 'Outlet', 'Raingage', 'TotalRunon', 'TotalEvap', 'TotalInfil', 'ImpervRunoff', 'PervRunoff', 'TotalRunoffIn'], axis=1, inplace=True)"
   ]
  },
  {
   "cell_type": "code",
   "execution_count": 8,
   "id": "2cc1d245",
   "metadata": {},
   "outputs": [
    {
     "data": {
      "text/html": [
       "<div>\n",
       "<style scoped>\n",
       "    .dataframe tbody tr th:only-of-type {\n",
       "        vertical-align: middle;\n",
       "    }\n",
       "\n",
       "    .dataframe tbody tr th {\n",
       "        vertical-align: top;\n",
       "    }\n",
       "\n",
       "    .dataframe thead th {\n",
       "        text-align: right;\n",
       "    }\n",
       "</style>\n",
       "<table border=\"1\" class=\"dataframe\">\n",
       "  <thead>\n",
       "    <tr style=\"text-align: right;\">\n",
       "      <th></th>\n",
       "      <th>Area</th>\n",
       "      <th>PercImperv</th>\n",
       "      <th>Width</th>\n",
       "      <th>PercSlope</th>\n",
       "      <th>PctZero</th>\n",
       "      <th>TotalPrecip</th>\n",
       "      <th>TotalRunoffMG</th>\n",
       "      <th>PeakRunoff</th>\n",
       "      <th>RunoffCoeff</th>\n",
       "    </tr>\n",
       "    <tr>\n",
       "      <th>Name</th>\n",
       "      <th></th>\n",
       "      <th></th>\n",
       "      <th></th>\n",
       "      <th></th>\n",
       "      <th></th>\n",
       "      <th></th>\n",
       "      <th></th>\n",
       "      <th></th>\n",
       "      <th></th>\n",
       "    </tr>\n",
       "  </thead>\n",
       "  <tbody>\n",
       "    <tr>\n",
       "      <th>S1</th>\n",
       "      <td>0.50</td>\n",
       "      <td>20.00</td>\n",
       "      <td>300.00</td>\n",
       "      <td>5.00</td>\n",
       "      <td>70</td>\n",
       "      <td>10.10</td>\n",
       "      <td>0.02</td>\n",
       "      <td>0.02</td>\n",
       "      <td>0.407</td>\n",
       "    </tr>\n",
       "    <tr>\n",
       "      <th>S10</th>\n",
       "      <td>1.87</td>\n",
       "      <td>45.00</td>\n",
       "      <td>136.75</td>\n",
       "      <td>15.00</td>\n",
       "      <td>90</td>\n",
       "      <td>10.10</td>\n",
       "      <td>0.11</td>\n",
       "      <td>0.09</td>\n",
       "      <td>0.587</td>\n",
       "    </tr>\n",
       "    <tr>\n",
       "      <th>S100</th>\n",
       "      <td>1.71</td>\n",
       "      <td>45.00</td>\n",
       "      <td>130.77</td>\n",
       "      <td>10.00</td>\n",
       "      <td>90</td>\n",
       "      <td>10.10</td>\n",
       "      <td>0.10</td>\n",
       "      <td>0.08</td>\n",
       "      <td>0.581</td>\n",
       "    </tr>\n",
       "    <tr>\n",
       "      <th>S1000</th>\n",
       "      <td>0.68</td>\n",
       "      <td>10.00</td>\n",
       "      <td>82.46</td>\n",
       "      <td>5.09</td>\n",
       "      <td>10</td>\n",
       "      <td>10.10</td>\n",
       "      <td>0.02</td>\n",
       "      <td>0.01</td>\n",
       "      <td>0.224</td>\n",
       "    </tr>\n",
       "    <tr>\n",
       "      <th>S1001</th>\n",
       "      <td>0.26</td>\n",
       "      <td>83.33</td>\n",
       "      <td>50.99</td>\n",
       "      <td>45.00</td>\n",
       "      <td>80</td>\n",
       "      <td>10.10</td>\n",
       "      <td>0.02</td>\n",
       "      <td>0.02</td>\n",
       "      <td>0.879</td>\n",
       "    </tr>\n",
       "  </tbody>\n",
       "</table>\n",
       "</div>"
      ],
      "text/plain": [
       "       Area  PercImperv   Width  PercSlope  PctZero TotalPrecip  TotalRunoffMG  PeakRunoff  RunoffCoeff\n",
       "Name                                                                                                   \n",
       "S1     0.50       20.00  300.00       5.00       70       10.10           0.02        0.02        0.407\n",
       "S10    1.87       45.00  136.75      15.00       90       10.10           0.11        0.09        0.587\n",
       "S100   1.71       45.00  130.77      10.00       90       10.10           0.10        0.08        0.581\n",
       "S1000  0.68       10.00   82.46       5.09       10       10.10           0.02        0.01        0.224\n",
       "S1001  0.26       83.33   50.99      45.00       80       10.10           0.02        0.02        0.879"
      ]
     },
     "execution_count": 8,
     "metadata": {},
     "output_type": "execute_result"
    }
   ],
   "source": [
    "subcatchments_01.iloc[:5, :]"
   ]
  },
  {
   "attachments": {},
   "cell_type": "markdown",
   "id": "aec10d49-c5c5-4d85-b88b-988292b3500b",
   "metadata": {},
   "source": [
    "## Get categories"
   ]
  },
  {
   "cell_type": "code",
   "execution_count": 9,
   "id": "16e17b13-3c2e-4475-96b5-1555b71d3e9c",
   "metadata": {
    "tags": []
   },
   "outputs": [
    {
     "data": {
      "text/html": [
       "<div>\n",
       "<style scoped>\n",
       "    .dataframe tbody tr th:only-of-type {\n",
       "        vertical-align: middle;\n",
       "    }\n",
       "\n",
       "    .dataframe tbody tr th {\n",
       "        vertical-align: top;\n",
       "    }\n",
       "\n",
       "    .dataframe thead th {\n",
       "        text-align: right;\n",
       "    }\n",
       "</style>\n",
       "<table border=\"1\" class=\"dataframe\">\n",
       "  <thead>\n",
       "    <tr style=\"text-align: right;\">\n",
       "      <th></th>\n",
       "      <th>Name</th>\n",
       "      <th>Tag</th>\n",
       "    </tr>\n",
       "    <tr>\n",
       "      <th>ElementType</th>\n",
       "      <th></th>\n",
       "      <th></th>\n",
       "    </tr>\n",
       "  </thead>\n",
       "  <tbody>\n",
       "    <tr>\n",
       "      <th>Subcatch</th>\n",
       "      <td>S1</td>\n",
       "      <td>loose_soil</td>\n",
       "    </tr>\n",
       "    <tr>\n",
       "      <th>Subcatch</th>\n",
       "      <td>S2</td>\n",
       "      <td>compact_urban_development</td>\n",
       "    </tr>\n",
       "    <tr>\n",
       "      <th>Subcatch</th>\n",
       "      <td>S3</td>\n",
       "      <td>loose_soil</td>\n",
       "    </tr>\n",
       "    <tr>\n",
       "      <th>Subcatch</th>\n",
       "      <td>S4</td>\n",
       "      <td>wooded_area</td>\n",
       "    </tr>\n",
       "    <tr>\n",
       "      <th>Subcatch</th>\n",
       "      <td>S5</td>\n",
       "      <td>loose_urban_development</td>\n",
       "    </tr>\n",
       "    <tr>\n",
       "      <th>...</th>\n",
       "      <td>...</td>\n",
       "      <td>...</td>\n",
       "    </tr>\n",
       "    <tr>\n",
       "      <th>Subcatch</th>\n",
       "      <td>S997</td>\n",
       "      <td>grassy</td>\n",
       "    </tr>\n",
       "    <tr>\n",
       "      <th>Subcatch</th>\n",
       "      <td>S998</td>\n",
       "      <td>steep_area</td>\n",
       "    </tr>\n",
       "    <tr>\n",
       "      <th>Subcatch</th>\n",
       "      <td>S999</td>\n",
       "      <td>urban</td>\n",
       "    </tr>\n",
       "    <tr>\n",
       "      <th>Subcatch</th>\n",
       "      <td>S1000</td>\n",
       "      <td>grassy</td>\n",
       "    </tr>\n",
       "    <tr>\n",
       "      <th>Subcatch</th>\n",
       "      <td>S1001</td>\n",
       "      <td>steep_area</td>\n",
       "    </tr>\n",
       "  </tbody>\n",
       "</table>\n",
       "<p>1001 rows × 2 columns</p>\n",
       "</div>"
      ],
      "text/plain": [
       "              Name                        Tag\n",
       "ElementType                                  \n",
       "Subcatch        S1                 loose_soil\n",
       "Subcatch        S2  compact_urban_development\n",
       "Subcatch        S3                 loose_soil\n",
       "Subcatch        S4                wooded_area\n",
       "Subcatch        S5    loose_urban_development\n",
       "...            ...                        ...\n",
       "Subcatch      S997                     grassy\n",
       "Subcatch      S998                 steep_area\n",
       "Subcatch      S999                      urban\n",
       "Subcatch     S1000                     grassy\n",
       "Subcatch     S1001                 steep_area\n",
       "\n",
       "[1001 rows x 2 columns]"
      ]
     },
     "execution_count": 9,
     "metadata": {},
     "output_type": "execute_result"
    }
   ],
   "source": [
    "categories_01 = model_01.inp.tags\n",
    "categories_02 = model_02.inp.tags\n",
    "categories_03 = model_03.inp.tags\n",
    "categories_04 = model_04.inp.tags\n",
    "categories_05 = model_05.inp.tags\n",
    "categories_06 = model_06.inp.tags\n",
    "categories_07 = model_07.inp.tags\n",
    "categories_08 = model_08.inp.tags\n",
    "categories_09 = model_09.inp.tags\n",
    "categories_10 = model_10.inp.tags\n",
    "categories_01"
   ]
  },
  {
   "attachments": {},
   "cell_type": "markdown",
   "id": "2909fc39-f2b9-4208-bd94-aff400908f83",
   "metadata": {},
   "source": [
    "### Add categories column to subcatchments DataFrame"
   ]
  },
  {
   "cell_type": "code",
   "execution_count": 10,
   "id": "c06fec91-94c5-4d36-ac9b-a9a7405bc95e",
   "metadata": {
    "tags": []
   },
   "outputs": [],
   "source": [
    "def merge_tag(subcatchment, model):\n",
    "    subcatchment.reset_index(inplace=True)\n",
    "    merged = subcatchment.merge(model.inp.tags, left_on=\"Name\", right_on=\"Name\", how=\"left\")\n",
    "    merged.rename(columns={\"Tag\": \"categories\"}, inplace=True)\n",
    "    merged.set_index(\"Name\", inplace=True)\n",
    "    return merged\n",
    "\n",
    "merged_df_01 = merge_tag(subcatchments_01, model_01)\n",
    "merged_df_02 = merge_tag(subcatchments_02, model_02)\n",
    "merged_df_03 = merge_tag(subcatchments_03, model_03)\n",
    "merged_df_04 = merge_tag(subcatchments_04, model_04)\n",
    "merged_df_05 = merge_tag(subcatchments_05, model_05)\n",
    "merged_df_06 = merge_tag(subcatchments_06, model_06)\n",
    "merged_df_07 = merge_tag(subcatchments_07, model_07)\n",
    "merged_df_08 = merge_tag(subcatchments_08, model_08)\n",
    "merged_df_09 = merge_tag(subcatchments_09, model_09)\n",
    "merged_df_10 = merge_tag(subcatchments_10, model_10)\n",
    "\n",
    "merged = [merged_df_01, merged_df_02, merged_df_03, merged_df_04, merged_df_05, merged_df_06, merged_df_07, merged_df_08, merged_df_09, merged_df_10]\n",
    "\n",
    "df = pd.concat(merged)\n",
    "df = df.reset_index(drop=True)"
   ]
  },
  {
   "cell_type": "code",
   "execution_count": 11,
   "id": "3e863959",
   "metadata": {},
   "outputs": [
    {
     "data": {
      "text/html": [
       "<div>\n",
       "<style scoped>\n",
       "    .dataframe tbody tr th:only-of-type {\n",
       "        vertical-align: middle;\n",
       "    }\n",
       "\n",
       "    .dataframe tbody tr th {\n",
       "        vertical-align: top;\n",
       "    }\n",
       "\n",
       "    .dataframe thead th {\n",
       "        text-align: right;\n",
       "    }\n",
       "</style>\n",
       "<table border=\"1\" class=\"dataframe\">\n",
       "  <thead>\n",
       "    <tr style=\"text-align: right;\">\n",
       "      <th></th>\n",
       "      <th>Area</th>\n",
       "      <th>PercImperv</th>\n",
       "      <th>Width</th>\n",
       "      <th>PercSlope</th>\n",
       "      <th>PctZero</th>\n",
       "      <th>TotalPrecip</th>\n",
       "      <th>TotalRunoffMG</th>\n",
       "      <th>PeakRunoff</th>\n",
       "      <th>RunoffCoeff</th>\n",
       "      <th>categories</th>\n",
       "    </tr>\n",
       "  </thead>\n",
       "  <tbody>\n",
       "    <tr>\n",
       "      <th>0</th>\n",
       "      <td>0.50</td>\n",
       "      <td>20.00</td>\n",
       "      <td>300.00</td>\n",
       "      <td>5.00</td>\n",
       "      <td>70</td>\n",
       "      <td>10.10</td>\n",
       "      <td>0.02</td>\n",
       "      <td>0.02</td>\n",
       "      <td>0.407</td>\n",
       "      <td>loose_soil</td>\n",
       "    </tr>\n",
       "    <tr>\n",
       "      <th>1</th>\n",
       "      <td>1.87</td>\n",
       "      <td>45.00</td>\n",
       "      <td>136.75</td>\n",
       "      <td>15.00</td>\n",
       "      <td>90</td>\n",
       "      <td>10.10</td>\n",
       "      <td>0.11</td>\n",
       "      <td>0.09</td>\n",
       "      <td>0.587</td>\n",
       "      <td>compact_urban_development</td>\n",
       "    </tr>\n",
       "    <tr>\n",
       "      <th>2</th>\n",
       "      <td>1.71</td>\n",
       "      <td>45.00</td>\n",
       "      <td>130.77</td>\n",
       "      <td>10.00</td>\n",
       "      <td>90</td>\n",
       "      <td>10.10</td>\n",
       "      <td>0.10</td>\n",
       "      <td>0.08</td>\n",
       "      <td>0.581</td>\n",
       "      <td>compact_urban_development</td>\n",
       "    </tr>\n",
       "    <tr>\n",
       "      <th>3</th>\n",
       "      <td>0.68</td>\n",
       "      <td>10.00</td>\n",
       "      <td>82.46</td>\n",
       "      <td>5.09</td>\n",
       "      <td>10</td>\n",
       "      <td>10.10</td>\n",
       "      <td>0.02</td>\n",
       "      <td>0.01</td>\n",
       "      <td>0.224</td>\n",
       "      <td>grassy</td>\n",
       "    </tr>\n",
       "    <tr>\n",
       "      <th>4</th>\n",
       "      <td>0.26</td>\n",
       "      <td>83.33</td>\n",
       "      <td>50.99</td>\n",
       "      <td>45.00</td>\n",
       "      <td>80</td>\n",
       "      <td>10.10</td>\n",
       "      <td>0.02</td>\n",
       "      <td>0.02</td>\n",
       "      <td>0.879</td>\n",
       "      <td>steep_area</td>\n",
       "    </tr>\n",
       "  </tbody>\n",
       "</table>\n",
       "</div>"
      ],
      "text/plain": [
       "   Area  PercImperv   Width  PercSlope  PctZero TotalPrecip  TotalRunoffMG  PeakRunoff  RunoffCoeff                 categories\n",
       "0  0.50       20.00  300.00       5.00       70       10.10           0.02        0.02        0.407                 loose_soil\n",
       "1  1.87       45.00  136.75      15.00       90       10.10           0.11        0.09        0.587  compact_urban_development\n",
       "2  1.71       45.00  130.77      10.00       90       10.10           0.10        0.08        0.581  compact_urban_development\n",
       "3  0.68       10.00   82.46       5.09       10       10.10           0.02        0.01        0.224                     grassy\n",
       "4  0.26       83.33   50.99      45.00       80       10.10           0.02        0.02        0.879                 steep_area"
      ]
     },
     "execution_count": 11,
     "metadata": {},
     "output_type": "execute_result"
    }
   ],
   "source": [
    "df.head()"
   ]
  },
  {
   "attachments": {},
   "cell_type": "markdown",
   "id": "0c7ad132-617d-4508-9efa-e311405f847b",
   "metadata": {},
   "source": [
    "### Split data into features and target"
   ]
  },
  {
   "cell_type": "code",
   "execution_count": 12,
   "id": "e931b316-d970-44d2-aa57-d652176e7598",
   "metadata": {
    "tags": []
   },
   "outputs": [
    {
     "name": "stdout",
     "output_type": "stream",
     "text": [
      "(8008, 9) (8008, 7)\n",
      "(2002, 9) (2002, 7)\n"
     ]
    }
   ],
   "source": [
    "X = df.drop('categories', axis=1)\n",
    "y = df['categories']\n",
    "\n",
    "X[\"TotalPrecip\"] = pd.to_numeric(X[\"TotalPrecip\"])\n",
    "# X[\"TotalRunon\"] = pd.to_numeric(X[\"TotalRunon\"])\n",
    "# X[\"TotalEvap\"] = pd.to_numeric(X[\"TotalEvap\"])\n",
    "# X[\"TotalInfil\"] = pd.to_numeric(X[\"TotalInfil\"])\n",
    "# X[\"PervRunoff\"] = pd.to_numeric(X[\"PervRunoff\"])\n",
    "# X[\"ImpervRunoff\"] = pd.to_numeric(X[\"ImpervRunoff\"])\n",
    "\n",
    "X_train, X_test, y_train, y_test = train_test_split(X, y, test_size=0.2, random_state=42)\n",
    "\n",
    "y_train = pd.get_dummies(y_train)\n",
    "y_test = pd.get_dummies(y_test)\n",
    "\n",
    "print(X_train.shape, y_train.shape)\n",
    "print(X_test.shape, y_test.shape)"
   ]
  },
  {
   "cell_type": "code",
   "execution_count": 13,
   "id": "891f98c9",
   "metadata": {},
   "outputs": [
    {
     "name": "stdout",
     "output_type": "stream",
     "text": [
      "<class 'pandas.core.frame.DataFrame'>\n",
      "Int64Index: 8008 entries, 2270 to 7270\n",
      "Data columns (total 9 columns):\n",
      " #   Column         Non-Null Count  Dtype  \n",
      "---  ------         --------------  -----  \n",
      " 0   Area           8008 non-null   float64\n",
      " 1   PercImperv     8008 non-null   float64\n",
      " 2   Width          8008 non-null   float64\n",
      " 3   PercSlope      8008 non-null   float64\n",
      " 4   PctZero        8008 non-null   int64  \n",
      " 5   TotalPrecip    8008 non-null   float64\n",
      " 6   TotalRunoffMG  8008 non-null   float64\n",
      " 7   PeakRunoff     8008 non-null   float64\n",
      " 8   RunoffCoeff    8008 non-null   float64\n",
      "dtypes: float64(8), int64(1)\n",
      "memory usage: 625.6 KB\n"
     ]
    }
   ],
   "source": [
    "X_train.info()"
   ]
  },
  {
   "cell_type": "code",
   "execution_count": 14,
   "id": "7c30f37c",
   "metadata": {},
   "outputs": [
    {
     "data": {
      "text/html": [
       "<div>\n",
       "<style scoped>\n",
       "    .dataframe tbody tr th:only-of-type {\n",
       "        vertical-align: middle;\n",
       "    }\n",
       "\n",
       "    .dataframe tbody tr th {\n",
       "        vertical-align: top;\n",
       "    }\n",
       "\n",
       "    .dataframe thead th {\n",
       "        text-align: right;\n",
       "    }\n",
       "</style>\n",
       "<table border=\"1\" class=\"dataframe\">\n",
       "  <thead>\n",
       "    <tr style=\"text-align: right;\">\n",
       "      <th></th>\n",
       "      <th>Area</th>\n",
       "      <th>PercImperv</th>\n",
       "      <th>Width</th>\n",
       "      <th>PercSlope</th>\n",
       "      <th>PctZero</th>\n",
       "      <th>TotalPrecip</th>\n",
       "      <th>TotalRunoffMG</th>\n",
       "      <th>PeakRunoff</th>\n",
       "      <th>RunoffCoeff</th>\n",
       "    </tr>\n",
       "  </thead>\n",
       "  <tbody>\n",
       "    <tr>\n",
       "      <th>2270</th>\n",
       "      <td>0.02</td>\n",
       "      <td>10.00</td>\n",
       "      <td>14.14</td>\n",
       "      <td>20.00</td>\n",
       "      <td>10</td>\n",
       "      <td>38.33</td>\n",
       "      <td>0.01</td>\n",
       "      <td>0.01</td>\n",
       "      <td>0.825</td>\n",
       "    </tr>\n",
       "    <tr>\n",
       "      <th>8668</th>\n",
       "      <td>1.87</td>\n",
       "      <td>10.00</td>\n",
       "      <td>136.75</td>\n",
       "      <td>20.00</td>\n",
       "      <td>10</td>\n",
       "      <td>12.67</td>\n",
       "      <td>0.06</td>\n",
       "      <td>0.01</td>\n",
       "      <td>0.256</td>\n",
       "    </tr>\n",
       "    <tr>\n",
       "      <th>8293</th>\n",
       "      <td>0.81</td>\n",
       "      <td>10.00</td>\n",
       "      <td>90.00</td>\n",
       "      <td>20.00</td>\n",
       "      <td>10</td>\n",
       "      <td>12.67</td>\n",
       "      <td>0.03</td>\n",
       "      <td>0.01</td>\n",
       "      <td>0.280</td>\n",
       "    </tr>\n",
       "    <tr>\n",
       "      <th>7868</th>\n",
       "      <td>1.46</td>\n",
       "      <td>10.00</td>\n",
       "      <td>120.83</td>\n",
       "      <td>5.09</td>\n",
       "      <td>10</td>\n",
       "      <td>9.50</td>\n",
       "      <td>0.01</td>\n",
       "      <td>0.00</td>\n",
       "      <td>0.101</td>\n",
       "    </tr>\n",
       "    <tr>\n",
       "      <th>1095</th>\n",
       "      <td>1.61</td>\n",
       "      <td>5.09</td>\n",
       "      <td>126.89</td>\n",
       "      <td>15.00</td>\n",
       "      <td>10</td>\n",
       "      <td>20.00</td>\n",
       "      <td>0.19</td>\n",
       "      <td>0.14</td>\n",
       "      <td>0.590</td>\n",
       "    </tr>\n",
       "    <tr>\n",
       "      <th>3131</th>\n",
       "      <td>0.58</td>\n",
       "      <td>15.00</td>\n",
       "      <td>76.16</td>\n",
       "      <td>30.00</td>\n",
       "      <td>5</td>\n",
       "      <td>15.00</td>\n",
       "      <td>0.02</td>\n",
       "      <td>0.01</td>\n",
       "      <td>0.259</td>\n",
       "    </tr>\n",
       "    <tr>\n",
       "      <th>8116</th>\n",
       "      <td>1.96</td>\n",
       "      <td>10.00</td>\n",
       "      <td>140.00</td>\n",
       "      <td>5.09</td>\n",
       "      <td>10</td>\n",
       "      <td>12.67</td>\n",
       "      <td>0.05</td>\n",
       "      <td>0.01</td>\n",
       "      <td>0.214</td>\n",
       "    </tr>\n",
       "    <tr>\n",
       "      <th>1561</th>\n",
       "      <td>0.89</td>\n",
       "      <td>5.09</td>\n",
       "      <td>94.34</td>\n",
       "      <td>15.00</td>\n",
       "      <td>10</td>\n",
       "      <td>20.00</td>\n",
       "      <td>0.11</td>\n",
       "      <td>0.09</td>\n",
       "      <td>0.606</td>\n",
       "    </tr>\n",
       "    <tr>\n",
       "      <th>1670</th>\n",
       "      <td>1.52</td>\n",
       "      <td>65.00</td>\n",
       "      <td>123.29</td>\n",
       "      <td>61.67</td>\n",
       "      <td>80</td>\n",
       "      <td>20.00</td>\n",
       "      <td>0.27</td>\n",
       "      <td>0.21</td>\n",
       "      <td>0.879</td>\n",
       "    </tr>\n",
       "    <tr>\n",
       "      <th>9951</th>\n",
       "      <td>1.68</td>\n",
       "      <td>45.00</td>\n",
       "      <td>129.61</td>\n",
       "      <td>5.09</td>\n",
       "      <td>90</td>\n",
       "      <td>0.32</td>\n",
       "      <td>0.00</td>\n",
       "      <td>0.00</td>\n",
       "      <td>0.403</td>\n",
       "    </tr>\n",
       "    <tr>\n",
       "      <th>4553</th>\n",
       "      <td>1.90</td>\n",
       "      <td>15.00</td>\n",
       "      <td>137.84</td>\n",
       "      <td>5.09</td>\n",
       "      <td>5</td>\n",
       "      <td>3.17</td>\n",
       "      <td>0.01</td>\n",
       "      <td>0.00</td>\n",
       "      <td>0.090</td>\n",
       "    </tr>\n",
       "    <tr>\n",
       "      <th>4113</th>\n",
       "      <td>0.43</td>\n",
       "      <td>10.00</td>\n",
       "      <td>65.57</td>\n",
       "      <td>20.00</td>\n",
       "      <td>10</td>\n",
       "      <td>3.17</td>\n",
       "      <td>0.00</td>\n",
       "      <td>0.00</td>\n",
       "      <td>0.064</td>\n",
       "    </tr>\n",
       "    <tr>\n",
       "      <th>4394</th>\n",
       "      <td>1.34</td>\n",
       "      <td>10.00</td>\n",
       "      <td>115.76</td>\n",
       "      <td>2.33</td>\n",
       "      <td>10</td>\n",
       "      <td>3.17</td>\n",
       "      <td>0.00</td>\n",
       "      <td>0.00</td>\n",
       "      <td>0.064</td>\n",
       "    </tr>\n",
       "    <tr>\n",
       "      <th>4631</th>\n",
       "      <td>1.35</td>\n",
       "      <td>2.33</td>\n",
       "      <td>116.19</td>\n",
       "      <td>2.33</td>\n",
       "      <td>10</td>\n",
       "      <td>3.17</td>\n",
       "      <td>0.00</td>\n",
       "      <td>0.00</td>\n",
       "      <td>0.015</td>\n",
       "    </tr>\n",
       "    <tr>\n",
       "      <th>3527</th>\n",
       "      <td>1.78</td>\n",
       "      <td>10.00</td>\n",
       "      <td>133.42</td>\n",
       "      <td>20.00</td>\n",
       "      <td>10</td>\n",
       "      <td>15.00</td>\n",
       "      <td>0.10</td>\n",
       "      <td>0.02</td>\n",
       "      <td>0.358</td>\n",
       "    </tr>\n",
       "    <tr>\n",
       "      <th>2002</th>\n",
       "      <td>0.50</td>\n",
       "      <td>20.00</td>\n",
       "      <td>300.00</td>\n",
       "      <td>5.00</td>\n",
       "      <td>70</td>\n",
       "      <td>38.33</td>\n",
       "      <td>0.16</td>\n",
       "      <td>0.13</td>\n",
       "      <td>0.832</td>\n",
       "    </tr>\n",
       "    <tr>\n",
       "      <th>9572</th>\n",
       "      <td>0.48</td>\n",
       "      <td>83.33</td>\n",
       "      <td>69.28</td>\n",
       "      <td>45.00</td>\n",
       "      <td>80</td>\n",
       "      <td>0.32</td>\n",
       "      <td>0.00</td>\n",
       "      <td>0.00</td>\n",
       "      <td>0.668</td>\n",
       "    </tr>\n",
       "    <tr>\n",
       "      <th>168</th>\n",
       "      <td>0.96</td>\n",
       "      <td>10.00</td>\n",
       "      <td>97.98</td>\n",
       "      <td>20.00</td>\n",
       "      <td>10</td>\n",
       "      <td>10.10</td>\n",
       "      <td>0.02</td>\n",
       "      <td>0.02</td>\n",
       "      <td>0.257</td>\n",
       "    </tr>\n",
       "    <tr>\n",
       "      <th>3465</th>\n",
       "      <td>1.60</td>\n",
       "      <td>5.09</td>\n",
       "      <td>126.49</td>\n",
       "      <td>10.00</td>\n",
       "      <td>10</td>\n",
       "      <td>15.00</td>\n",
       "      <td>0.07</td>\n",
       "      <td>0.02</td>\n",
       "      <td>0.302</td>\n",
       "    </tr>\n",
       "    <tr>\n",
       "      <th>9516</th>\n",
       "      <td>1.32</td>\n",
       "      <td>65.00</td>\n",
       "      <td>114.89</td>\n",
       "      <td>61.67</td>\n",
       "      <td>80</td>\n",
       "      <td>0.32</td>\n",
       "      <td>0.00</td>\n",
       "      <td>0.00</td>\n",
       "      <td>0.520</td>\n",
       "    </tr>\n",
       "    <tr>\n",
       "      <th>9539</th>\n",
       "      <td>1.55</td>\n",
       "      <td>65.00</td>\n",
       "      <td>124.50</td>\n",
       "      <td>61.67</td>\n",
       "      <td>80</td>\n",
       "      <td>0.32</td>\n",
       "      <td>0.00</td>\n",
       "      <td>0.00</td>\n",
       "      <td>0.520</td>\n",
       "    </tr>\n",
       "    <tr>\n",
       "      <th>2133</th>\n",
       "      <td>0.67</td>\n",
       "      <td>65.00</td>\n",
       "      <td>81.85</td>\n",
       "      <td>61.67</td>\n",
       "      <td>80</td>\n",
       "      <td>38.33</td>\n",
       "      <td>0.24</td>\n",
       "      <td>0.18</td>\n",
       "      <td>0.941</td>\n",
       "    </tr>\n",
       "    <tr>\n",
       "      <th>4421</th>\n",
       "      <td>1.20</td>\n",
       "      <td>2.33</td>\n",
       "      <td>109.54</td>\n",
       "      <td>2.33</td>\n",
       "      <td>10</td>\n",
       "      <td>3.17</td>\n",
       "      <td>0.00</td>\n",
       "      <td>0.00</td>\n",
       "      <td>0.015</td>\n",
       "    </tr>\n",
       "    <tr>\n",
       "      <th>2036</th>\n",
       "      <td>1.41</td>\n",
       "      <td>22.50</td>\n",
       "      <td>118.74</td>\n",
       "      <td>2.33</td>\n",
       "      <td>70</td>\n",
       "      <td>38.33</td>\n",
       "      <td>0.41</td>\n",
       "      <td>0.20</td>\n",
       "      <td>0.750</td>\n",
       "    </tr>\n",
       "    <tr>\n",
       "      <th>7536</th>\n",
       "      <td>1.01</td>\n",
       "      <td>45.00</td>\n",
       "      <td>100.50</td>\n",
       "      <td>5.09</td>\n",
       "      <td>90</td>\n",
       "      <td>9.50</td>\n",
       "      <td>0.05</td>\n",
       "      <td>0.01</td>\n",
       "      <td>0.475</td>\n",
       "    </tr>\n",
       "    <tr>\n",
       "      <th>7442</th>\n",
       "      <td>1.79</td>\n",
       "      <td>45.00</td>\n",
       "      <td>133.79</td>\n",
       "      <td>10.00</td>\n",
       "      <td>90</td>\n",
       "      <td>9.50</td>\n",
       "      <td>0.08</td>\n",
       "      <td>0.02</td>\n",
       "      <td>0.476</td>\n",
       "    </tr>\n",
       "    <tr>\n",
       "      <th>3378</th>\n",
       "      <td>1.83</td>\n",
       "      <td>65.00</td>\n",
       "      <td>135.28</td>\n",
       "      <td>61.67</td>\n",
       "      <td>80</td>\n",
       "      <td>15.00</td>\n",
       "      <td>0.22</td>\n",
       "      <td>0.08</td>\n",
       "      <td>0.811</td>\n",
       "    </tr>\n",
       "    <tr>\n",
       "      <th>5982</th>\n",
       "      <td>1.65</td>\n",
       "      <td>65.00</td>\n",
       "      <td>128.45</td>\n",
       "      <td>61.67</td>\n",
       "      <td>80</td>\n",
       "      <td>1.58</td>\n",
       "      <td>0.01</td>\n",
       "      <td>0.00</td>\n",
       "      <td>0.549</td>\n",
       "    </tr>\n",
       "    <tr>\n",
       "      <th>8103</th>\n",
       "      <td>0.35</td>\n",
       "      <td>10.00</td>\n",
       "      <td>59.16</td>\n",
       "      <td>15.00</td>\n",
       "      <td>10</td>\n",
       "      <td>12.67</td>\n",
       "      <td>0.01</td>\n",
       "      <td>0.00</td>\n",
       "      <td>0.294</td>\n",
       "    </tr>\n",
       "    <tr>\n",
       "      <th>2960</th>\n",
       "      <td>0.33</td>\n",
       "      <td>5.09</td>\n",
       "      <td>57.45</td>\n",
       "      <td>10.00</td>\n",
       "      <td>10</td>\n",
       "      <td>38.33</td>\n",
       "      <td>0.10</td>\n",
       "      <td>0.07</td>\n",
       "      <td>0.765</td>\n",
       "    </tr>\n",
       "    <tr>\n",
       "      <th>4011</th>\n",
       "      <td>1.92</td>\n",
       "      <td>5.09</td>\n",
       "      <td>138.56</td>\n",
       "      <td>15.00</td>\n",
       "      <td>10</td>\n",
       "      <td>3.17</td>\n",
       "      <td>0.00</td>\n",
       "      <td>0.00</td>\n",
       "      <td>0.033</td>\n",
       "    </tr>\n",
       "    <tr>\n",
       "      <th>6180</th>\n",
       "      <td>0.49</td>\n",
       "      <td>5.09</td>\n",
       "      <td>70.00</td>\n",
       "      <td>15.00</td>\n",
       "      <td>10</td>\n",
       "      <td>6.33</td>\n",
       "      <td>0.00</td>\n",
       "      <td>0.00</td>\n",
       "      <td>0.044</td>\n",
       "    </tr>\n",
       "    <tr>\n",
       "      <th>210</th>\n",
       "      <td>1.30</td>\n",
       "      <td>15.00</td>\n",
       "      <td>114.02</td>\n",
       "      <td>5.09</td>\n",
       "      <td>5</td>\n",
       "      <td>10.10</td>\n",
       "      <td>0.02</td>\n",
       "      <td>0.01</td>\n",
       "      <td>0.137</td>\n",
       "    </tr>\n",
       "    <tr>\n",
       "      <th>8626</th>\n",
       "      <td>0.37</td>\n",
       "      <td>15.00</td>\n",
       "      <td>60.83</td>\n",
       "      <td>30.00</td>\n",
       "      <td>5</td>\n",
       "      <td>12.67</td>\n",
       "      <td>0.01</td>\n",
       "      <td>0.00</td>\n",
       "      <td>0.169</td>\n",
       "    </tr>\n",
       "    <tr>\n",
       "      <th>1919</th>\n",
       "      <td>1.17</td>\n",
       "      <td>22.50</td>\n",
       "      <td>108.17</td>\n",
       "      <td>10.00</td>\n",
       "      <td>70</td>\n",
       "      <td>20.00</td>\n",
       "      <td>0.15</td>\n",
       "      <td>0.08</td>\n",
       "      <td>0.624</td>\n",
       "    </tr>\n",
       "    <tr>\n",
       "      <th>718</th>\n",
       "      <td>1.84</td>\n",
       "      <td>10.00</td>\n",
       "      <td>135.65</td>\n",
       "      <td>5.09</td>\n",
       "      <td>10</td>\n",
       "      <td>10.10</td>\n",
       "      <td>0.04</td>\n",
       "      <td>0.02</td>\n",
       "      <td>0.192</td>\n",
       "    </tr>\n",
       "    <tr>\n",
       "      <th>5327</th>\n",
       "      <td>0.30</td>\n",
       "      <td>10.00</td>\n",
       "      <td>54.77</td>\n",
       "      <td>20.00</td>\n",
       "      <td>10</td>\n",
       "      <td>1.58</td>\n",
       "      <td>0.00</td>\n",
       "      <td>0.00</td>\n",
       "      <td>0.028</td>\n",
       "    </tr>\n",
       "    <tr>\n",
       "      <th>9985</th>\n",
       "      <td>1.17</td>\n",
       "      <td>2.33</td>\n",
       "      <td>108.17</td>\n",
       "      <td>2.33</td>\n",
       "      <td>10</td>\n",
       "      <td>0.32</td>\n",
       "      <td>0.00</td>\n",
       "      <td>0.00</td>\n",
       "      <td>0.002</td>\n",
       "    </tr>\n",
       "    <tr>\n",
       "      <th>1298</th>\n",
       "      <td>1.22</td>\n",
       "      <td>10.00</td>\n",
       "      <td>110.45</td>\n",
       "      <td>5.09</td>\n",
       "      <td>10</td>\n",
       "      <td>20.00</td>\n",
       "      <td>0.13</td>\n",
       "      <td>0.06</td>\n",
       "      <td>0.521</td>\n",
       "    </tr>\n",
       "    <tr>\n",
       "      <th>4441</th>\n",
       "      <td>0.83</td>\n",
       "      <td>5.09</td>\n",
       "      <td>91.10</td>\n",
       "      <td>10.00</td>\n",
       "      <td>10</td>\n",
       "      <td>3.17</td>\n",
       "      <td>0.00</td>\n",
       "      <td>0.00</td>\n",
       "      <td>0.033</td>\n",
       "    </tr>\n",
       "    <tr>\n",
       "      <th>6495</th>\n",
       "      <td>0.92</td>\n",
       "      <td>22.50</td>\n",
       "      <td>95.92</td>\n",
       "      <td>5.09</td>\n",
       "      <td>70</td>\n",
       "      <td>6.33</td>\n",
       "      <td>0.01</td>\n",
       "      <td>0.00</td>\n",
       "      <td>0.216</td>\n",
       "    </tr>\n",
       "    <tr>\n",
       "      <th>9597</th>\n",
       "      <td>0.30</td>\n",
       "      <td>83.33</td>\n",
       "      <td>54.77</td>\n",
       "      <td>45.00</td>\n",
       "      <td>80</td>\n",
       "      <td>0.32</td>\n",
       "      <td>0.00</td>\n",
       "      <td>0.00</td>\n",
       "      <td>0.668</td>\n",
       "    </tr>\n",
       "    <tr>\n",
       "      <th>8042</th>\n",
       "      <td>1.41</td>\n",
       "      <td>22.50</td>\n",
       "      <td>118.74</td>\n",
       "      <td>2.33</td>\n",
       "      <td>70</td>\n",
       "      <td>12.67</td>\n",
       "      <td>0.06</td>\n",
       "      <td>0.01</td>\n",
       "      <td>0.324</td>\n",
       "    </tr>\n",
       "    <tr>\n",
       "      <th>3903</th>\n",
       "      <td>0.30</td>\n",
       "      <td>45.00</td>\n",
       "      <td>54.77</td>\n",
       "      <td>10.00</td>\n",
       "      <td>90</td>\n",
       "      <td>15.00</td>\n",
       "      <td>0.03</td>\n",
       "      <td>0.01</td>\n",
       "      <td>0.684</td>\n",
       "    </tr>\n",
       "    <tr>\n",
       "      <th>9934</th>\n",
       "      <td>1.38</td>\n",
       "      <td>15.00</td>\n",
       "      <td>117.47</td>\n",
       "      <td>10.00</td>\n",
       "      <td>5</td>\n",
       "      <td>0.32</td>\n",
       "      <td>0.00</td>\n",
       "      <td>0.00</td>\n",
       "      <td>0.007</td>\n",
       "    </tr>\n",
       "    <tr>\n",
       "      <th>3790</th>\n",
       "      <td>0.19</td>\n",
       "      <td>5.09</td>\n",
       "      <td>43.59</td>\n",
       "      <td>15.00</td>\n",
       "      <td>10</td>\n",
       "      <td>15.00</td>\n",
       "      <td>0.01</td>\n",
       "      <td>0.00</td>\n",
       "      <td>0.419</td>\n",
       "    </tr>\n",
       "    <tr>\n",
       "      <th>4074</th>\n",
       "      <td>1.07</td>\n",
       "      <td>5.09</td>\n",
       "      <td>103.44</td>\n",
       "      <td>15.00</td>\n",
       "      <td>10</td>\n",
       "      <td>3.17</td>\n",
       "      <td>0.00</td>\n",
       "      <td>0.00</td>\n",
       "      <td>0.033</td>\n",
       "    </tr>\n",
       "    <tr>\n",
       "      <th>1287</th>\n",
       "      <td>1.52</td>\n",
       "      <td>30.00</td>\n",
       "      <td>123.29</td>\n",
       "      <td>5.09</td>\n",
       "      <td>80</td>\n",
       "      <td>20.00</td>\n",
       "      <td>0.20</td>\n",
       "      <td>0.13</td>\n",
       "      <td>0.670</td>\n",
       "    </tr>\n",
       "    <tr>\n",
       "      <th>8999</th>\n",
       "      <td>0.35</td>\n",
       "      <td>45.00</td>\n",
       "      <td>59.16</td>\n",
       "      <td>15.00</td>\n",
       "      <td>90</td>\n",
       "      <td>12.67</td>\n",
       "      <td>0.03</td>\n",
       "      <td>0.01</td>\n",
       "      <td>0.623</td>\n",
       "    </tr>\n",
       "    <tr>\n",
       "      <th>6388</th>\n",
       "      <td>0.84</td>\n",
       "      <td>30.00</td>\n",
       "      <td>91.65</td>\n",
       "      <td>5.09</td>\n",
       "      <td>80</td>\n",
       "      <td>6.33</td>\n",
       "      <td>0.02</td>\n",
       "      <td>0.00</td>\n",
       "      <td>0.293</td>\n",
       "    </tr>\n",
       "  </tbody>\n",
       "</table>\n",
       "</div>"
      ],
      "text/plain": [
       "      Area  PercImperv   Width  PercSlope  PctZero  TotalPrecip  TotalRunoffMG  PeakRunoff  RunoffCoeff\n",
       "2270  0.02       10.00   14.14      20.00       10        38.33           0.01        0.01        0.825\n",
       "8668  1.87       10.00  136.75      20.00       10        12.67           0.06        0.01        0.256\n",
       "8293  0.81       10.00   90.00      20.00       10        12.67           0.03        0.01        0.280\n",
       "7868  1.46       10.00  120.83       5.09       10         9.50           0.01        0.00        0.101\n",
       "1095  1.61        5.09  126.89      15.00       10        20.00           0.19        0.14        0.590\n",
       "3131  0.58       15.00   76.16      30.00        5        15.00           0.02        0.01        0.259\n",
       "8116  1.96       10.00  140.00       5.09       10        12.67           0.05        0.01        0.214\n",
       "1561  0.89        5.09   94.34      15.00       10        20.00           0.11        0.09        0.606\n",
       "1670  1.52       65.00  123.29      61.67       80        20.00           0.27        0.21        0.879\n",
       "9951  1.68       45.00  129.61       5.09       90         0.32           0.00        0.00        0.403\n",
       "4553  1.90       15.00  137.84       5.09        5         3.17           0.01        0.00        0.090\n",
       "4113  0.43       10.00   65.57      20.00       10         3.17           0.00        0.00        0.064\n",
       "4394  1.34       10.00  115.76       2.33       10         3.17           0.00        0.00        0.064\n",
       "4631  1.35        2.33  116.19       2.33       10         3.17           0.00        0.00        0.015\n",
       "3527  1.78       10.00  133.42      20.00       10        15.00           0.10        0.02        0.358\n",
       "2002  0.50       20.00  300.00       5.00       70        38.33           0.16        0.13        0.832\n",
       "9572  0.48       83.33   69.28      45.00       80         0.32           0.00        0.00        0.668\n",
       "168   0.96       10.00   97.98      20.00       10        10.10           0.02        0.02        0.257\n",
       "3465  1.60        5.09  126.49      10.00       10        15.00           0.07        0.02        0.302\n",
       "9516  1.32       65.00  114.89      61.67       80         0.32           0.00        0.00        0.520\n",
       "9539  1.55       65.00  124.50      61.67       80         0.32           0.00        0.00        0.520\n",
       "2133  0.67       65.00   81.85      61.67       80        38.33           0.24        0.18        0.941\n",
       "4421  1.20        2.33  109.54       2.33       10         3.17           0.00        0.00        0.015\n",
       "2036  1.41       22.50  118.74       2.33       70        38.33           0.41        0.20        0.750\n",
       "7536  1.01       45.00  100.50       5.09       90         9.50           0.05        0.01        0.475\n",
       "7442  1.79       45.00  133.79      10.00       90         9.50           0.08        0.02        0.476\n",
       "3378  1.83       65.00  135.28      61.67       80        15.00           0.22        0.08        0.811\n",
       "5982  1.65       65.00  128.45      61.67       80         1.58           0.01        0.00        0.549\n",
       "8103  0.35       10.00   59.16      15.00       10        12.67           0.01        0.00        0.294\n",
       "2960  0.33        5.09   57.45      10.00       10        38.33           0.10        0.07        0.765\n",
       "4011  1.92        5.09  138.56      15.00       10         3.17           0.00        0.00        0.033\n",
       "6180  0.49        5.09   70.00      15.00       10         6.33           0.00        0.00        0.044\n",
       "210   1.30       15.00  114.02       5.09        5        10.10           0.02        0.01        0.137\n",
       "8626  0.37       15.00   60.83      30.00        5        12.67           0.01        0.00        0.169\n",
       "1919  1.17       22.50  108.17      10.00       70        20.00           0.15        0.08        0.624\n",
       "718   1.84       10.00  135.65       5.09       10        10.10           0.04        0.02        0.192\n",
       "5327  0.30       10.00   54.77      20.00       10         1.58           0.00        0.00        0.028\n",
       "9985  1.17        2.33  108.17       2.33       10         0.32           0.00        0.00        0.002\n",
       "1298  1.22       10.00  110.45       5.09       10        20.00           0.13        0.06        0.521\n",
       "4441  0.83        5.09   91.10      10.00       10         3.17           0.00        0.00        0.033\n",
       "6495  0.92       22.50   95.92       5.09       70         6.33           0.01        0.00        0.216\n",
       "9597  0.30       83.33   54.77      45.00       80         0.32           0.00        0.00        0.668\n",
       "8042  1.41       22.50  118.74       2.33       70        12.67           0.06        0.01        0.324\n",
       "3903  0.30       45.00   54.77      10.00       90        15.00           0.03        0.01        0.684\n",
       "9934  1.38       15.00  117.47      10.00        5         0.32           0.00        0.00        0.007\n",
       "3790  0.19        5.09   43.59      15.00       10        15.00           0.01        0.00        0.419\n",
       "4074  1.07        5.09  103.44      15.00       10         3.17           0.00        0.00        0.033\n",
       "1287  1.52       30.00  123.29       5.09       80        20.00           0.20        0.13        0.670\n",
       "8999  0.35       45.00   59.16      15.00       90        12.67           0.03        0.01        0.623\n",
       "6388  0.84       30.00   91.65       5.09       80         6.33           0.02        0.00        0.293"
      ]
     },
     "execution_count": 14,
     "metadata": {},
     "output_type": "execute_result"
    }
   ],
   "source": [
    "X_train[:50]"
   ]
  },
  {
   "cell_type": "code",
   "execution_count": 15,
   "id": "032eda89-3cee-4040-9553-2a353e39b1d0",
   "metadata": {
    "tags": []
   },
   "outputs": [],
   "source": [
    "normalizer = preprocessing.Normalization()\n",
    "normalizer.adapt(np.array(X_train))\n"
   ]
  },
  {
   "attachments": {},
   "cell_type": "markdown",
   "id": "43dae304-a279-430d-baa1-ebe5d19f1c98",
   "metadata": {},
   "source": [
    "# Build the model"
   ]
  },
  {
   "cell_type": "code",
   "execution_count": 16,
   "id": "99b2e114-ff60-4200-ae35-f80089181eb9",
   "metadata": {
    "tags": []
   },
   "outputs": [
    {
     "name": "stdout",
     "output_type": "stream",
     "text": [
      "Model: \"sequential\"\n",
      "_________________________________________________________________\n",
      " Layer (type)                Output Shape              Param #   \n",
      "=================================================================\n",
      " normalization (Normalizatio  (None, 9)                19        \n",
      " n)                                                              \n",
      "                                                                 \n",
      " dense (Dense)               (None, 9)                 90        \n",
      "                                                                 \n",
      " dropout (Dropout)           (None, 9)                 0         \n",
      "                                                                 \n",
      " dense_1 (Dense)             (None, 18)                180       \n",
      "                                                                 \n",
      " dropout_1 (Dropout)         (None, 18)                0         \n",
      "                                                                 \n",
      " dense_2 (Dense)             (None, 7)                 133       \n",
      "                                                                 \n",
      "=================================================================\n",
      "Total params: 422\n",
      "Trainable params: 403\n",
      "Non-trainable params: 19\n",
      "_________________________________________________________________\n"
     ]
    }
   ],
   "source": [
    "model = Sequential()\n",
    "model.add(normalizer)\n",
    "model.add(Dense(units=X_train.shape[1], activation='relu', input_dim=X_train.shape[1]))\n",
    "model.add(Dropout(0.2))\n",
    "model.add(Dense(18, activation='relu'))\n",
    "model.add(Dropout(0.2))\n",
    "model.add(Dense(units=y_train.shape[1], activation='softmax'))\n",
    "model.summary()"
   ]
  },
  {
   "cell_type": "code",
   "execution_count": 17,
   "id": "61ddff67-e74f-4454-a253-40577f7a2722",
   "metadata": {
    "tags": []
   },
   "outputs": [
    {
     "name": "stdout",
     "output_type": "stream",
     "text": [
      "Epoch 1/100\n",
      "501/501 [==============================] - 2s 3ms/step - loss: 1.4205 - accuracy: 0.4514 - val_loss: 1.0299 - val_accuracy: 0.5849\n",
      "Epoch 2/100\n",
      "501/501 [==============================] - 1s 2ms/step - loss: 1.0083 - accuracy: 0.5830 - val_loss: 0.8444 - val_accuracy: 0.6319\n",
      "Epoch 3/100\n",
      "501/501 [==============================] - 1s 2ms/step - loss: 0.8794 - accuracy: 0.6266 - val_loss: 0.7462 - val_accuracy: 0.7053\n",
      "Epoch 4/100\n",
      "501/501 [==============================] - 1s 2ms/step - loss: 0.7892 - accuracy: 0.6661 - val_loss: 0.6407 - val_accuracy: 0.7468\n",
      "Epoch 5/100\n",
      "501/501 [==============================] - 1s 2ms/step - loss: 0.6957 - accuracy: 0.7005 - val_loss: 0.5283 - val_accuracy: 0.7907\n",
      "Epoch 6/100\n",
      "501/501 [==============================] - 1s 2ms/step - loss: 0.6177 - accuracy: 0.7321 - val_loss: 0.4152 - val_accuracy: 0.8022\n",
      "Epoch 7/100\n",
      "501/501 [==============================] - 1s 2ms/step - loss: 0.5383 - accuracy: 0.7614 - val_loss: 0.3142 - val_accuracy: 0.8037\n",
      "Epoch 8/100\n",
      "501/501 [==============================] - 1s 2ms/step - loss: 0.4617 - accuracy: 0.8059 - val_loss: 0.2332 - val_accuracy: 0.9136\n",
      "Epoch 9/100\n",
      "501/501 [==============================] - 1s 2ms/step - loss: 0.3977 - accuracy: 0.8364 - val_loss: 0.1721 - val_accuracy: 0.9990\n",
      "Epoch 10/100\n",
      "501/501 [==============================] - 1s 2ms/step - loss: 0.3473 - accuracy: 0.8595 - val_loss: 0.1369 - val_accuracy: 0.9925\n",
      "Epoch 11/100\n",
      "501/501 [==============================] - 1s 2ms/step - loss: 0.3200 - accuracy: 0.8782 - val_loss: 0.1132 - val_accuracy: 0.9995\n",
      "Epoch 12/100\n",
      "501/501 [==============================] - 1s 2ms/step - loss: 0.2809 - accuracy: 0.8950 - val_loss: 0.0977 - val_accuracy: 0.9990\n",
      "Epoch 13/100\n",
      "501/501 [==============================] - 1s 2ms/step - loss: 0.2632 - accuracy: 0.9051 - val_loss: 0.0848 - val_accuracy: 0.9985\n",
      "Epoch 14/100\n",
      "501/501 [==============================] - 1s 3ms/step - loss: 0.2549 - accuracy: 0.9031 - val_loss: 0.0764 - val_accuracy: 1.0000\n",
      "Epoch 15/100\n",
      "501/501 [==============================] - 1s 2ms/step - loss: 0.2287 - accuracy: 0.9150 - val_loss: 0.0685 - val_accuracy: 1.0000\n",
      "Epoch 16/100\n",
      "501/501 [==============================] - 1s 2ms/step - loss: 0.2231 - accuracy: 0.9177 - val_loss: 0.0630 - val_accuracy: 0.9995\n",
      "Epoch 17/100\n",
      "501/501 [==============================] - 1s 2ms/step - loss: 0.2126 - accuracy: 0.9192 - val_loss: 0.0603 - val_accuracy: 1.0000\n",
      "Epoch 18/100\n",
      "501/501 [==============================] - 1s 2ms/step - loss: 0.2032 - accuracy: 0.9250 - val_loss: 0.0503 - val_accuracy: 0.9995\n",
      "Epoch 19/100\n",
      "501/501 [==============================] - 1s 2ms/step - loss: 0.2045 - accuracy: 0.9238 - val_loss: 0.0550 - val_accuracy: 1.0000\n",
      "Epoch 20/100\n",
      "501/501 [==============================] - 1s 2ms/step - loss: 0.1908 - accuracy: 0.9281 - val_loss: 0.0474 - val_accuracy: 1.0000\n",
      "Epoch 21/100\n",
      "501/501 [==============================] - 1s 2ms/step - loss: 0.1945 - accuracy: 0.9256 - val_loss: 0.0517 - val_accuracy: 1.0000\n",
      "Epoch 22/100\n",
      "501/501 [==============================] - 1s 2ms/step - loss: 0.1907 - accuracy: 0.9252 - val_loss: 0.0481 - val_accuracy: 1.0000\n",
      "Epoch 23/100\n",
      "501/501 [==============================] - 1s 2ms/step - loss: 0.1823 - accuracy: 0.9282 - val_loss: 0.0464 - val_accuracy: 1.0000\n",
      "Epoch 24/100\n",
      "501/501 [==============================] - 1s 2ms/step - loss: 0.1775 - accuracy: 0.9329 - val_loss: 0.0449 - val_accuracy: 1.0000\n",
      "Epoch 25/100\n",
      "501/501 [==============================] - 1s 2ms/step - loss: 0.1769 - accuracy: 0.9311 - val_loss: 0.0501 - val_accuracy: 1.0000\n",
      "Epoch 26/100\n",
      "501/501 [==============================] - 1s 2ms/step - loss: 0.1635 - accuracy: 0.9404 - val_loss: 0.0431 - val_accuracy: 1.0000\n",
      "Epoch 27/100\n",
      "501/501 [==============================] - 1s 2ms/step - loss: 0.1627 - accuracy: 0.9349 - val_loss: 0.0346 - val_accuracy: 1.0000\n",
      "Epoch 28/100\n",
      "501/501 [==============================] - 1s 2ms/step - loss: 0.1635 - accuracy: 0.9353 - val_loss: 0.0331 - val_accuracy: 1.0000\n",
      "Epoch 29/100\n",
      "501/501 [==============================] - 1s 2ms/step - loss: 0.1605 - accuracy: 0.9393 - val_loss: 0.0395 - val_accuracy: 1.0000\n",
      "Epoch 30/100\n",
      "501/501 [==============================] - 1s 2ms/step - loss: 0.1518 - accuracy: 0.9409 - val_loss: 0.0344 - val_accuracy: 1.0000\n",
      "Epoch 31/100\n",
      "501/501 [==============================] - 1s 2ms/step - loss: 0.1649 - accuracy: 0.9376 - val_loss: 0.0397 - val_accuracy: 1.0000\n",
      "Epoch 32/100\n",
      "501/501 [==============================] - 1s 2ms/step - loss: 0.1528 - accuracy: 0.9431 - val_loss: 0.0297 - val_accuracy: 1.0000\n",
      "Epoch 33/100\n",
      "501/501 [==============================] - 1s 2ms/step - loss: 0.1583 - accuracy: 0.9421 - val_loss: 0.0398 - val_accuracy: 1.0000\n",
      "Epoch 34/100\n",
      "501/501 [==============================] - 1s 2ms/step - loss: 0.1610 - accuracy: 0.9393 - val_loss: 0.0268 - val_accuracy: 1.0000\n",
      "Epoch 35/100\n",
      "501/501 [==============================] - 1s 2ms/step - loss: 0.1568 - accuracy: 0.9393 - val_loss: 0.0329 - val_accuracy: 1.0000\n",
      "Epoch 36/100\n",
      "501/501 [==============================] - 1s 2ms/step - loss: 0.1550 - accuracy: 0.9406 - val_loss: 0.0396 - val_accuracy: 1.0000\n",
      "Epoch 37/100\n",
      "501/501 [==============================] - 1s 2ms/step - loss: 0.1561 - accuracy: 0.9396 - val_loss: 0.0319 - val_accuracy: 1.0000\n",
      "Epoch 38/100\n",
      "501/501 [==============================] - 1s 2ms/step - loss: 0.1492 - accuracy: 0.9412 - val_loss: 0.0346 - val_accuracy: 1.0000\n",
      "Epoch 39/100\n",
      "501/501 [==============================] - 1s 2ms/step - loss: 0.1547 - accuracy: 0.9398 - val_loss: 0.0306 - val_accuracy: 1.0000\n",
      "Epoch 40/100\n",
      "501/501 [==============================] - 1s 2ms/step - loss: 0.1453 - accuracy: 0.9446 - val_loss: 0.0277 - val_accuracy: 1.0000\n",
      "Epoch 41/100\n",
      "501/501 [==============================] - 1s 2ms/step - loss: 0.1507 - accuracy: 0.9414 - val_loss: 0.0369 - val_accuracy: 1.0000\n",
      "Epoch 42/100\n",
      "501/501 [==============================] - 1s 2ms/step - loss: 0.1404 - accuracy: 0.9442 - val_loss: 0.0273 - val_accuracy: 1.0000\n",
      "Epoch 43/100\n",
      "501/501 [==============================] - 1s 2ms/step - loss: 0.1451 - accuracy: 0.9447 - val_loss: 0.0311 - val_accuracy: 1.0000\n",
      "Epoch 44/100\n",
      "501/501 [==============================] - 1s 2ms/step - loss: 0.1394 - accuracy: 0.9458 - val_loss: 0.0290 - val_accuracy: 1.0000\n"
     ]
    }
   ],
   "source": [
    "model.compile(\n",
    "    optimizer='adam',\n",
    "    loss='categorical_crossentropy',\n",
    "    metrics=['accuracy']\n",
    ")\n",
    "history = model.fit(\n",
    "    x=X_train,\n",
    "    y=y_train,\n",
    "    epochs=100,\n",
    "    validation_data=(X_test, y_test),\n",
    "    validation_split=0.2,\n",
    "    verbose=1,\n",
    "    batch_size=16,\n",
    "    callbacks=[EarlyStopping(monitor='val_loss', patience=10)]\n",
    ")"
   ]
  },
  {
   "cell_type": "code",
   "execution_count": 18,
   "id": "5f0e2731-5e33-42c8-9f6b-139e25fde8aa",
   "metadata": {
    "tags": []
   },
   "outputs": [
    {
     "name": "stdout",
     "output_type": "stream",
     "text": [
      "63/63 [==============================] - 0s 2ms/step - loss: 0.0290 - accuracy: 1.0000\n",
      "Test set accuracy: 1.000\n"
     ]
    }
   ],
   "source": [
    "# Evaluate ANN model\n",
    "loss, accuracy = model.evaluate(X_test, y_test)\n",
    "print(f\"Test set accuracy: {accuracy:.3f}\")"
   ]
  },
  {
   "cell_type": "code",
   "execution_count": 19,
   "id": "5ca7057a-6890-4505-852c-6c1226a798f6",
   "metadata": {},
   "outputs": [
    {
     "name": "stdout",
     "output_type": "stream",
     "text": [
      "63/63 [==============================] - 0s 1ms/step\n"
     ]
    }
   ],
   "source": [
    "# model.predict(X_test)\n",
    "y_pred = model.predict(X_test)"
   ]
  },
  {
   "cell_type": "code",
   "execution_count": 20,
   "id": "5a615160",
   "metadata": {},
   "outputs": [
    {
     "data": {
      "text/html": [
       "<div>\n",
       "<style scoped>\n",
       "    .dataframe tbody tr th:only-of-type {\n",
       "        vertical-align: middle;\n",
       "    }\n",
       "\n",
       "    .dataframe tbody tr th {\n",
       "        vertical-align: top;\n",
       "    }\n",
       "\n",
       "    .dataframe thead th {\n",
       "        text-align: right;\n",
       "    }\n",
       "</style>\n",
       "<table border=\"1\" class=\"dataframe\">\n",
       "  <thead>\n",
       "    <tr style=\"text-align: right;\">\n",
       "      <th></th>\n",
       "      <th>loss</th>\n",
       "      <th>accuracy</th>\n",
       "      <th>val_loss</th>\n",
       "      <th>val_accuracy</th>\n",
       "      <th>epoch</th>\n",
       "    </tr>\n",
       "  </thead>\n",
       "  <tbody>\n",
       "    <tr>\n",
       "      <th>0</th>\n",
       "      <td>1.420465</td>\n",
       "      <td>0.451424</td>\n",
       "      <td>1.029929</td>\n",
       "      <td>0.584915</td>\n",
       "      <td>0</td>\n",
       "    </tr>\n",
       "    <tr>\n",
       "      <th>1</th>\n",
       "      <td>1.008345</td>\n",
       "      <td>0.583042</td>\n",
       "      <td>0.844355</td>\n",
       "      <td>0.631868</td>\n",
       "      <td>1</td>\n",
       "    </tr>\n",
       "    <tr>\n",
       "      <th>2</th>\n",
       "      <td>0.879364</td>\n",
       "      <td>0.626623</td>\n",
       "      <td>0.746162</td>\n",
       "      <td>0.705295</td>\n",
       "      <td>2</td>\n",
       "    </tr>\n",
       "    <tr>\n",
       "      <th>3</th>\n",
       "      <td>0.789207</td>\n",
       "      <td>0.666084</td>\n",
       "      <td>0.640726</td>\n",
       "      <td>0.746753</td>\n",
       "      <td>3</td>\n",
       "    </tr>\n",
       "    <tr>\n",
       "      <th>4</th>\n",
       "      <td>0.695730</td>\n",
       "      <td>0.700549</td>\n",
       "      <td>0.528291</td>\n",
       "      <td>0.790709</td>\n",
       "      <td>4</td>\n",
       "    </tr>\n",
       "    <tr>\n",
       "      <th>5</th>\n",
       "      <td>0.617691</td>\n",
       "      <td>0.732143</td>\n",
       "      <td>0.415220</td>\n",
       "      <td>0.802198</td>\n",
       "      <td>5</td>\n",
       "    </tr>\n",
       "    <tr>\n",
       "      <th>6</th>\n",
       "      <td>0.538345</td>\n",
       "      <td>0.761364</td>\n",
       "      <td>0.314234</td>\n",
       "      <td>0.803696</td>\n",
       "      <td>6</td>\n",
       "    </tr>\n",
       "    <tr>\n",
       "      <th>7</th>\n",
       "      <td>0.461741</td>\n",
       "      <td>0.805944</td>\n",
       "      <td>0.233198</td>\n",
       "      <td>0.913586</td>\n",
       "      <td>7</td>\n",
       "    </tr>\n",
       "    <tr>\n",
       "      <th>8</th>\n",
       "      <td>0.397731</td>\n",
       "      <td>0.836414</td>\n",
       "      <td>0.172083</td>\n",
       "      <td>0.999001</td>\n",
       "      <td>8</td>\n",
       "    </tr>\n",
       "    <tr>\n",
       "      <th>9</th>\n",
       "      <td>0.347252</td>\n",
       "      <td>0.859515</td>\n",
       "      <td>0.136908</td>\n",
       "      <td>0.992508</td>\n",
       "      <td>9</td>\n",
       "    </tr>\n",
       "    <tr>\n",
       "      <th>10</th>\n",
       "      <td>0.319974</td>\n",
       "      <td>0.878247</td>\n",
       "      <td>0.113199</td>\n",
       "      <td>0.999501</td>\n",
       "      <td>10</td>\n",
       "    </tr>\n",
       "    <tr>\n",
       "      <th>11</th>\n",
       "      <td>0.280855</td>\n",
       "      <td>0.894980</td>\n",
       "      <td>0.097726</td>\n",
       "      <td>0.999001</td>\n",
       "      <td>11</td>\n",
       "    </tr>\n",
       "    <tr>\n",
       "      <th>12</th>\n",
       "      <td>0.263243</td>\n",
       "      <td>0.905095</td>\n",
       "      <td>0.084822</td>\n",
       "      <td>0.998501</td>\n",
       "      <td>12</td>\n",
       "    </tr>\n",
       "    <tr>\n",
       "      <th>13</th>\n",
       "      <td>0.254948</td>\n",
       "      <td>0.903097</td>\n",
       "      <td>0.076351</td>\n",
       "      <td>1.000000</td>\n",
       "      <td>13</td>\n",
       "    </tr>\n",
       "    <tr>\n",
       "      <th>14</th>\n",
       "      <td>0.228697</td>\n",
       "      <td>0.914960</td>\n",
       "      <td>0.068494</td>\n",
       "      <td>1.000000</td>\n",
       "      <td>14</td>\n",
       "    </tr>\n",
       "    <tr>\n",
       "      <th>15</th>\n",
       "      <td>0.223118</td>\n",
       "      <td>0.917707</td>\n",
       "      <td>0.062959</td>\n",
       "      <td>0.999501</td>\n",
       "      <td>15</td>\n",
       "    </tr>\n",
       "    <tr>\n",
       "      <th>16</th>\n",
       "      <td>0.212611</td>\n",
       "      <td>0.919206</td>\n",
       "      <td>0.060272</td>\n",
       "      <td>1.000000</td>\n",
       "      <td>16</td>\n",
       "    </tr>\n",
       "    <tr>\n",
       "      <th>17</th>\n",
       "      <td>0.203174</td>\n",
       "      <td>0.924950</td>\n",
       "      <td>0.050287</td>\n",
       "      <td>0.999501</td>\n",
       "      <td>17</td>\n",
       "    </tr>\n",
       "    <tr>\n",
       "      <th>18</th>\n",
       "      <td>0.204471</td>\n",
       "      <td>0.923826</td>\n",
       "      <td>0.054950</td>\n",
       "      <td>1.000000</td>\n",
       "      <td>18</td>\n",
       "    </tr>\n",
       "    <tr>\n",
       "      <th>19</th>\n",
       "      <td>0.190796</td>\n",
       "      <td>0.928072</td>\n",
       "      <td>0.047445</td>\n",
       "      <td>1.000000</td>\n",
       "      <td>19</td>\n",
       "    </tr>\n",
       "    <tr>\n",
       "      <th>20</th>\n",
       "      <td>0.194455</td>\n",
       "      <td>0.925574</td>\n",
       "      <td>0.051672</td>\n",
       "      <td>1.000000</td>\n",
       "      <td>20</td>\n",
       "    </tr>\n",
       "    <tr>\n",
       "      <th>21</th>\n",
       "      <td>0.190747</td>\n",
       "      <td>0.925200</td>\n",
       "      <td>0.048063</td>\n",
       "      <td>1.000000</td>\n",
       "      <td>21</td>\n",
       "    </tr>\n",
       "    <tr>\n",
       "      <th>22</th>\n",
       "      <td>0.182256</td>\n",
       "      <td>0.928197</td>\n",
       "      <td>0.046367</td>\n",
       "      <td>1.000000</td>\n",
       "      <td>22</td>\n",
       "    </tr>\n",
       "    <tr>\n",
       "      <th>23</th>\n",
       "      <td>0.177468</td>\n",
       "      <td>0.932942</td>\n",
       "      <td>0.044869</td>\n",
       "      <td>1.000000</td>\n",
       "      <td>23</td>\n",
       "    </tr>\n",
       "    <tr>\n",
       "      <th>24</th>\n",
       "      <td>0.176938</td>\n",
       "      <td>0.931069</td>\n",
       "      <td>0.050139</td>\n",
       "      <td>1.000000</td>\n",
       "      <td>24</td>\n",
       "    </tr>\n",
       "    <tr>\n",
       "      <th>25</th>\n",
       "      <td>0.163541</td>\n",
       "      <td>0.940435</td>\n",
       "      <td>0.043079</td>\n",
       "      <td>1.000000</td>\n",
       "      <td>25</td>\n",
       "    </tr>\n",
       "    <tr>\n",
       "      <th>26</th>\n",
       "      <td>0.162731</td>\n",
       "      <td>0.934940</td>\n",
       "      <td>0.034604</td>\n",
       "      <td>1.000000</td>\n",
       "      <td>26</td>\n",
       "    </tr>\n",
       "    <tr>\n",
       "      <th>27</th>\n",
       "      <td>0.163488</td>\n",
       "      <td>0.935315</td>\n",
       "      <td>0.033063</td>\n",
       "      <td>1.000000</td>\n",
       "      <td>27</td>\n",
       "    </tr>\n",
       "    <tr>\n",
       "      <th>28</th>\n",
       "      <td>0.160528</td>\n",
       "      <td>0.939311</td>\n",
       "      <td>0.039550</td>\n",
       "      <td>1.000000</td>\n",
       "      <td>28</td>\n",
       "    </tr>\n",
       "    <tr>\n",
       "      <th>29</th>\n",
       "      <td>0.151829</td>\n",
       "      <td>0.940934</td>\n",
       "      <td>0.034369</td>\n",
       "      <td>1.000000</td>\n",
       "      <td>29</td>\n",
       "    </tr>\n",
       "    <tr>\n",
       "      <th>30</th>\n",
       "      <td>0.164881</td>\n",
       "      <td>0.937562</td>\n",
       "      <td>0.039659</td>\n",
       "      <td>1.000000</td>\n",
       "      <td>30</td>\n",
       "    </tr>\n",
       "    <tr>\n",
       "      <th>31</th>\n",
       "      <td>0.152791</td>\n",
       "      <td>0.943057</td>\n",
       "      <td>0.029722</td>\n",
       "      <td>1.000000</td>\n",
       "      <td>31</td>\n",
       "    </tr>\n",
       "    <tr>\n",
       "      <th>32</th>\n",
       "      <td>0.158333</td>\n",
       "      <td>0.942058</td>\n",
       "      <td>0.039762</td>\n",
       "      <td>1.000000</td>\n",
       "      <td>32</td>\n",
       "    </tr>\n",
       "    <tr>\n",
       "      <th>33</th>\n",
       "      <td>0.161036</td>\n",
       "      <td>0.939311</td>\n",
       "      <td>0.026826</td>\n",
       "      <td>1.000000</td>\n",
       "      <td>33</td>\n",
       "    </tr>\n",
       "    <tr>\n",
       "      <th>34</th>\n",
       "      <td>0.156817</td>\n",
       "      <td>0.939311</td>\n",
       "      <td>0.032937</td>\n",
       "      <td>1.000000</td>\n",
       "      <td>34</td>\n",
       "    </tr>\n",
       "    <tr>\n",
       "      <th>35</th>\n",
       "      <td>0.155014</td>\n",
       "      <td>0.940559</td>\n",
       "      <td>0.039645</td>\n",
       "      <td>1.000000</td>\n",
       "      <td>35</td>\n",
       "    </tr>\n",
       "    <tr>\n",
       "      <th>36</th>\n",
       "      <td>0.156091</td>\n",
       "      <td>0.939560</td>\n",
       "      <td>0.031940</td>\n",
       "      <td>1.000000</td>\n",
       "      <td>36</td>\n",
       "    </tr>\n",
       "    <tr>\n",
       "      <th>37</th>\n",
       "      <td>0.149246</td>\n",
       "      <td>0.941184</td>\n",
       "      <td>0.034626</td>\n",
       "      <td>1.000000</td>\n",
       "      <td>37</td>\n",
       "    </tr>\n",
       "    <tr>\n",
       "      <th>38</th>\n",
       "      <td>0.154657</td>\n",
       "      <td>0.939810</td>\n",
       "      <td>0.030596</td>\n",
       "      <td>1.000000</td>\n",
       "      <td>38</td>\n",
       "    </tr>\n",
       "    <tr>\n",
       "      <th>39</th>\n",
       "      <td>0.145279</td>\n",
       "      <td>0.944555</td>\n",
       "      <td>0.027690</td>\n",
       "      <td>1.000000</td>\n",
       "      <td>39</td>\n",
       "    </tr>\n",
       "    <tr>\n",
       "      <th>40</th>\n",
       "      <td>0.150652</td>\n",
       "      <td>0.941434</td>\n",
       "      <td>0.036948</td>\n",
       "      <td>1.000000</td>\n",
       "      <td>40</td>\n",
       "    </tr>\n",
       "    <tr>\n",
       "      <th>41</th>\n",
       "      <td>0.140421</td>\n",
       "      <td>0.944181</td>\n",
       "      <td>0.027259</td>\n",
       "      <td>1.000000</td>\n",
       "      <td>41</td>\n",
       "    </tr>\n",
       "    <tr>\n",
       "      <th>42</th>\n",
       "      <td>0.145101</td>\n",
       "      <td>0.944680</td>\n",
       "      <td>0.031100</td>\n",
       "      <td>1.000000</td>\n",
       "      <td>42</td>\n",
       "    </tr>\n",
       "    <tr>\n",
       "      <th>43</th>\n",
       "      <td>0.139388</td>\n",
       "      <td>0.945804</td>\n",
       "      <td>0.029012</td>\n",
       "      <td>1.000000</td>\n",
       "      <td>43</td>\n",
       "    </tr>\n",
       "  </tbody>\n",
       "</table>\n",
       "</div>"
      ],
      "text/plain": [
       "        loss  accuracy  val_loss  val_accuracy  epoch\n",
       "0   1.420465  0.451424  1.029929      0.584915      0\n",
       "1   1.008345  0.583042  0.844355      0.631868      1\n",
       "2   0.879364  0.626623  0.746162      0.705295      2\n",
       "3   0.789207  0.666084  0.640726      0.746753      3\n",
       "4   0.695730  0.700549  0.528291      0.790709      4\n",
       "5   0.617691  0.732143  0.415220      0.802198      5\n",
       "6   0.538345  0.761364  0.314234      0.803696      6\n",
       "7   0.461741  0.805944  0.233198      0.913586      7\n",
       "8   0.397731  0.836414  0.172083      0.999001      8\n",
       "9   0.347252  0.859515  0.136908      0.992508      9\n",
       "10  0.319974  0.878247  0.113199      0.999501     10\n",
       "11  0.280855  0.894980  0.097726      0.999001     11\n",
       "12  0.263243  0.905095  0.084822      0.998501     12\n",
       "13  0.254948  0.903097  0.076351      1.000000     13\n",
       "14  0.228697  0.914960  0.068494      1.000000     14\n",
       "15  0.223118  0.917707  0.062959      0.999501     15\n",
       "16  0.212611  0.919206  0.060272      1.000000     16\n",
       "17  0.203174  0.924950  0.050287      0.999501     17\n",
       "18  0.204471  0.923826  0.054950      1.000000     18\n",
       "19  0.190796  0.928072  0.047445      1.000000     19\n",
       "20  0.194455  0.925574  0.051672      1.000000     20\n",
       "21  0.190747  0.925200  0.048063      1.000000     21\n",
       "22  0.182256  0.928197  0.046367      1.000000     22\n",
       "23  0.177468  0.932942  0.044869      1.000000     23\n",
       "24  0.176938  0.931069  0.050139      1.000000     24\n",
       "25  0.163541  0.940435  0.043079      1.000000     25\n",
       "26  0.162731  0.934940  0.034604      1.000000     26\n",
       "27  0.163488  0.935315  0.033063      1.000000     27\n",
       "28  0.160528  0.939311  0.039550      1.000000     28\n",
       "29  0.151829  0.940934  0.034369      1.000000     29\n",
       "30  0.164881  0.937562  0.039659      1.000000     30\n",
       "31  0.152791  0.943057  0.029722      1.000000     31\n",
       "32  0.158333  0.942058  0.039762      1.000000     32\n",
       "33  0.161036  0.939311  0.026826      1.000000     33\n",
       "34  0.156817  0.939311  0.032937      1.000000     34\n",
       "35  0.155014  0.940559  0.039645      1.000000     35\n",
       "36  0.156091  0.939560  0.031940      1.000000     36\n",
       "37  0.149246  0.941184  0.034626      1.000000     37\n",
       "38  0.154657  0.939810  0.030596      1.000000     38\n",
       "39  0.145279  0.944555  0.027690      1.000000     39\n",
       "40  0.150652  0.941434  0.036948      1.000000     40\n",
       "41  0.140421  0.944181  0.027259      1.000000     41\n",
       "42  0.145101  0.944680  0.031100      1.000000     42\n",
       "43  0.139388  0.945804  0.029012      1.000000     43"
      ]
     },
     "execution_count": 20,
     "metadata": {},
     "output_type": "execute_result"
    }
   ],
   "source": [
    "metrics = pd.DataFrame(history.history)\n",
    "metrics['epoch'] = history.epoch\n",
    "metrics"
   ]
  },
  {
   "attachments": {},
   "cell_type": "markdown",
   "id": "4461c262",
   "metadata": {},
   "source": [
    "# Model evaluate"
   ]
  },
  {
   "cell_type": "code",
   "execution_count": 21,
   "id": "a42430b5",
   "metadata": {},
   "outputs": [
    {
     "data": {
      "application/vnd.plotly.v1+json": {
       "config": {
        "plotlyServerURL": "https://plot.ly"
       },
       "data": [
        {
         "name": "accuracy",
         "type": "scatter",
         "x": [
          0,
          1,
          2,
          3,
          4,
          5,
          6,
          7,
          8,
          9,
          10,
          11,
          12,
          13,
          14,
          15,
          16,
          17,
          18,
          19,
          20,
          21,
          22,
          23,
          24,
          25,
          26,
          27,
          28,
          29,
          30,
          31,
          32,
          33,
          34,
          35,
          36,
          37,
          38,
          39,
          40,
          41,
          42,
          43
         ],
         "xaxis": "x",
         "y": [
          0.4514235854148865,
          0.5830419659614563,
          0.6266233921051025,
          0.6660839319229126,
          0.7005494236946106,
          0.7321428656578064,
          0.7613636255264282,
          0.8059440851211548,
          0.836413562297821,
          0.8595154881477356,
          0.8782467246055603,
          0.8949800133705139,
          0.9050949215888977,
          0.9030969142913818,
          0.9149600267410278,
          0.9177072644233704,
          0.9192057847976685,
          0.9249500632286072,
          0.9238261580467224,
          0.928071916103363,
          0.9255744218826294,
          0.9251998066902161,
          0.9281967878341675,
          0.9329420328140259,
          0.9310689568519592,
          0.9404345750808716,
          0.9349400401115417,
          0.9353147149085999,
          0.9393106698989868,
          0.9409340620040894,
          0.9375624656677246,
          0.9430569410324097,
          0.9420579671859741,
          0.9393106698989868,
          0.9393106698989868,
          0.940559446811676,
          0.9395604133605957,
          0.9411838054656982,
          0.9398102164268494,
          0.9445554614067078,
          0.9414335489273071,
          0.9441808462142944,
          0.9446803331375122,
          0.9458041787147522
         ],
         "yaxis": "y"
        },
        {
         "name": "loss",
         "type": "scatter",
         "x": [
          0,
          1,
          2,
          3,
          4,
          5,
          6,
          7,
          8,
          9,
          10,
          11,
          12,
          13,
          14,
          15,
          16,
          17,
          18,
          19,
          20,
          21,
          22,
          23,
          24,
          25,
          26,
          27,
          28,
          29,
          30,
          31,
          32,
          33,
          34,
          35,
          36,
          37,
          38,
          39,
          40,
          41,
          42,
          43
         ],
         "xaxis": "x2",
         "y": [
          1.4204649925231934,
          1.0083445310592651,
          0.8793643712997437,
          0.7892069816589355,
          0.6957302093505859,
          0.617690920829773,
          0.538345456123352,
          0.4617407023906708,
          0.3977307379245758,
          0.3472519516944885,
          0.3199739158153534,
          0.2808547616004944,
          0.2632431089878082,
          0.254948228597641,
          0.2286972552537918,
          0.2231179177761078,
          0.21261096000671387,
          0.20317448675632477,
          0.20447111129760742,
          0.19079649448394775,
          0.19445469975471497,
          0.19074741005897522,
          0.1822556108236313,
          0.17746782302856445,
          0.1769382357597351,
          0.16354110836982727,
          0.16273097693920135,
          0.1634879857301712,
          0.16052785515785217,
          0.1518290638923645,
          0.16488143801689148,
          0.15279071033000946,
          0.1583331674337387,
          0.16103574633598328,
          0.15681710839271545,
          0.15501445531845093,
          0.15609078109264374,
          0.1492462456226349,
          0.15465666353702545,
          0.14527928829193115,
          0.15065203607082367,
          0.1404210478067398,
          0.14510051906108856,
          0.1393878310918808
         ],
         "yaxis": "y2"
        },
        {
         "name": "val_accuracy",
         "type": "scatter",
         "x": [
          0,
          1,
          2,
          3,
          4,
          5,
          6,
          7,
          8,
          9,
          10,
          11,
          12,
          13,
          14,
          15,
          16,
          17,
          18,
          19,
          20,
          21,
          22,
          23,
          24,
          25,
          26,
          27,
          28,
          29,
          30,
          31,
          32,
          33,
          34,
          35,
          36,
          37,
          38,
          39,
          40,
          41,
          42,
          43
         ],
         "xaxis": "x",
         "y": [
          0.5849151015281677,
          0.6318681240081787,
          0.7052947282791138,
          0.7467532753944397,
          0.7907093167304993,
          0.8021978139877319,
          0.8036962747573853,
          0.913586437702179,
          0.9990010261535645,
          0.9925075173377991,
          0.9995005130767822,
          0.9990010261535645,
          0.9985014796257019,
          1,
          1,
          0.9995005130767822,
          1,
          0.9995005130767822,
          1,
          1,
          1,
          1,
          1,
          1,
          1,
          1,
          1,
          1,
          1,
          1,
          1,
          1,
          1,
          1,
          1,
          1,
          1,
          1,
          1,
          1,
          1,
          1,
          1,
          1
         ],
         "yaxis": "y"
        },
        {
         "name": "val_loss",
         "type": "scatter",
         "x": [
          0,
          1,
          2,
          3,
          4,
          5,
          6,
          7,
          8,
          9,
          10,
          11,
          12,
          13,
          14,
          15,
          16,
          17,
          18,
          19,
          20,
          21,
          22,
          23,
          24,
          25,
          26,
          27,
          28,
          29,
          30,
          31,
          32,
          33,
          34,
          35,
          36,
          37,
          38,
          39,
          40,
          41,
          42,
          43
         ],
         "xaxis": "x2",
         "y": [
          1.0299291610717773,
          0.8443548679351807,
          0.746161937713623,
          0.6407256722450256,
          0.5282912850379944,
          0.41521990299224854,
          0.3142341077327728,
          0.2331981211900711,
          0.17208267748355865,
          0.13690795004367828,
          0.11319901049137115,
          0.09772608429193497,
          0.08482179045677185,
          0.07635074853897095,
          0.06849391758441925,
          0.06295903027057648,
          0.06027167662978172,
          0.05028694123029709,
          0.054950352758169174,
          0.04744543135166168,
          0.05167180672287941,
          0.04806267470121384,
          0.04636698216199875,
          0.0448685958981514,
          0.05013904348015785,
          0.04307939112186432,
          0.03460359573364258,
          0.03306303918361664,
          0.03954990953207016,
          0.0343690924346447,
          0.03965860977768898,
          0.029722165316343307,
          0.03976202756166458,
          0.026825549080967903,
          0.032936885952949524,
          0.039644576609134674,
          0.03193974122405052,
          0.03462577238678932,
          0.030596280470490456,
          0.027690302580595016,
          0.03694777563214302,
          0.027258964255452156,
          0.031100483611226082,
          0.029012024402618408
         ],
         "yaxis": "y2"
        }
       ],
       "layout": {
        "template": {
         "data": {
          "bar": [
           {
            "error_x": {
             "color": "#2a3f5f"
            },
            "error_y": {
             "color": "#2a3f5f"
            },
            "marker": {
             "line": {
              "color": "#E5ECF6",
              "width": 0.5
             },
             "pattern": {
              "fillmode": "overlay",
              "size": 10,
              "solidity": 0.2
             }
            },
            "type": "bar"
           }
          ],
          "barpolar": [
           {
            "marker": {
             "line": {
              "color": "#E5ECF6",
              "width": 0.5
             },
             "pattern": {
              "fillmode": "overlay",
              "size": 10,
              "solidity": 0.2
             }
            },
            "type": "barpolar"
           }
          ],
          "carpet": [
           {
            "aaxis": {
             "endlinecolor": "#2a3f5f",
             "gridcolor": "white",
             "linecolor": "white",
             "minorgridcolor": "white",
             "startlinecolor": "#2a3f5f"
            },
            "baxis": {
             "endlinecolor": "#2a3f5f",
             "gridcolor": "white",
             "linecolor": "white",
             "minorgridcolor": "white",
             "startlinecolor": "#2a3f5f"
            },
            "type": "carpet"
           }
          ],
          "choropleth": [
           {
            "colorbar": {
             "outlinewidth": 0,
             "ticks": ""
            },
            "type": "choropleth"
           }
          ],
          "contour": [
           {
            "colorbar": {
             "outlinewidth": 0,
             "ticks": ""
            },
            "colorscale": [
             [
              0,
              "#0d0887"
             ],
             [
              0.1111111111111111,
              "#46039f"
             ],
             [
              0.2222222222222222,
              "#7201a8"
             ],
             [
              0.3333333333333333,
              "#9c179e"
             ],
             [
              0.4444444444444444,
              "#bd3786"
             ],
             [
              0.5555555555555556,
              "#d8576b"
             ],
             [
              0.6666666666666666,
              "#ed7953"
             ],
             [
              0.7777777777777778,
              "#fb9f3a"
             ],
             [
              0.8888888888888888,
              "#fdca26"
             ],
             [
              1,
              "#f0f921"
             ]
            ],
            "type": "contour"
           }
          ],
          "contourcarpet": [
           {
            "colorbar": {
             "outlinewidth": 0,
             "ticks": ""
            },
            "type": "contourcarpet"
           }
          ],
          "heatmap": [
           {
            "colorbar": {
             "outlinewidth": 0,
             "ticks": ""
            },
            "colorscale": [
             [
              0,
              "#0d0887"
             ],
             [
              0.1111111111111111,
              "#46039f"
             ],
             [
              0.2222222222222222,
              "#7201a8"
             ],
             [
              0.3333333333333333,
              "#9c179e"
             ],
             [
              0.4444444444444444,
              "#bd3786"
             ],
             [
              0.5555555555555556,
              "#d8576b"
             ],
             [
              0.6666666666666666,
              "#ed7953"
             ],
             [
              0.7777777777777778,
              "#fb9f3a"
             ],
             [
              0.8888888888888888,
              "#fdca26"
             ],
             [
              1,
              "#f0f921"
             ]
            ],
            "type": "heatmap"
           }
          ],
          "heatmapgl": [
           {
            "colorbar": {
             "outlinewidth": 0,
             "ticks": ""
            },
            "colorscale": [
             [
              0,
              "#0d0887"
             ],
             [
              0.1111111111111111,
              "#46039f"
             ],
             [
              0.2222222222222222,
              "#7201a8"
             ],
             [
              0.3333333333333333,
              "#9c179e"
             ],
             [
              0.4444444444444444,
              "#bd3786"
             ],
             [
              0.5555555555555556,
              "#d8576b"
             ],
             [
              0.6666666666666666,
              "#ed7953"
             ],
             [
              0.7777777777777778,
              "#fb9f3a"
             ],
             [
              0.8888888888888888,
              "#fdca26"
             ],
             [
              1,
              "#f0f921"
             ]
            ],
            "type": "heatmapgl"
           }
          ],
          "histogram": [
           {
            "marker": {
             "pattern": {
              "fillmode": "overlay",
              "size": 10,
              "solidity": 0.2
             }
            },
            "type": "histogram"
           }
          ],
          "histogram2d": [
           {
            "colorbar": {
             "outlinewidth": 0,
             "ticks": ""
            },
            "colorscale": [
             [
              0,
              "#0d0887"
             ],
             [
              0.1111111111111111,
              "#46039f"
             ],
             [
              0.2222222222222222,
              "#7201a8"
             ],
             [
              0.3333333333333333,
              "#9c179e"
             ],
             [
              0.4444444444444444,
              "#bd3786"
             ],
             [
              0.5555555555555556,
              "#d8576b"
             ],
             [
              0.6666666666666666,
              "#ed7953"
             ],
             [
              0.7777777777777778,
              "#fb9f3a"
             ],
             [
              0.8888888888888888,
              "#fdca26"
             ],
             [
              1,
              "#f0f921"
             ]
            ],
            "type": "histogram2d"
           }
          ],
          "histogram2dcontour": [
           {
            "colorbar": {
             "outlinewidth": 0,
             "ticks": ""
            },
            "colorscale": [
             [
              0,
              "#0d0887"
             ],
             [
              0.1111111111111111,
              "#46039f"
             ],
             [
              0.2222222222222222,
              "#7201a8"
             ],
             [
              0.3333333333333333,
              "#9c179e"
             ],
             [
              0.4444444444444444,
              "#bd3786"
             ],
             [
              0.5555555555555556,
              "#d8576b"
             ],
             [
              0.6666666666666666,
              "#ed7953"
             ],
             [
              0.7777777777777778,
              "#fb9f3a"
             ],
             [
              0.8888888888888888,
              "#fdca26"
             ],
             [
              1,
              "#f0f921"
             ]
            ],
            "type": "histogram2dcontour"
           }
          ],
          "mesh3d": [
           {
            "colorbar": {
             "outlinewidth": 0,
             "ticks": ""
            },
            "type": "mesh3d"
           }
          ],
          "parcoords": [
           {
            "line": {
             "colorbar": {
              "outlinewidth": 0,
              "ticks": ""
             }
            },
            "type": "parcoords"
           }
          ],
          "pie": [
           {
            "automargin": true,
            "type": "pie"
           }
          ],
          "scatter": [
           {
            "fillpattern": {
             "fillmode": "overlay",
             "size": 10,
             "solidity": 0.2
            },
            "type": "scatter"
           }
          ],
          "scatter3d": [
           {
            "line": {
             "colorbar": {
              "outlinewidth": 0,
              "ticks": ""
             }
            },
            "marker": {
             "colorbar": {
              "outlinewidth": 0,
              "ticks": ""
             }
            },
            "type": "scatter3d"
           }
          ],
          "scattercarpet": [
           {
            "marker": {
             "colorbar": {
              "outlinewidth": 0,
              "ticks": ""
             }
            },
            "type": "scattercarpet"
           }
          ],
          "scattergeo": [
           {
            "marker": {
             "colorbar": {
              "outlinewidth": 0,
              "ticks": ""
             }
            },
            "type": "scattergeo"
           }
          ],
          "scattergl": [
           {
            "marker": {
             "colorbar": {
              "outlinewidth": 0,
              "ticks": ""
             }
            },
            "type": "scattergl"
           }
          ],
          "scattermapbox": [
           {
            "marker": {
             "colorbar": {
              "outlinewidth": 0,
              "ticks": ""
             }
            },
            "type": "scattermapbox"
           }
          ],
          "scatterpolar": [
           {
            "marker": {
             "colorbar": {
              "outlinewidth": 0,
              "ticks": ""
             }
            },
            "type": "scatterpolar"
           }
          ],
          "scatterpolargl": [
           {
            "marker": {
             "colorbar": {
              "outlinewidth": 0,
              "ticks": ""
             }
            },
            "type": "scatterpolargl"
           }
          ],
          "scatterternary": [
           {
            "marker": {
             "colorbar": {
              "outlinewidth": 0,
              "ticks": ""
             }
            },
            "type": "scatterternary"
           }
          ],
          "surface": [
           {
            "colorbar": {
             "outlinewidth": 0,
             "ticks": ""
            },
            "colorscale": [
             [
              0,
              "#0d0887"
             ],
             [
              0.1111111111111111,
              "#46039f"
             ],
             [
              0.2222222222222222,
              "#7201a8"
             ],
             [
              0.3333333333333333,
              "#9c179e"
             ],
             [
              0.4444444444444444,
              "#bd3786"
             ],
             [
              0.5555555555555556,
              "#d8576b"
             ],
             [
              0.6666666666666666,
              "#ed7953"
             ],
             [
              0.7777777777777778,
              "#fb9f3a"
             ],
             [
              0.8888888888888888,
              "#fdca26"
             ],
             [
              1,
              "#f0f921"
             ]
            ],
            "type": "surface"
           }
          ],
          "table": [
           {
            "cells": {
             "fill": {
              "color": "#EBF0F8"
             },
             "line": {
              "color": "white"
             }
            },
            "header": {
             "fill": {
              "color": "#C8D4E3"
             },
             "line": {
              "color": "white"
             }
            },
            "type": "table"
           }
          ]
         },
         "layout": {
          "annotationdefaults": {
           "arrowcolor": "#2a3f5f",
           "arrowhead": 0,
           "arrowwidth": 1
          },
          "autotypenumbers": "strict",
          "coloraxis": {
           "colorbar": {
            "outlinewidth": 0,
            "ticks": ""
           }
          },
          "colorscale": {
           "diverging": [
            [
             0,
             "#8e0152"
            ],
            [
             0.1,
             "#c51b7d"
            ],
            [
             0.2,
             "#de77ae"
            ],
            [
             0.3,
             "#f1b6da"
            ],
            [
             0.4,
             "#fde0ef"
            ],
            [
             0.5,
             "#f7f7f7"
            ],
            [
             0.6,
             "#e6f5d0"
            ],
            [
             0.7,
             "#b8e186"
            ],
            [
             0.8,
             "#7fbc41"
            ],
            [
             0.9,
             "#4d9221"
            ],
            [
             1,
             "#276419"
            ]
           ],
           "sequential": [
            [
             0,
             "#0d0887"
            ],
            [
             0.1111111111111111,
             "#46039f"
            ],
            [
             0.2222222222222222,
             "#7201a8"
            ],
            [
             0.3333333333333333,
             "#9c179e"
            ],
            [
             0.4444444444444444,
             "#bd3786"
            ],
            [
             0.5555555555555556,
             "#d8576b"
            ],
            [
             0.6666666666666666,
             "#ed7953"
            ],
            [
             0.7777777777777778,
             "#fb9f3a"
            ],
            [
             0.8888888888888888,
             "#fdca26"
            ],
            [
             1,
             "#f0f921"
            ]
           ],
           "sequentialminus": [
            [
             0,
             "#0d0887"
            ],
            [
             0.1111111111111111,
             "#46039f"
            ],
            [
             0.2222222222222222,
             "#7201a8"
            ],
            [
             0.3333333333333333,
             "#9c179e"
            ],
            [
             0.4444444444444444,
             "#bd3786"
            ],
            [
             0.5555555555555556,
             "#d8576b"
            ],
            [
             0.6666666666666666,
             "#ed7953"
            ],
            [
             0.7777777777777778,
             "#fb9f3a"
            ],
            [
             0.8888888888888888,
             "#fdca26"
            ],
            [
             1,
             "#f0f921"
            ]
           ]
          },
          "colorway": [
           "#636efa",
           "#EF553B",
           "#00cc96",
           "#ab63fa",
           "#FFA15A",
           "#19d3f3",
           "#FF6692",
           "#B6E880",
           "#FF97FF",
           "#FECB52"
          ],
          "font": {
           "color": "#2a3f5f"
          },
          "geo": {
           "bgcolor": "white",
           "lakecolor": "white",
           "landcolor": "#E5ECF6",
           "showlakes": true,
           "showland": true,
           "subunitcolor": "white"
          },
          "hoverlabel": {
           "align": "left"
          },
          "hovermode": "closest",
          "mapbox": {
           "style": "light"
          },
          "paper_bgcolor": "white",
          "plot_bgcolor": "#E5ECF6",
          "polar": {
           "angularaxis": {
            "gridcolor": "white",
            "linecolor": "white",
            "ticks": ""
           },
           "bgcolor": "#E5ECF6",
           "radialaxis": {
            "gridcolor": "white",
            "linecolor": "white",
            "ticks": ""
           }
          },
          "scene": {
           "xaxis": {
            "backgroundcolor": "#E5ECF6",
            "gridcolor": "white",
            "gridwidth": 2,
            "linecolor": "white",
            "showbackground": true,
            "ticks": "",
            "zerolinecolor": "white"
           },
           "yaxis": {
            "backgroundcolor": "#E5ECF6",
            "gridcolor": "white",
            "gridwidth": 2,
            "linecolor": "white",
            "showbackground": true,
            "ticks": "",
            "zerolinecolor": "white"
           },
           "zaxis": {
            "backgroundcolor": "#E5ECF6",
            "gridcolor": "white",
            "gridwidth": 2,
            "linecolor": "white",
            "showbackground": true,
            "ticks": "",
            "zerolinecolor": "white"
           }
          },
          "shapedefaults": {
           "line": {
            "color": "#2a3f5f"
           }
          },
          "ternary": {
           "aaxis": {
            "gridcolor": "white",
            "linecolor": "white",
            "ticks": ""
           },
           "baxis": {
            "gridcolor": "white",
            "linecolor": "white",
            "ticks": ""
           },
           "bgcolor": "#E5ECF6",
           "caxis": {
            "gridcolor": "white",
            "linecolor": "white",
            "ticks": ""
           }
          },
          "title": {
           "x": 0.05
          },
          "xaxis": {
           "automargin": true,
           "gridcolor": "white",
           "linecolor": "white",
           "ticks": "",
           "title": {
            "standoff": 15
           },
           "zerolinecolor": "white",
           "zerolinewidth": 2
          },
          "yaxis": {
           "automargin": true,
           "gridcolor": "white",
           "linecolor": "white",
           "ticks": "",
           "title": {
            "standoff": 15
           },
           "zerolinecolor": "white",
           "zerolinewidth": 2
          }
         }
        },
        "title": {
         "text": "Accuracy and Loss"
        },
        "width": 1000,
        "xaxis": {
         "anchor": "y",
         "domain": [
          0,
          0.45
         ],
         "title": {
          "text": "epochs"
         }
        },
        "xaxis2": {
         "anchor": "y2",
         "domain": [
          0.55,
          1
         ],
         "title": {
          "text": "epochs"
         }
        },
        "yaxis": {
         "anchor": "x",
         "domain": [
          0,
          1
         ],
         "title": {
          "text": "accuracy"
         }
        },
        "yaxis2": {
         "anchor": "x2",
         "domain": [
          0,
          1
         ],
         "title": {
          "text": "loss"
         }
        }
       }
      }
     },
     "metadata": {},
     "output_type": "display_data"
    }
   ],
   "source": [
    "import plotly.graph_objects as go\n",
    "from plotly.subplots import make_subplots\n",
    "\n",
    "fig = make_subplots(rows=1, cols=2)\n",
    "fig.add_trace(go.Scatter(x=metrics['epoch'], y=metrics['accuracy'], name='accuracy'), row=1, col=1)\n",
    "fig.add_trace(go.Scatter(x=metrics['epoch'], y=metrics['loss'], name='loss'), row=1, col=2)\n",
    "fig.add_trace(go.Scatter(x=metrics['epoch'], y=metrics['val_accuracy'], name='val_accuracy'), row=1, col=1)\n",
    "fig.add_trace(go.Scatter(x=metrics['epoch'], y=metrics['val_loss'], name='val_loss'), row=1, col=2)\n",
    "\n",
    "fig.update_xaxes(title_text='epochs')\n",
    "fig.update_yaxes(title_text='accuracy', row=1, col=1)\n",
    "fig.update_yaxes(title_text='loss', row=1, col=2)\n",
    "fig.update_layout(width=1000, title='Accuracy and Loss')\n",
    "fig.show()"
   ]
  },
  {
   "cell_type": "code",
   "execution_count": 22,
   "id": "dea0d5f4",
   "metadata": {},
   "outputs": [
    {
     "name": "stdout",
     "output_type": "stream",
     "text": [
      "1.0\n"
     ]
    }
   ],
   "source": [
    "test_loss, test_acc = model.evaluate(X_test, y_test, verbose=0)\n",
    "print(test_acc)"
   ]
  },
  {
   "attachments": {},
   "cell_type": "markdown",
   "id": "dcf959ed",
   "metadata": {},
   "source": [
    "Predykcja na podstawie modelu.\n",
    "* model.evaluate(y_true, y_pred) - pozwala obliczyć metryki modelu\n",
    "* model.predict_classes() - pozwala zwrócić odpowiednio przewidziane klasy\n",
    "* model.predict_proba(), model.predict() - pozwala zwrócić prawdopodobieństwo danej klasy"
   ]
  },
  {
   "cell_type": "code",
   "execution_count": 23,
   "id": "d886fb03",
   "metadata": {},
   "outputs": [
    {
     "name": "stdout",
     "output_type": "stream",
     "text": [
      "63/63 [==============================] - 0s 1ms/step\n"
     ]
    },
    {
     "data": {
      "text/plain": [
       "array([[0.0000000e+00, 9.9970943e-01, 2.9058167e-04, ..., 0.0000000e+00, 0.0000000e+00, 3.1306797e-37],\n",
       "       [0.0000000e+00, 9.9946195e-01, 5.3801737e-04, ..., 0.0000000e+00, 0.0000000e+00, 1.3485445e-38],\n",
       "       [9.8854564e-08, 1.7786550e-10, 3.0745926e-15, ..., 3.1053079e-07, 9.9998057e-01, 1.2135111e-10],\n",
       "       ...,\n",
       "       [0.0000000e+00, 9.6455270e-01, 3.5447229e-02, ..., 9.1529156e-24, 1.0563549e-24, 4.8023189e-16],\n",
       "       [2.5391078e-14, 0.0000000e+00, 0.0000000e+00, ..., 1.0000000e+00, 0.0000000e+00, 3.9153095e-31],\n",
       "       [4.0277642e-16, 9.1694966e-03, 6.0890976e-08, ..., 1.1300790e-09, 7.6924792e-20, 9.9083042e-01]], dtype=float32)"
      ]
     },
     "execution_count": 23,
     "metadata": {},
     "output_type": "execute_result"
    }
   ],
   "source": [
    "predictions = model.predict(X_test)\n",
    "predictions"
   ]
  },
  {
   "cell_type": "code",
   "execution_count": 24,
   "id": "f0517586",
   "metadata": {},
   "outputs": [
    {
     "data": {
      "text/html": [
       "<div>\n",
       "<style scoped>\n",
       "    .dataframe tbody tr th:only-of-type {\n",
       "        vertical-align: middle;\n",
       "    }\n",
       "\n",
       "    .dataframe tbody tr th {\n",
       "        vertical-align: top;\n",
       "    }\n",
       "\n",
       "    .dataframe thead th {\n",
       "        text-align: right;\n",
       "    }\n",
       "</style>\n",
       "<table border=\"1\" class=\"dataframe\">\n",
       "  <thead>\n",
       "    <tr style=\"text-align: right;\">\n",
       "      <th></th>\n",
       "      <th>0</th>\n",
       "      <th>1</th>\n",
       "      <th>2</th>\n",
       "      <th>3</th>\n",
       "      <th>4</th>\n",
       "      <th>5</th>\n",
       "      <th>6</th>\n",
       "    </tr>\n",
       "  </thead>\n",
       "  <tbody>\n",
       "    <tr>\n",
       "      <th>0</th>\n",
       "      <td>0.000000e+00</td>\n",
       "      <td>9.997094e-01</td>\n",
       "      <td>2.905817e-04</td>\n",
       "      <td>2.428208e-21</td>\n",
       "      <td>0.000000e+00</td>\n",
       "      <td>0.000000e+00</td>\n",
       "      <td>3.130680e-37</td>\n",
       "    </tr>\n",
       "    <tr>\n",
       "      <th>1</th>\n",
       "      <td>0.000000e+00</td>\n",
       "      <td>9.994619e-01</td>\n",
       "      <td>5.380174e-04</td>\n",
       "      <td>6.271826e-21</td>\n",
       "      <td>0.000000e+00</td>\n",
       "      <td>0.000000e+00</td>\n",
       "      <td>1.348544e-38</td>\n",
       "    </tr>\n",
       "    <tr>\n",
       "      <th>2</th>\n",
       "      <td>9.885456e-08</td>\n",
       "      <td>1.778655e-10</td>\n",
       "      <td>3.074593e-15</td>\n",
       "      <td>1.894081e-05</td>\n",
       "      <td>3.105308e-07</td>\n",
       "      <td>9.999806e-01</td>\n",
       "      <td>1.213511e-10</td>\n",
       "    </tr>\n",
       "    <tr>\n",
       "      <th>3</th>\n",
       "      <td>8.937550e-12</td>\n",
       "      <td>1.525113e-04</td>\n",
       "      <td>1.936593e-05</td>\n",
       "      <td>1.255794e-15</td>\n",
       "      <td>6.825211e-05</td>\n",
       "      <td>4.981484e-16</td>\n",
       "      <td>9.997599e-01</td>\n",
       "    </tr>\n",
       "    <tr>\n",
       "      <th>4</th>\n",
       "      <td>7.545330e-11</td>\n",
       "      <td>2.527345e-11</td>\n",
       "      <td>9.967129e-23</td>\n",
       "      <td>4.584423e-04</td>\n",
       "      <td>4.935291e-12</td>\n",
       "      <td>9.995416e-01</td>\n",
       "      <td>2.821707e-14</td>\n",
       "    </tr>\n",
       "    <tr>\n",
       "      <th>...</th>\n",
       "      <td>...</td>\n",
       "      <td>...</td>\n",
       "      <td>...</td>\n",
       "      <td>...</td>\n",
       "      <td>...</td>\n",
       "      <td>...</td>\n",
       "      <td>...</td>\n",
       "    </tr>\n",
       "    <tr>\n",
       "      <th>1997</th>\n",
       "      <td>7.422767e-13</td>\n",
       "      <td>0.000000e+00</td>\n",
       "      <td>0.000000e+00</td>\n",
       "      <td>0.000000e+00</td>\n",
       "      <td>1.000000e+00</td>\n",
       "      <td>0.000000e+00</td>\n",
       "      <td>3.365569e-36</td>\n",
       "    </tr>\n",
       "    <tr>\n",
       "      <th>1998</th>\n",
       "      <td>7.152917e-14</td>\n",
       "      <td>0.000000e+00</td>\n",
       "      <td>0.000000e+00</td>\n",
       "      <td>0.000000e+00</td>\n",
       "      <td>1.000000e+00</td>\n",
       "      <td>0.000000e+00</td>\n",
       "      <td>4.009901e-31</td>\n",
       "    </tr>\n",
       "    <tr>\n",
       "      <th>1999</th>\n",
       "      <td>0.000000e+00</td>\n",
       "      <td>9.645527e-01</td>\n",
       "      <td>3.544723e-02</td>\n",
       "      <td>5.631404e-12</td>\n",
       "      <td>9.152916e-24</td>\n",
       "      <td>1.056355e-24</td>\n",
       "      <td>4.802319e-16</td>\n",
       "    </tr>\n",
       "    <tr>\n",
       "      <th>2000</th>\n",
       "      <td>2.539108e-14</td>\n",
       "      <td>0.000000e+00</td>\n",
       "      <td>0.000000e+00</td>\n",
       "      <td>0.000000e+00</td>\n",
       "      <td>1.000000e+00</td>\n",
       "      <td>0.000000e+00</td>\n",
       "      <td>3.915310e-31</td>\n",
       "    </tr>\n",
       "    <tr>\n",
       "      <th>2001</th>\n",
       "      <td>4.027764e-16</td>\n",
       "      <td>9.169497e-03</td>\n",
       "      <td>6.089098e-08</td>\n",
       "      <td>9.167289e-15</td>\n",
       "      <td>1.130079e-09</td>\n",
       "      <td>7.692479e-20</td>\n",
       "      <td>9.908304e-01</td>\n",
       "    </tr>\n",
       "  </tbody>\n",
       "</table>\n",
       "<p>2002 rows × 7 columns</p>\n",
       "</div>"
      ],
      "text/plain": [
       "                 0             1             2             3             4             5             6\n",
       "0     0.000000e+00  9.997094e-01  2.905817e-04  2.428208e-21  0.000000e+00  0.000000e+00  3.130680e-37\n",
       "1     0.000000e+00  9.994619e-01  5.380174e-04  6.271826e-21  0.000000e+00  0.000000e+00  1.348544e-38\n",
       "2     9.885456e-08  1.778655e-10  3.074593e-15  1.894081e-05  3.105308e-07  9.999806e-01  1.213511e-10\n",
       "3     8.937550e-12  1.525113e-04  1.936593e-05  1.255794e-15  6.825211e-05  4.981484e-16  9.997599e-01\n",
       "4     7.545330e-11  2.527345e-11  9.967129e-23  4.584423e-04  4.935291e-12  9.995416e-01  2.821707e-14\n",
       "...            ...           ...           ...           ...           ...           ...           ...\n",
       "1997  7.422767e-13  0.000000e+00  0.000000e+00  0.000000e+00  1.000000e+00  0.000000e+00  3.365569e-36\n",
       "1998  7.152917e-14  0.000000e+00  0.000000e+00  0.000000e+00  1.000000e+00  0.000000e+00  4.009901e-31\n",
       "1999  0.000000e+00  9.645527e-01  3.544723e-02  5.631404e-12  9.152916e-24  1.056355e-24  4.802319e-16\n",
       "2000  2.539108e-14  0.000000e+00  0.000000e+00  0.000000e+00  1.000000e+00  0.000000e+00  3.915310e-31\n",
       "2001  4.027764e-16  9.169497e-03  6.089098e-08  9.167289e-15  1.130079e-09  7.692479e-20  9.908304e-01\n",
       "\n",
       "[2002 rows x 7 columns]"
      ]
     },
     "execution_count": 24,
     "metadata": {},
     "output_type": "execute_result"
    }
   ],
   "source": [
    "predictions_df = pd.DataFrame(predictions)\n",
    "predictions_df"
   ]
  },
  {
   "cell_type": "code",
   "execution_count": 25,
   "id": "03d216ea",
   "metadata": {},
   "outputs": [
    {
     "data": {
      "text/plain": [
       "array([1, 1, 5, ..., 1, 4, 6], dtype=int64)"
      ]
     },
     "execution_count": 25,
     "metadata": {},
     "output_type": "execute_result"
    }
   ],
   "source": [
    "predictions_cls = predictions.argmax(axis=-1)\n",
    "predictions_cls"
   ]
  },
  {
   "attachments": {},
   "cell_type": "markdown",
   "id": "70f70183",
   "metadata": {},
   "source": [
    "# Zapisanie modelu"
   ]
  },
  {
   "cell_type": "code",
   "execution_count": 33,
   "id": "5a32ea88",
   "metadata": {},
   "outputs": [
    {
     "name": "stdout",
     "output_type": "stream",
     "text": [
      "INFO:tensorflow:Assets written to: C:\\Users\\Dell\\Documents\\Git\\stormwater-analysis\\stormwater_analysis\\data\\catchment_classification_model\\catchemnt_classifier\\assets\n"
     ]
    }
   ],
   "source": [
    "model.save(r'C:\\Users\\Dell\\Documents\\Git\\stormwater-analysis\\stormwater_analysis\\data\\catchment_classification_model\\catchemnt_classifier')"
   ]
  },
  {
   "attachments": {},
   "cell_type": "markdown",
   "id": "2a8a23e3",
   "metadata": {},
   "source": [
    "# Załadowanie modelu"
   ]
  },
  {
   "cell_type": "code",
   "execution_count": 2,
   "id": "772d2f7e",
   "metadata": {},
   "outputs": [],
   "source": [
    "from tensorflow import keras\n",
    "model = keras.models.load_model(r'C:\\Users\\Dell\\Documents\\Git\\stormwater-analysis\\stormwater_analysis\\data\\catchment_classification_model\\catchemnt_classifier')"
   ]
  },
  {
   "cell_type": "code",
   "execution_count": 28,
   "id": "c05cbf24",
   "metadata": {},
   "outputs": [
    {
     "data": {
      "text/html": [
       "<div>\n",
       "<style scoped>\n",
       "    .dataframe tbody tr th:only-of-type {\n",
       "        vertical-align: middle;\n",
       "    }\n",
       "\n",
       "    .dataframe tbody tr th {\n",
       "        vertical-align: top;\n",
       "    }\n",
       "\n",
       "    .dataframe thead th {\n",
       "        text-align: right;\n",
       "    }\n",
       "</style>\n",
       "<table border=\"1\" class=\"dataframe\">\n",
       "  <thead>\n",
       "    <tr style=\"text-align: right;\">\n",
       "      <th></th>\n",
       "      <th>Area</th>\n",
       "      <th>PercImperv</th>\n",
       "      <th>Width</th>\n",
       "      <th>PercSlope</th>\n",
       "      <th>PctZero</th>\n",
       "      <th>TotalPrecip</th>\n",
       "      <th>TotalRunoffMG</th>\n",
       "      <th>PeakRunoff</th>\n",
       "      <th>RunoffCoeff</th>\n",
       "    </tr>\n",
       "  </thead>\n",
       "  <tbody>\n",
       "    <tr>\n",
       "      <th>7438</th>\n",
       "      <td>1.43</td>\n",
       "      <td>5.09</td>\n",
       "      <td>119.58</td>\n",
       "      <td>10.00</td>\n",
       "      <td>10</td>\n",
       "      <td>9.50</td>\n",
       "      <td>0.01</td>\n",
       "      <td>0.00</td>\n",
       "      <td>0.063</td>\n",
       "    </tr>\n",
       "    <tr>\n",
       "      <th>9058</th>\n",
       "      <td>1.00</td>\n",
       "      <td>5.09</td>\n",
       "      <td>100.00</td>\n",
       "      <td>10.00</td>\n",
       "      <td>10</td>\n",
       "      <td>0.32</td>\n",
       "      <td>0.00</td>\n",
       "      <td>0.00</td>\n",
       "      <td>0.005</td>\n",
       "    </tr>\n",
       "    <tr>\n",
       "      <th>568</th>\n",
       "      <td>0.77</td>\n",
       "      <td>30.00</td>\n",
       "      <td>87.75</td>\n",
       "      <td>15.00</td>\n",
       "      <td>80</td>\n",
       "      <td>10.10</td>\n",
       "      <td>0.04</td>\n",
       "      <td>0.03</td>\n",
       "      <td>0.462</td>\n",
       "    </tr>\n",
       "    <tr>\n",
       "      <th>9344</th>\n",
       "      <td>0.60</td>\n",
       "      <td>15.00</td>\n",
       "      <td>77.46</td>\n",
       "      <td>30.00</td>\n",
       "      <td>5</td>\n",
       "      <td>0.32</td>\n",
       "      <td>0.00</td>\n",
       "      <td>0.00</td>\n",
       "      <td>0.007</td>\n",
       "    </tr>\n",
       "    <tr>\n",
       "      <th>2236</th>\n",
       "      <td>1.39</td>\n",
       "      <td>30.00</td>\n",
       "      <td>117.90</td>\n",
       "      <td>5.09</td>\n",
       "      <td>80</td>\n",
       "      <td>38.33</td>\n",
       "      <td>0.44</td>\n",
       "      <td>0.30</td>\n",
       "      <td>0.820</td>\n",
       "    </tr>\n",
       "    <tr>\n",
       "      <th>...</th>\n",
       "      <td>...</td>\n",
       "      <td>...</td>\n",
       "      <td>...</td>\n",
       "      <td>...</td>\n",
       "      <td>...</td>\n",
       "      <td>...</td>\n",
       "      <td>...</td>\n",
       "      <td>...</td>\n",
       "      <td>...</td>\n",
       "    </tr>\n",
       "    <tr>\n",
       "      <th>533</th>\n",
       "      <td>0.19</td>\n",
       "      <td>83.33</td>\n",
       "      <td>43.59</td>\n",
       "      <td>45.00</td>\n",
       "      <td>80</td>\n",
       "      <td>10.10</td>\n",
       "      <td>0.02</td>\n",
       "      <td>0.01</td>\n",
       "      <td>0.880</td>\n",
       "    </tr>\n",
       "    <tr>\n",
       "      <th>132</th>\n",
       "      <td>1.36</td>\n",
       "      <td>65.00</td>\n",
       "      <td>116.62</td>\n",
       "      <td>61.67</td>\n",
       "      <td>80</td>\n",
       "      <td>10.10</td>\n",
       "      <td>0.10</td>\n",
       "      <td>0.09</td>\n",
       "      <td>0.761</td>\n",
       "    </tr>\n",
       "    <tr>\n",
       "      <th>7329</th>\n",
       "      <td>0.30</td>\n",
       "      <td>10.00</td>\n",
       "      <td>54.77</td>\n",
       "      <td>20.00</td>\n",
       "      <td>10</td>\n",
       "      <td>9.50</td>\n",
       "      <td>0.00</td>\n",
       "      <td>0.00</td>\n",
       "      <td>0.127</td>\n",
       "    </tr>\n",
       "    <tr>\n",
       "      <th>8466</th>\n",
       "      <td>1.25</td>\n",
       "      <td>65.00</td>\n",
       "      <td>111.80</td>\n",
       "      <td>61.67</td>\n",
       "      <td>80</td>\n",
       "      <td>12.67</td>\n",
       "      <td>0.12</td>\n",
       "      <td>0.04</td>\n",
       "      <td>0.772</td>\n",
       "    </tr>\n",
       "    <tr>\n",
       "      <th>964</th>\n",
       "      <td>1.08</td>\n",
       "      <td>15.00</td>\n",
       "      <td>103.92</td>\n",
       "      <td>10.00</td>\n",
       "      <td>5</td>\n",
       "      <td>10.10</td>\n",
       "      <td>0.02</td>\n",
       "      <td>0.01</td>\n",
       "      <td>0.140</td>\n",
       "    </tr>\n",
       "  </tbody>\n",
       "</table>\n",
       "<p>2002 rows × 9 columns</p>\n",
       "</div>"
      ],
      "text/plain": [
       "      Area  PercImperv   Width  PercSlope  PctZero  TotalPrecip  TotalRunoffMG  PeakRunoff  RunoffCoeff\n",
       "7438  1.43        5.09  119.58      10.00       10         9.50           0.01        0.00        0.063\n",
       "9058  1.00        5.09  100.00      10.00       10         0.32           0.00        0.00        0.005\n",
       "568   0.77       30.00   87.75      15.00       80        10.10           0.04        0.03        0.462\n",
       "9344  0.60       15.00   77.46      30.00        5         0.32           0.00        0.00        0.007\n",
       "2236  1.39       30.00  117.90       5.09       80        38.33           0.44        0.30        0.820\n",
       "...    ...         ...     ...        ...      ...          ...            ...         ...          ...\n",
       "533   0.19       83.33   43.59      45.00       80        10.10           0.02        0.01        0.880\n",
       "132   1.36       65.00  116.62      61.67       80        10.10           0.10        0.09        0.761\n",
       "7329  0.30       10.00   54.77      20.00       10         9.50           0.00        0.00        0.127\n",
       "8466  1.25       65.00  111.80      61.67       80        12.67           0.12        0.04        0.772\n",
       "964   1.08       15.00  103.92      10.00        5        10.10           0.02        0.01        0.140\n",
       "\n",
       "[2002 rows x 9 columns]"
      ]
     },
     "execution_count": 28,
     "metadata": {},
     "output_type": "execute_result"
    }
   ],
   "source": [
    "X_test"
   ]
  },
  {
   "cell_type": "code",
   "execution_count": 9,
   "id": "0e9ee3c8",
   "metadata": {},
   "outputs": [
    {
     "name": "stdout",
     "output_type": "stream",
     "text": [
      "Requirement already satisfied: pydot in c:\\users\\dell\\documents\\git\\stormwater-analysis\\venv\\lib\\site-packages (1.4.2)\n",
      "Requirement already satisfied: pyparsing>=2.1.4 in c:\\users\\dell\\documents\\git\\stormwater-analysis\\venv\\lib\\site-packages (from pydot) (3.0.9)\n"
     ]
    },
    {
     "name": "stderr",
     "output_type": "stream",
     "text": [
      "WARNING: You are using pip version 21.3.1; however, version 23.1.2 is available.\n",
      "You should consider upgrading via the 'C:\\Users\\Dell\\Documents\\Git\\stormwater-analysis\\venv\\Scripts\\python.exe -m pip install --upgrade pip' command.\n"
     ]
    }
   ],
   "source": [
    "! pip install pydot\n"
   ]
  },
  {
   "cell_type": "code",
   "execution_count": 12,
   "id": "32bb7740",
   "metadata": {},
   "outputs": [
    {
     "name": "stdout",
     "output_type": "stream",
     "text": [
      "You must install pydot (`pip install pydot`) and install graphviz (see instructions at https://graphviz.gitlab.io/download/) for plot_model to work.\n"
     ]
    }
   ],
   "source": [
    "from tensorflow.keras.utils import plot_model\n",
    "plot_model(model)"
   ]
  },
  {
   "cell_type": "code",
   "execution_count": 13,
   "id": "96645d62",
   "metadata": {},
   "outputs": [
    {
     "ename": "NameError",
     "evalue": "name 'X_test' is not defined",
     "output_type": "error",
     "traceback": [
      "\u001b[1;31m---------------------------------------------------------------------------\u001b[0m",
      "\u001b[1;31mNameError\u001b[0m                                 Traceback (most recent call last)",
      "Cell \u001b[1;32mIn[13], line 1\u001b[0m\n\u001b[1;32m----> 1\u001b[0m pred \u001b[39m=\u001b[39m model\u001b[39m.\u001b[39mpredict(X_test)\n\u001b[0;32m      2\u001b[0m pred\n",
      "\u001b[1;31mNameError\u001b[0m: name 'X_test' is not defined"
     ]
    }
   ],
   "source": [
    "pred = model.predict(X_test)\n",
    "pred"
   ]
  },
  {
   "cell_type": "code",
   "execution_count": 35,
   "id": "f42874b5",
   "metadata": {},
   "outputs": [
    {
     "ename": "NameError",
     "evalue": "name 'tensorflow' is not defined",
     "output_type": "error",
     "traceback": [
      "\u001b[1;31m---------------------------------------------------------------------------\u001b[0m",
      "\u001b[1;31mNameError\u001b[0m                                 Traceback (most recent call last)",
      "Cell \u001b[1;32mIn[35], line 1\u001b[0m\n\u001b[1;32m----> 1\u001b[0m tensorflow\u001b[39m.\u001b[39mversion\n",
      "\u001b[1;31mNameError\u001b[0m: name 'tensorflow' is not defined"
     ]
    }
   ],
   "source": [
    "tensorflow.version"
   ]
  },
  {
   "cell_type": "code",
   "execution_count": null,
   "id": "288ccd1d",
   "metadata": {},
   "outputs": [],
   "source": []
  }
 ],
 "metadata": {
  "kernelspec": {
   "display_name": "Python 3 (ipykernel)",
   "language": "python",
   "name": "python3"
  },
  "language_info": {
   "codemirror_mode": {
    "name": "ipython",
    "version": 3
   },
   "file_extension": ".py",
   "mimetype": "text/x-python",
   "name": "python",
   "nbconvert_exporter": "python",
   "pygments_lexer": "ipython3",
   "version": "3.10.2"
  }
 },
 "nbformat": 4,
 "nbformat_minor": 5
}
