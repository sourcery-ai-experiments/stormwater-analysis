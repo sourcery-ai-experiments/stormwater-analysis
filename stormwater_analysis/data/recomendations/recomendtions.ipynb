{
 "cells": [
  {
   "attachments": {},
   "cell_type": "markdown",
   "metadata": {},
   "source": [
    "# Model for recomendations solutions on drainage."
   ]
  },
  {
   "cell_type": "markdown",
   "metadata": {},
   "source": [
    "1. Postarać się dodać tagi z klasami zlewni"
   ]
  },
  {
   "attachments": {},
   "cell_type": "markdown",
   "metadata": {},
   "source": [
    "## 1. Import libraries"
   ]
  },
  {
   "cell_type": "code",
   "execution_count": 1,
   "metadata": {},
   "outputs": [],
   "source": [
    "import swmmio\n",
    "import pyswmm\n",
    "import pandas as pd\n",
    "import numpy as np\n",
    "\n",
    "from sklearn.model_selection import train_test_split\n",
    "from tensorflow.keras.models import Sequential\n",
    "from tensorflow.keras.layers import Dense, Dropout\n",
    "from tensorflow.keras.callbacks import EarlyStopping\n",
    "from tensorflow.keras.layers.experimental import preprocessing\n",
    "\n",
    "\n",
    "# desired_width = 500\n",
    "# pd.set_option(\"display.width\", desired_width)\n",
    "# np.set_printoptions(linewidth=desired_width)\n",
    "# pd.set_option(\"display.max_columns\", 30)\n",
    "import pprint\n",
    "pd.set_option('display.max_columns', None)\n",
    "# Ustawienie maksymalnej ilości wyświetlanych wierszy\n",
    "pd.set_option('display.max_rows', None)\n"
   ]
  },
  {
   "attachments": {},
   "cell_type": "markdown",
   "metadata": {},
   "source": [
    "## 2. Recomendation classes"
   ]
  },
  {
   "cell_type": "code",
   "execution_count": 2,
   "metadata": {},
   "outputs": [
    {
     "data": {
      "text/html": [
       "<div>\n",
       "<style scoped>\n",
       "    .dataframe tbody tr th:only-of-type {\n",
       "        vertical-align: middle;\n",
       "    }\n",
       "\n",
       "    .dataframe tbody tr th {\n",
       "        vertical-align: top;\n",
       "    }\n",
       "\n",
       "    .dataframe thead th {\n",
       "        text-align: right;\n",
       "    }\n",
       "</style>\n",
       "<table border=\"1\" class=\"dataframe\">\n",
       "  <thead>\n",
       "    <tr style=\"text-align: right;\">\n",
       "      <th></th>\n",
       "      <th>classes</th>\n",
       "    </tr>\n",
       "  </thead>\n",
       "  <tbody>\n",
       "    <tr>\n",
       "      <th>0</th>\n",
       "      <td>pump</td>\n",
       "    </tr>\n",
       "    <tr>\n",
       "      <th>1</th>\n",
       "      <td>tank</td>\n",
       "    </tr>\n",
       "    <tr>\n",
       "      <th>2</th>\n",
       "      <td>seepage_boxes</td>\n",
       "    </tr>\n",
       "    <tr>\n",
       "      <th>3</th>\n",
       "      <td>diameter_increase</td>\n",
       "    </tr>\n",
       "    <tr>\n",
       "      <th>4</th>\n",
       "      <td>diameter_reduction</td>\n",
       "    </tr>\n",
       "    <tr>\n",
       "      <th>5</th>\n",
       "      <td>slope_increase</td>\n",
       "    </tr>\n",
       "    <tr>\n",
       "      <th>6</th>\n",
       "      <td>slope_reduction</td>\n",
       "    </tr>\n",
       "    <tr>\n",
       "      <th>7</th>\n",
       "      <td>depth_increase</td>\n",
       "    </tr>\n",
       "    <tr>\n",
       "      <th>8</th>\n",
       "      <td>depth_reduction</td>\n",
       "    </tr>\n",
       "    <tr>\n",
       "      <th>9</th>\n",
       "      <td>valid</td>\n",
       "    </tr>\n",
       "  </tbody>\n",
       "</table>\n",
       "</div>"
      ],
      "text/plain": [
       "              classes\n",
       "0                pump\n",
       "1                tank\n",
       "2       seepage_boxes\n",
       "3   diameter_increase\n",
       "4  diameter_reduction\n",
       "5      slope_increase\n",
       "6     slope_reduction\n",
       "7      depth_increase\n",
       "8     depth_reduction\n",
       "9               valid"
      ]
     },
     "execution_count": 2,
     "metadata": {},
     "output_type": "execute_result"
    }
   ],
   "source": [
    "classes = pd.DataFrame(\n",
    "    data={\n",
    "        \"classes\": [\n",
    "            \"pump\",\n",
    "            \"tank\",\n",
    "            \"seepage_boxes\",\n",
    "            \"diameter_increase\",\n",
    "            \"diameter_reduction\",\n",
    "            \"slope_increase\",\n",
    "            \"slope_reduction\",\n",
    "            \"depth_increase\",\n",
    "            \"depth_reduction\",\n",
    "            \"valid\",\n",
    "        ]\n",
    "    }\n",
    ")\n",
    "classes"
   ]
  },
  {
   "cell_type": "code",
   "execution_count": 3,
   "metadata": {},
   "outputs": [
    {
     "name": "stdout",
     "output_type": "stream",
     "text": [
      "['c:\\\\Users\\\\Dell\\\\Documents\\\\Git\\\\stormwater-analysis\\\\stormwater_analysis\\\\data\\\\recomendations', 'C:\\\\Users\\\\Dell\\\\AppData\\\\Local\\\\Programs\\\\Python\\\\Python310\\\\python310.zip', 'C:\\\\Users\\\\Dell\\\\AppData\\\\Local\\\\Programs\\\\Python\\\\Python310\\\\DLLs', 'C:\\\\Users\\\\Dell\\\\AppData\\\\Local\\\\Programs\\\\Python\\\\Python310\\\\lib', 'C:\\\\Users\\\\Dell\\\\AppData\\\\Local\\\\Programs\\\\Python\\\\Python310', 'c:\\\\Users\\\\Dell\\\\Documents\\\\Git\\\\stormwater-analysis\\\\venv', '', 'c:\\\\Users\\\\Dell\\\\Documents\\\\Git\\\\stormwater-analysis\\\\venv\\\\lib\\\\site-packages', 'c:\\\\Users\\\\Dell\\\\Documents\\\\Git\\\\stormwater-analysis\\\\venv\\\\lib\\\\site-packages\\\\win32', 'c:\\\\Users\\\\Dell\\\\Documents\\\\Git\\\\stormwater-analysis\\\\venv\\\\lib\\\\site-packages\\\\win32\\\\lib', 'c:\\\\Users\\\\Dell\\\\Documents\\\\Git\\\\stormwater-analysis\\\\venv\\\\lib\\\\site-packages\\\\Pythonwin']\n"
     ]
    }
   ],
   "source": [
    "import sys\n",
    "print(sys.path)"
   ]
  },
  {
   "attachments": {},
   "cell_type": "markdown",
   "metadata": {},
   "source": [
    "## 3. Get data"
   ]
  },
  {
   "cell_type": "code",
   "execution_count": 4,
   "metadata": {},
   "outputs": [],
   "source": [
    "import os\n",
    "os.chdir('C:\\\\Users\\\\Dell\\\\Documents\\\\Git\\\\stormwater-analysis')\n",
    "\n",
    "from stormwater_analysis.inp_manage.inp import SwmmModel"
   ]
  },
  {
   "cell_type": "code",
   "execution_count": 5,
   "metadata": {},
   "outputs": [
    {
     "name": "stdout",
     "output_type": "stream",
     "text": [
      "1/1 [==============================] - 0s 413ms/step\n"
     ]
    }
   ],
   "source": [
    "INP_FILE_01 = R\"C:\\Users\\Dell\\Documents\\Git\\stormwater-analysis\\stormwater_analysis\\data\\recomendations\\dataset\\01_recomendation.inp\"\n",
    "recomendations_01 = []\n",
    "\n",
    "from stormwater_analysis.inp_manage.inp import SwmmModel\n",
    "from stormwater_analysis.data.feature_engineering import feature_engineering\n",
    "\n",
    "model = swmmio.Model(INP_FILE_01, include_rpt=True)\n",
    "\n",
    "with pyswmm.Simulation(model.inp.path) as sim:\n",
    "    for _ in sim:\n",
    "        pass\n",
    "\n",
    "conduits_data, nodes_data, subcatchments_data = feature_engineering(model)\n",
    "swmm_model = SwmmModel(model, conduits_data, nodes_data, subcatchments_data)\n"
   ]
  },
  {
   "cell_type": "markdown",
   "metadata": {},
   "source": [
    "### 3.1. Drop unused columns"
   ]
  },
  {
   "cell_type": "code",
   "execution_count": 6,
   "metadata": {},
   "outputs": [
    {
     "name": "stdout",
     "output_type": "stream",
     "text": [
      "      Length  Roughness  MaxFlow  Geom1   MaxQ  MaxV  MaxQPerc  MaxDPerc  InletNodeInvert  OutletNodeInvert  UpstreamInvert  DownstreamInvert  SlopeFtPerFt  Filling  ValMaxFill  ValMaxV  ValMinV  ValMaxSlope  ValMinSlope  InletMaxDepth  OutletMaxDepth  SlopePerMile  InletGroundCover  OutletGroundCover  ValDepth  ValCoverage\n",
      "Name                                                                                                                                                                                                                                                                                                                                 \n",
      "C3        50      0.010        0    0.9  1.058  1.81      1.06      1.00           146.61            146.52          146.61            146.52        0.0018     0.90           0        1        1            1            1           2.71            2.40           1.8            143.90             144.12         1            1\n",
      "C4        50      0.015        0    1.0  1.479  2.39      0.89      0.74           146.52            146.20          146.52            146.20        0.0064     0.74           1        1        1            1            1           2.40            2.08           6.4            144.12             144.12         1            1\n",
      "C2        50      0.010        0    1.0  1.980  2.86      1.03      1.00           146.80            146.61          146.80            146.61        0.0038     1.00           0        1        1            1            1           2.50            2.71           3.8            144.30             143.90         1            1\n",
      "C1        50      0.010        0    1.0  2.117  2.88      1.07      1.00           147.00            146.80          147.00            146.80        0.0040     1.00           0        1        1            1            1           2.30            2.50           4.0            144.70             144.30         1            1\n",
      "C5        50      0.010        0    1.0  0.483  2.00      0.26      0.35           146.70            146.52          146.70            146.52        0.0036     0.35           1        1        1            1            1           2.50            2.40           3.6            144.20             144.12         1            1\n",
      "C8        50      0.010        0    1.0  0.167  1.54      0.08      0.20           147.40            147.20          147.40            147.20        0.0040     0.20           1        1        1            1            1           1.90            2.10           4.0            145.50             145.10         1            1\n",
      "C9        50      0.010        0    1.0  0.319  1.85      0.16      0.27           146.90            146.70          146.90            146.70        0.0040     0.27           1        1        1            1            1           2.30            2.50           4.0            144.60             144.20         1            1\n",
      "C10       50      0.010        0    1.0  0.323  1.86      0.16      0.28           147.10            146.90          147.10            146.90        0.0040     0.28           1        1        1            1            1           2.10            2.30           4.0            145.00             144.60         1            1\n",
      "C6        50      0.010        0    1.0  0.166  1.77      0.07      0.18           147.00            146.70          147.00            146.70        0.0060     0.18           1        1        1            1            1           2.30            2.50           6.0            144.70             144.20         1            1\n",
      "C7        50      0.010        0    1.0  0.168  1.53      0.09      0.20           147.20            147.00          147.20            147.00        0.0040     0.20           1        1        1            1            1           2.10            2.30           4.0            145.10             144.70         1            1\n",
      "C16       50      0.010        0    1.0  0.400  1.96      0.20      0.31           148.00            147.80          148.00            147.80        0.0040     0.31           1        1        1            1            1           2.00            2.20           4.0            146.00             145.60         1            1\n",
      "C15       50      0.010        0    1.0  0.396  1.97      0.20      0.30           147.80            147.60          147.80            147.60        0.0040     0.30           1        1        1            1            1           2.20            2.40           4.0            145.60             145.20         1            1\n",
      "C14       50      0.010        0    1.0  0.392  1.96      0.20      0.30           147.60            147.40          147.60            147.40        0.0040     0.30           1        1        1            1            1           2.40            2.60           4.0            145.20             144.80         1            1\n",
      "C13       50      0.010        0    1.0  0.388  1.96      0.20      0.30           147.40            147.20          147.40            147.20        0.0040     0.30           1        1        1            1            1           2.60            2.80           4.0            144.80             144.40         1            1\n",
      "C12       50      0.010        0    1.0  0.385  1.95      0.20      0.30           147.20            147.00          147.20            147.00        0.0040     0.30           1        1        1            1            1           2.80            3.00           4.0            144.40             144.00         1            1\n",
      "C11       50      0.010        0    1.0  0.769  3.28      0.25      0.34           147.00            146.50          147.00            146.50        0.0100     0.34           1        1        1            1            1           3.00            2.50          10.0            144.00             144.00         1            1\n",
      "C21       50      0.010        0    1.0  0.400  1.96      0.20      0.31           148.00            147.80          148.00            147.80        0.0040     0.31           1        1        1            1            1           2.00            2.20           4.0            146.00             145.60         1            1\n",
      "C20       50      0.010        0    1.0  0.396  1.97      0.20      0.30           147.80            147.60          147.80            147.60        0.0040     0.30           1        1        1            1            1           2.20            2.40           4.0            145.60             145.20         1            1\n",
      "C19       50      0.010        0    1.0  0.392  1.96      0.20      0.30           147.60            147.40          147.60            147.40        0.0040     0.30           1        1        1            1            1           2.40            2.60           4.0            145.20             144.80         1            1\n",
      "C18       50      0.010        0    1.0  0.388  1.96      0.20      0.30           147.40            147.20          147.40            147.20        0.0040     0.30           1        1        1            1            1           2.60            2.80           4.0            144.80             144.40         1            1\n",
      "C17       50      0.010        0    1.0  0.385  1.95      0.20      0.30           147.20            147.00          147.20            147.00        0.0040     0.30           1        1        1            1            1           2.80            3.00           4.0            144.40             144.00         1            1\n"
     ]
    }
   ],
   "source": [
    "swmm_model.conduits_data.conduits.drop([\"Type\", \"MaxDay\", \"Tag\", \"InletNode\", \"OutletNode\", \"MaxHr\"], inplace=True, axis=1)\n",
    "print(swmm_model.conduits_data.conduits)"
   ]
  },
  {
   "cell_type": "markdown",
   "metadata": {},
   "source": [
    "### 3.2. Categories "
   ]
  },
  {
   "cell_type": "code",
   "execution_count": 7,
   "metadata": {},
   "outputs": [
    {
     "data": {
      "text/html": [
       "<div>\n",
       "<style scoped>\n",
       "    .dataframe tbody tr th:only-of-type {\n",
       "        vertical-align: middle;\n",
       "    }\n",
       "\n",
       "    .dataframe tbody tr th {\n",
       "        vertical-align: top;\n",
       "    }\n",
       "\n",
       "    .dataframe thead th {\n",
       "        text-align: right;\n",
       "    }\n",
       "</style>\n",
       "<table border=\"1\" class=\"dataframe\">\n",
       "  <thead>\n",
       "    <tr style=\"text-align: right;\">\n",
       "      <th></th>\n",
       "      <th>classes</th>\n",
       "    </tr>\n",
       "  </thead>\n",
       "  <tbody>\n",
       "    <tr>\n",
       "      <th>0</th>\n",
       "      <td>pump</td>\n",
       "    </tr>\n",
       "    <tr>\n",
       "      <th>1</th>\n",
       "      <td>tank</td>\n",
       "    </tr>\n",
       "    <tr>\n",
       "      <th>2</th>\n",
       "      <td>seepage_boxes</td>\n",
       "    </tr>\n",
       "    <tr>\n",
       "      <th>3</th>\n",
       "      <td>diameter_increase</td>\n",
       "    </tr>\n",
       "    <tr>\n",
       "      <th>4</th>\n",
       "      <td>diameter_reduction</td>\n",
       "    </tr>\n",
       "    <tr>\n",
       "      <th>5</th>\n",
       "      <td>slope_increase</td>\n",
       "    </tr>\n",
       "    <tr>\n",
       "      <th>6</th>\n",
       "      <td>slope_reduction</td>\n",
       "    </tr>\n",
       "    <tr>\n",
       "      <th>7</th>\n",
       "      <td>depth_increase</td>\n",
       "    </tr>\n",
       "    <tr>\n",
       "      <th>8</th>\n",
       "      <td>depth_reduction</td>\n",
       "    </tr>\n",
       "    <tr>\n",
       "      <th>9</th>\n",
       "      <td>valid</td>\n",
       "    </tr>\n",
       "  </tbody>\n",
       "</table>\n",
       "</div>"
      ],
      "text/plain": [
       "              classes\n",
       "0                pump\n",
       "1                tank\n",
       "2       seepage_boxes\n",
       "3   diameter_increase\n",
       "4  diameter_reduction\n",
       "5      slope_increase\n",
       "6     slope_reduction\n",
       "7      depth_increase\n",
       "8     depth_reduction\n",
       "9               valid"
      ]
     },
     "execution_count": 7,
     "metadata": {},
     "output_type": "execute_result"
    }
   ],
   "source": [
    "classes = pd.DataFrame(\n",
    "    data={\n",
    "        \"classes\": [\n",
    "            \"pump\",\n",
    "            \"tank\",\n",
    "            \"seepage_boxes\",\n",
    "            \"diameter_increase\",\n",
    "            \"diameter_reduction\",\n",
    "            \"slope_increase\",\n",
    "            \"slope_reduction\",\n",
    "            \"depth_increase\",\n",
    "            \"depth_reduction\",\n",
    "            \"valid\",\n",
    "        ]\n",
    "    }\n",
    ")\n",
    "classes"
   ]
  },
  {
   "cell_type": "markdown",
   "metadata": {},
   "source": [
    "### 3.3. Classification conduits to categories"
   ]
  },
  {
   "cell_type": "code",
   "execution_count": 8,
   "metadata": {},
   "outputs": [
    {
     "name": "stdout",
     "output_type": "stream",
     "text": [
      "      Length  Roughness  MaxFlow  Geom1   MaxQ  MaxV  MaxQPerc  MaxDPerc  InletNodeInvert  OutletNodeInvert  UpstreamInvert  DownstreamInvert  SlopeFtPerFt  Filling  ValMaxFill  ValMaxV  ValMinV  ValMaxSlope  ValMinSlope  InletMaxDepth  OutletMaxDepth  SlopePerMile  InletGroundCover  OutletGroundCover  ValDepth  ValCoverage\n",
      "Name                                                                                                                                                                                                                                                                                                                                 \n",
      "C3        50      0.010        0    0.9  1.058  1.81      1.06      1.00           146.61            146.52          146.61            146.52        0.0018     0.90           0        1        1            1            1           2.71            2.40           1.8            143.90             144.12         1            1\n",
      "C4        50      0.015        0    1.0  1.479  2.39      0.89      0.74           146.52            146.20          146.52            146.20        0.0064     0.74           1        1        1            1            1           2.40            2.08           6.4            144.12             144.12         1            1\n",
      "C2        50      0.010        0    1.0  1.980  2.86      1.03      1.00           146.80            146.61          146.80            146.61        0.0038     1.00           0        1        1            1            1           2.50            2.71           3.8            144.30             143.90         1            1\n",
      "C1        50      0.010        0    1.0  2.117  2.88      1.07      1.00           147.00            146.80          147.00            146.80        0.0040     1.00           0        1        1            1            1           2.30            2.50           4.0            144.70             144.30         1            1\n",
      "C5        50      0.010        0    1.0  0.483  2.00      0.26      0.35           146.70            146.52          146.70            146.52        0.0036     0.35           1        1        1            1            1           2.50            2.40           3.6            144.20             144.12         1            1\n",
      "C8        50      0.010        0    1.0  0.167  1.54      0.08      0.20           147.40            147.20          147.40            147.20        0.0040     0.20           1        1        1            1            1           1.90            2.10           4.0            145.50             145.10         1            1\n",
      "C9        50      0.010        0    1.0  0.319  1.85      0.16      0.27           146.90            146.70          146.90            146.70        0.0040     0.27           1        1        1            1            1           2.30            2.50           4.0            144.60             144.20         1            1\n",
      "C10       50      0.010        0    1.0  0.323  1.86      0.16      0.28           147.10            146.90          147.10            146.90        0.0040     0.28           1        1        1            1            1           2.10            2.30           4.0            145.00             144.60         1            1\n",
      "C6        50      0.010        0    1.0  0.166  1.77      0.07      0.18           147.00            146.70          147.00            146.70        0.0060     0.18           1        1        1            1            1           2.30            2.50           6.0            144.70             144.20         1            1\n",
      "C7        50      0.010        0    1.0  0.168  1.53      0.09      0.20           147.20            147.00          147.20            147.00        0.0040     0.20           1        1        1            1            1           2.10            2.30           4.0            145.10             144.70         1            1\n",
      "C16       50      0.010        0    1.0  0.400  1.96      0.20      0.31           148.00            147.80          148.00            147.80        0.0040     0.31           1        1        1            1            1           2.00            2.20           4.0            146.00             145.60         1            1\n",
      "C15       50      0.010        0    1.0  0.396  1.97      0.20      0.30           147.80            147.60          147.80            147.60        0.0040     0.30           1        1        1            1            1           2.20            2.40           4.0            145.60             145.20         1            1\n",
      "C14       50      0.010        0    1.0  0.392  1.96      0.20      0.30           147.60            147.40          147.60            147.40        0.0040     0.30           1        1        1            1            1           2.40            2.60           4.0            145.20             144.80         1            1\n",
      "C13       50      0.010        0    1.0  0.388  1.96      0.20      0.30           147.40            147.20          147.40            147.20        0.0040     0.30           1        1        1            1            1           2.60            2.80           4.0            144.80             144.40         1            1\n",
      "C12       50      0.010        0    1.0  0.385  1.95      0.20      0.30           147.20            147.00          147.20            147.00        0.0040     0.30           1        1        1            1            1           2.80            3.00           4.0            144.40             144.00         1            1\n",
      "C11       50      0.010        0    1.0  0.769  3.28      0.25      0.34           147.00            146.50          147.00            146.50        0.0100     0.34           1        1        1            1            1           3.00            2.50          10.0            144.00             144.00         1            1\n",
      "C21       50      0.010        0    1.0  0.400  1.96      0.20      0.31           148.00            147.80          148.00            147.80        0.0040     0.31           1        1        1            1            1           2.00            2.20           4.0            146.00             145.60         1            1\n",
      "C20       50      0.010        0    1.0  0.396  1.97      0.20      0.30           147.80            147.60          147.80            147.60        0.0040     0.30           1        1        1            1            1           2.20            2.40           4.0            145.60             145.20         1            1\n",
      "C19       50      0.010        0    1.0  0.392  1.96      0.20      0.30           147.60            147.40          147.60            147.40        0.0040     0.30           1        1        1            1            1           2.40            2.60           4.0            145.20             144.80         1            1\n",
      "C18       50      0.010        0    1.0  0.388  1.96      0.20      0.30           147.40            147.20          147.40            147.20        0.0040     0.30           1        1        1            1            1           2.60            2.80           4.0            144.80             144.40         1            1\n",
      "C17       50      0.010        0    1.0  0.385  1.95      0.20      0.30           147.20            147.00          147.20            147.00        0.0040     0.30           1        1        1            1            1           2.80            3.00           4.0            144.40             144.00         1            1\n"
     ]
    }
   ],
   "source": [
    "print(swmm_model.conduits_data.conduits)\n",
    "target = [\"diameter_increase\", \"valid\", \"valid\", \"tank\",  \"valid\", \"valid\", \"valid\", \"valid\", \"valid\", \"valid\", \"valid\", \"valid\", \"valid\", \"valid\", \"valid\", \"valid\", \"valid\", \"valid\", \"valid\", \"valid\", \"valid\",]"
   ]
  },
  {
   "cell_type": "markdown",
   "metadata": {},
   "source": [
    "### 3.4. Merge target to conduits dataframe"
   ]
  },
  {
   "cell_type": "code",
   "execution_count": 9,
   "metadata": {},
   "outputs": [],
   "source": [
    "swmm_model.conduits_data.conduits[\"target\"] = [\"diameter_increase\", \"valid\", \"valid\", \"tank\",  \"valid\", \"valid\", \"valid\", \"valid\", \"valid\", \"valid\", \"valid\", \"valid\", \"valid\", \"valid\", \"valid\", \"valid\", \"valid\", \"valid\", \"valid\", \"valid\", \"valid\",]"
   ]
  },
  {
   "cell_type": "markdown",
   "metadata": {},
   "source": [
    "### 3.5. Reset index"
   ]
  },
  {
   "cell_type": "code",
   "execution_count": 10,
   "metadata": {},
   "outputs": [],
   "source": [
    "swmm_model.conduits_data.conduits.reset_index(drop=True, inplace=True)"
   ]
  },
  {
   "cell_type": "code",
   "execution_count": 27,
   "metadata": {},
   "outputs": [
    {
     "name": "stdout",
     "output_type": "stream",
     "text": [
      "    Length  Roughness  MaxFlow  Geom1   MaxQ  MaxV  MaxQPerc  MaxDPerc  InletNodeInvert  OutletNodeInvert  UpstreamInvert  DownstreamInvert  SlopeFtPerFt  Filling  ValMaxFill  ValMaxV  ValMinV  ValMaxSlope  ValMinSlope  InletMaxDepth  OutletMaxDepth  SlopePerMile  InletGroundCover  OutletGroundCover  ValDepth  ValCoverage             target\n",
      "0       50      0.010        0    0.9  1.058  1.81      1.06      1.00           146.61            146.52          146.61            146.52        0.0018     0.90           0        1        1            1            1           2.71            2.40           1.8            143.90             144.12         1            1  diameter_increase\n",
      "1       50      0.015        0    1.0  1.479  2.39      0.89      0.74           146.52            146.20          146.52            146.20        0.0064     0.74           1        1        1            1            1           2.40            2.08           6.4            144.12             144.12         1            1              valid\n",
      "2       50      0.010        0    1.0  1.980  2.86      1.03      1.00           146.80            146.61          146.80            146.61        0.0038     1.00           0        1        1            1            1           2.50            2.71           3.8            144.30             143.90         1            1              valid\n",
      "3       50      0.010        0    1.0  2.117  2.88      1.07      1.00           147.00            146.80          147.00            146.80        0.0040     1.00           0        1        1            1            1           2.30            2.50           4.0            144.70             144.30         1            1               tank\n",
      "4       50      0.010        0    1.0  0.483  2.00      0.26      0.35           146.70            146.52          146.70            146.52        0.0036     0.35           1        1        1            1            1           2.50            2.40           3.6            144.20             144.12         1            1              valid\n",
      "5       50      0.010        0    1.0  0.167  1.54      0.08      0.20           147.40            147.20          147.40            147.20        0.0040     0.20           1        1        1            1            1           1.90            2.10           4.0            145.50             145.10         1            1              valid\n",
      "6       50      0.010        0    1.0  0.319  1.85      0.16      0.27           146.90            146.70          146.90            146.70        0.0040     0.27           1        1        1            1            1           2.30            2.50           4.0            144.60             144.20         1            1              valid\n",
      "7       50      0.010        0    1.0  0.323  1.86      0.16      0.28           147.10            146.90          147.10            146.90        0.0040     0.28           1        1        1            1            1           2.10            2.30           4.0            145.00             144.60         1            1              valid\n",
      "8       50      0.010        0    1.0  0.166  1.77      0.07      0.18           147.00            146.70          147.00            146.70        0.0060     0.18           1        1        1            1            1           2.30            2.50           6.0            144.70             144.20         1            1              valid\n",
      "9       50      0.010        0    1.0  0.168  1.53      0.09      0.20           147.20            147.00          147.20            147.00        0.0040     0.20           1        1        1            1            1           2.10            2.30           4.0            145.10             144.70         1            1              valid\n",
      "10      50      0.010        0    1.0  0.400  1.96      0.20      0.31           148.00            147.80          148.00            147.80        0.0040     0.31           1        1        1            1            1           2.00            2.20           4.0            146.00             145.60         1            1              valid\n",
      "11      50      0.010        0    1.0  0.396  1.97      0.20      0.30           147.80            147.60          147.80            147.60        0.0040     0.30           1        1        1            1            1           2.20            2.40           4.0            145.60             145.20         1            1              valid\n",
      "12      50      0.010        0    1.0  0.392  1.96      0.20      0.30           147.60            147.40          147.60            147.40        0.0040     0.30           1        1        1            1            1           2.40            2.60           4.0            145.20             144.80         1            1              valid\n",
      "13      50      0.010        0    1.0  0.388  1.96      0.20      0.30           147.40            147.20          147.40            147.20        0.0040     0.30           1        1        1            1            1           2.60            2.80           4.0            144.80             144.40         1            1              valid\n",
      "14      50      0.010        0    1.0  0.385  1.95      0.20      0.30           147.20            147.00          147.20            147.00        0.0040     0.30           1        1        1            1            1           2.80            3.00           4.0            144.40             144.00         1            1              valid\n",
      "15      50      0.010        0    1.0  0.769  3.28      0.25      0.34           147.00            146.50          147.00            146.50        0.0100     0.34           1        1        1            1            1           3.00            2.50          10.0            144.00             144.00         1            1              valid\n",
      "16      50      0.010        0    1.0  0.400  1.96      0.20      0.31           148.00            147.80          148.00            147.80        0.0040     0.31           1        1        1            1            1           2.00            2.20           4.0            146.00             145.60         1            1              valid\n",
      "17      50      0.010        0    1.0  0.396  1.97      0.20      0.30           147.80            147.60          147.80            147.60        0.0040     0.30           1        1        1            1            1           2.20            2.40           4.0            145.60             145.20         1            1              valid\n",
      "18      50      0.010        0    1.0  0.392  1.96      0.20      0.30           147.60            147.40          147.60            147.40        0.0040     0.30           1        1        1            1            1           2.40            2.60           4.0            145.20             144.80         1            1              valid\n",
      "19      50      0.010        0    1.0  0.388  1.96      0.20      0.30           147.40            147.20          147.40            147.20        0.0040     0.30           1        1        1            1            1           2.60            2.80           4.0            144.80             144.40         1            1              valid\n",
      "20      50      0.010        0    1.0  0.385  1.95      0.20      0.30           147.20            147.00          147.20            147.00        0.0040     0.30           1        1        1            1            1           2.80            3.00           4.0            144.40             144.00         1            1              valid\n"
     ]
    }
   ],
   "source": [
    "print(swmm_model.conduits_data.conduits)"
   ]
  },
  {
   "cell_type": "code",
   "execution_count": null,
   "metadata": {},
   "outputs": [],
   "source": [
    "swmm_model.conduits_data.conduits.to_excel(\"recomendations_data.xlsx\")"
   ]
  },
  {
   "cell_type": "code",
   "execution_count": 12,
   "metadata": {},
   "outputs": [
    {
     "name": "stdout",
     "output_type": "stream",
     "text": [
      "<class 'pandas.core.frame.DataFrame'>\n",
      "RangeIndex: 21 entries, 0 to 20\n",
      "Data columns (total 27 columns):\n",
      " #   Column             Non-Null Count  Dtype  \n",
      "---  ------             --------------  -----  \n",
      " 0   Length             21 non-null     int64  \n",
      " 1   Roughness          21 non-null     float64\n",
      " 2   MaxFlow            21 non-null     int64  \n",
      " 3   Geom1              21 non-null     float64\n",
      " 4   MaxQ               21 non-null     float64\n",
      " 5   MaxV               21 non-null     float64\n",
      " 6   MaxQPerc           21 non-null     float64\n",
      " 7   MaxDPerc           21 non-null     float64\n",
      " 8   InletNodeInvert    21 non-null     float64\n",
      " 9   OutletNodeInvert   21 non-null     float64\n",
      " 10  UpstreamInvert     21 non-null     float64\n",
      " 11  DownstreamInvert   21 non-null     float64\n",
      " 12  SlopeFtPerFt       21 non-null     float64\n",
      " 13  Filling            21 non-null     float64\n",
      " 14  ValMaxFill         21 non-null     int32  \n",
      " 15  ValMaxV            21 non-null     int32  \n",
      " 16  ValMinV            21 non-null     int32  \n",
      " 17  ValMaxSlope        21 non-null     int32  \n",
      " 18  ValMinSlope        21 non-null     int32  \n",
      " 19  InletMaxDepth      21 non-null     float64\n",
      " 20  OutletMaxDepth     21 non-null     float64\n",
      " 21  SlopePerMile       21 non-null     float64\n",
      " 22  InletGroundCover   21 non-null     float64\n",
      " 23  OutletGroundCover  21 non-null     float64\n",
      " 24  ValDepth           21 non-null     int32  \n",
      " 25  ValCoverage        21 non-null     int32  \n",
      " 26  target             21 non-null     object \n",
      "dtypes: float64(17), int32(7), int64(2), object(1)\n",
      "memory usage: 4.0+ KB\n"
     ]
    }
   ],
   "source": [
    "swmm_model.conduits_data.conduits.info()"
   ]
  },
  {
   "cell_type": "markdown",
   "metadata": {},
   "source": [
    "## 4. Split data into features and target"
   ]
  },
  {
   "cell_type": "code",
   "execution_count": 13,
   "metadata": {},
   "outputs": [
    {
     "name": "stdout",
     "output_type": "stream",
     "text": [
      "(16, 26) (16, 2)\n",
      "(5, 26) (5, 2)\n"
     ]
    }
   ],
   "source": [
    "X = swmm_model.conduits_data.conduits.drop('target', axis=1)\n",
    "y = swmm_model.conduits_data.conduits['target']\n",
    "\n",
    "X = X.astype('float32')\n",
    "\n",
    "X_train, X_test, y_train, y_test = train_test_split(X, y, test_size=0.2, random_state=42)\n",
    "\n",
    "y_train = pd.get_dummies(y_train)\n",
    "y_test = pd.get_dummies(y_test)\n",
    "\n",
    "print(X_train.shape, y_train.shape)\n",
    "print(X_test.shape, y_test.shape)"
   ]
  },
  {
   "cell_type": "code",
   "execution_count": 14,
   "metadata": {},
   "outputs": [
    {
     "name": "stdout",
     "output_type": "stream",
     "text": [
      "0     diameter_increase\n",
      "1                 valid\n",
      "2                 valid\n",
      "3                  tank\n",
      "4                 valid\n",
      "5                 valid\n",
      "6                 valid\n",
      "7                 valid\n",
      "8                 valid\n",
      "9                 valid\n",
      "10                valid\n",
      "11                valid\n",
      "12                valid\n",
      "13                valid\n",
      "14                valid\n",
      "15                valid\n",
      "16                valid\n",
      "17                valid\n",
      "18                valid\n",
      "19                valid\n",
      "20                valid\n",
      "Name: target, dtype: object\n"
     ]
    }
   ],
   "source": [
    "print(y)"
   ]
  },
  {
   "cell_type": "code",
   "execution_count": 15,
   "metadata": {},
   "outputs": [
    {
     "name": "stdout",
     "output_type": "stream",
     "text": [
      "<class 'pandas.core.frame.DataFrame'>\n",
      "Int64Index: 16 entries, 5 to 6\n",
      "Data columns (total 26 columns):\n",
      " #   Column             Non-Null Count  Dtype  \n",
      "---  ------             --------------  -----  \n",
      " 0   Length             16 non-null     float32\n",
      " 1   Roughness          16 non-null     float32\n",
      " 2   MaxFlow            16 non-null     float32\n",
      " 3   Geom1              16 non-null     float32\n",
      " 4   MaxQ               16 non-null     float32\n",
      " 5   MaxV               16 non-null     float32\n",
      " 6   MaxQPerc           16 non-null     float32\n",
      " 7   MaxDPerc           16 non-null     float32\n",
      " 8   InletNodeInvert    16 non-null     float32\n",
      " 9   OutletNodeInvert   16 non-null     float32\n",
      " 10  UpstreamInvert     16 non-null     float32\n",
      " 11  DownstreamInvert   16 non-null     float32\n",
      " 12  SlopeFtPerFt       16 non-null     float32\n",
      " 13  Filling            16 non-null     float32\n",
      " 14  ValMaxFill         16 non-null     float32\n",
      " 15  ValMaxV            16 non-null     float32\n",
      " 16  ValMinV            16 non-null     float32\n",
      " 17  ValMaxSlope        16 non-null     float32\n",
      " 18  ValMinSlope        16 non-null     float32\n",
      " 19  InletMaxDepth      16 non-null     float32\n",
      " 20  OutletMaxDepth     16 non-null     float32\n",
      " 21  SlopePerMile       16 non-null     float32\n",
      " 22  InletGroundCover   16 non-null     float32\n",
      " 23  OutletGroundCover  16 non-null     float32\n",
      " 24  ValDepth           16 non-null     float32\n",
      " 25  ValCoverage        16 non-null     float32\n",
      "dtypes: float32(26)\n",
      "memory usage: 1.8 KB\n"
     ]
    }
   ],
   "source": [
    "X_train.info()"
   ]
  },
  {
   "cell_type": "markdown",
   "metadata": {},
   "source": [
    "## 5. Normalization"
   ]
  },
  {
   "cell_type": "code",
   "execution_count": 16,
   "metadata": {},
   "outputs": [],
   "source": [
    "normalizer = preprocessing.Normalization()\n",
    "normalizer.adapt(np.array(X_train))"
   ]
  },
  {
   "cell_type": "markdown",
   "metadata": {},
   "source": [
    "## 6. Build the model"
   ]
  },
  {
   "cell_type": "code",
   "execution_count": 17,
   "metadata": {},
   "outputs": [
    {
     "name": "stdout",
     "output_type": "stream",
     "text": [
      "Model: \"sequential\"\n",
      "_________________________________________________________________\n",
      " Layer (type)                Output Shape              Param #   \n",
      "=================================================================\n",
      " normalization (Normalizatio  (None, 26)               53        \n",
      " n)                                                              \n",
      "                                                                 \n",
      " dense (Dense)               (None, 26)                702       \n"
     ]
    },
    {
     "name": "stdout",
     "output_type": "stream",
     "text": [
      "                                                                 \n",
      " dropout (Dropout)           (None, 26)                0         \n",
      "                                                                 \n",
      " dense_1 (Dense)             (None, 18)                486       \n",
      "                                                                 \n",
      " dropout_1 (Dropout)         (None, 18)                0         \n",
      "                                                                 \n",
      " dense_2 (Dense)             (None, 2)                 38        \n",
      "                                                                 \n",
      "=================================================================\n",
      "Total params: 1,279\n",
      "Trainable params: 1,226\n",
      "Non-trainable params: 53\n",
      "_________________________________________________________________\n"
     ]
    }
   ],
   "source": [
    "model = Sequential()\n",
    "model.add(normalizer)\n",
    "model.add(Dense(units=X_train.shape[1], activation='relu', input_dim=X_train.shape[1]))\n",
    "model.add(Dropout(0.2))\n",
    "model.add(Dense(18, activation='relu'))\n",
    "model.add(Dropout(0.2))\n",
    "model.add(Dense(units=y_train.shape[1], activation='softmax'))\n",
    "model.summary()"
   ]
  },
  {
   "cell_type": "code",
   "execution_count": 18,
   "metadata": {},
   "outputs": [
    {
     "name": "stdout",
     "output_type": "stream",
     "text": [
      "Epoch 1/100\n",
      "1/1 [==============================] - 1s 970ms/step - loss: 0.9193 - accuracy: 0.2500 - val_loss: 25808.8926 - val_accuracy: 0.0000e+00\n",
      "Epoch 2/100\n",
      "1/1 [==============================] - 0s 33ms/step - loss: 0.8614 - accuracy: 0.3750 - val_loss: 26481.8125 - val_accuracy: 0.0000e+00\n",
      "Epoch 3/100\n",
      "1/1 [==============================] - 0s 37ms/step - loss: 0.8541 - accuracy: 0.4375 - val_loss: 27102.6973 - val_accuracy: 0.0000e+00\n",
      "Epoch 4/100\n",
      "1/1 [==============================] - 0s 43ms/step - loss: 0.8530 - accuracy: 0.4375 - val_loss: 27644.4160 - val_accuracy: 0.0000e+00\n",
      "Epoch 5/100\n",
      "1/1 [==============================] - 0s 41ms/step - loss: 0.8446 - accuracy: 0.3125 - val_loss: 28162.9180 - val_accuracy: 0.0000e+00\n",
      "Epoch 6/100\n",
      "1/1 [==============================] - 0s 40ms/step - loss: 0.8823 - accuracy: 0.3125 - val_loss: 28702.9004 - val_accuracy: 0.0000e+00\n",
      "Epoch 7/100\n",
      "1/1 [==============================] - 0s 45ms/step - loss: 0.8485 - accuracy: 0.3125 - val_loss: 29234.3242 - val_accuracy: 0.0000e+00\n",
      "Epoch 8/100\n",
      "1/1 [==============================] - 0s 43ms/step - loss: 0.6691 - accuracy: 0.5625 - val_loss: 29770.4375 - val_accuracy: 0.0000e+00\n",
      "Epoch 9/100\n",
      "1/1 [==============================] - 0s 45ms/step - loss: 0.7442 - accuracy: 0.6250 - val_loss: 30287.8691 - val_accuracy: 0.0000e+00\n",
      "Epoch 10/100\n",
      "1/1 [==============================] - 0s 40ms/step - loss: 0.7035 - accuracy: 0.6875 - val_loss: 30780.8711 - val_accuracy: 0.2000\n",
      "Epoch 11/100\n",
      "1/1 [==============================] - 0s 42ms/step - loss: 0.6040 - accuracy: 0.7500 - val_loss: 31302.8398 - val_accuracy: 0.2000\n"
     ]
    }
   ],
   "source": [
    "model.compile(\n",
    "    optimizer='adam',\n",
    "    loss='categorical_crossentropy',\n",
    "    metrics=['accuracy']\n",
    ")\n",
    "history = model.fit(\n",
    "    x=X_train,\n",
    "    y=y_train,\n",
    "    epochs=100,\n",
    "    validation_data=(X_test, y_test),\n",
    "    validation_split=0.2,\n",
    "    verbose=1,\n",
    "    batch_size=16,\n",
    "    callbacks=[EarlyStopping(monitor='val_loss', patience=10)]\n",
    ")"
   ]
  },
  {
   "cell_type": "markdown",
   "metadata": {},
   "source": [
    "## 7. Evaluate model"
   ]
  },
  {
   "cell_type": "code",
   "execution_count": 19,
   "metadata": {},
   "outputs": [
    {
     "name": "stdout",
     "output_type": "stream",
     "text": [
      "1/1 [==============================] - 0s 39ms/step - loss: 31302.8398 - accuracy: 0.2000\n",
      "Test set accuracy: 0.200\n"
     ]
    }
   ],
   "source": [
    "# Evaluate ANN model\n",
    "loss, accuracy = model.evaluate(X_test, y_test)\n",
    "print(f\"Test set accuracy: {accuracy:.3f}\")"
   ]
  },
  {
   "cell_type": "code",
   "execution_count": 20,
   "metadata": {},
   "outputs": [
    {
     "name": "stdout",
     "output_type": "stream",
     "text": [
      "1/1 [==============================] - 0s 94ms/step\n"
     ]
    }
   ],
   "source": [
    "# model.predict(X_test)\n",
    "y_pred = model.predict(X_test)"
   ]
  },
  {
   "cell_type": "code",
   "execution_count": 21,
   "metadata": {},
   "outputs": [
    {
     "data": {
      "text/html": [
       "<div>\n",
       "<style scoped>\n",
       "    .dataframe tbody tr th:only-of-type {\n",
       "        vertical-align: middle;\n",
       "    }\n",
       "\n",
       "    .dataframe tbody tr th {\n",
       "        vertical-align: top;\n",
       "    }\n",
       "\n",
       "    .dataframe thead th {\n",
       "        text-align: right;\n",
       "    }\n",
       "</style>\n",
       "<table border=\"1\" class=\"dataframe\">\n",
       "  <thead>\n",
       "    <tr style=\"text-align: right;\">\n",
       "      <th></th>\n",
       "      <th>loss</th>\n",
       "      <th>accuracy</th>\n",
       "      <th>val_loss</th>\n",
       "      <th>val_accuracy</th>\n",
       "      <th>epoch</th>\n",
       "    </tr>\n",
       "  </thead>\n",
       "  <tbody>\n",
       "    <tr>\n",
       "      <th>0</th>\n",
       "      <td>0.919254</td>\n",
       "      <td>0.2500</td>\n",
       "      <td>25808.892578</td>\n",
       "      <td>0.0</td>\n",
       "      <td>0</td>\n",
       "    </tr>\n",
       "    <tr>\n",
       "      <th>1</th>\n",
       "      <td>0.861443</td>\n",
       "      <td>0.3750</td>\n",
       "      <td>26481.812500</td>\n",
       "      <td>0.0</td>\n",
       "      <td>1</td>\n",
       "    </tr>\n",
       "    <tr>\n",
       "      <th>2</th>\n",
       "      <td>0.854111</td>\n",
       "      <td>0.4375</td>\n",
       "      <td>27102.697266</td>\n",
       "      <td>0.0</td>\n",
       "      <td>2</td>\n",
       "    </tr>\n",
       "    <tr>\n",
       "      <th>3</th>\n",
       "      <td>0.852973</td>\n",
       "      <td>0.4375</td>\n",
       "      <td>27644.416016</td>\n",
       "      <td>0.0</td>\n",
       "      <td>3</td>\n",
       "    </tr>\n",
       "    <tr>\n",
       "      <th>4</th>\n",
       "      <td>0.844610</td>\n",
       "      <td>0.3125</td>\n",
       "      <td>28162.917969</td>\n",
       "      <td>0.0</td>\n",
       "      <td>4</td>\n",
       "    </tr>\n",
       "    <tr>\n",
       "      <th>5</th>\n",
       "      <td>0.882293</td>\n",
       "      <td>0.3125</td>\n",
       "      <td>28702.900391</td>\n",
       "      <td>0.0</td>\n",
       "      <td>5</td>\n",
       "    </tr>\n",
       "    <tr>\n",
       "      <th>6</th>\n",
       "      <td>0.848543</td>\n",
       "      <td>0.3125</td>\n",
       "      <td>29234.324219</td>\n",
       "      <td>0.0</td>\n",
       "      <td>6</td>\n",
       "    </tr>\n",
       "    <tr>\n",
       "      <th>7</th>\n",
       "      <td>0.669144</td>\n",
       "      <td>0.5625</td>\n",
       "      <td>29770.437500</td>\n",
       "      <td>0.0</td>\n",
       "      <td>7</td>\n",
       "    </tr>\n",
       "    <tr>\n",
       "      <th>8</th>\n",
       "      <td>0.744184</td>\n",
       "      <td>0.6250</td>\n",
       "      <td>30287.869141</td>\n",
       "      <td>0.0</td>\n",
       "      <td>8</td>\n",
       "    </tr>\n",
       "    <tr>\n",
       "      <th>9</th>\n",
       "      <td>0.703550</td>\n",
       "      <td>0.6875</td>\n",
       "      <td>30780.871094</td>\n",
       "      <td>0.2</td>\n",
       "      <td>9</td>\n",
       "    </tr>\n",
       "    <tr>\n",
       "      <th>10</th>\n",
       "      <td>0.603988</td>\n",
       "      <td>0.7500</td>\n",
       "      <td>31302.839844</td>\n",
       "      <td>0.2</td>\n",
       "      <td>10</td>\n",
       "    </tr>\n",
       "  </tbody>\n",
       "</table>\n",
       "</div>"
      ],
      "text/plain": [
       "        loss  accuracy      val_loss  val_accuracy  epoch\n",
       "0   0.919254    0.2500  25808.892578           0.0      0\n",
       "1   0.861443    0.3750  26481.812500           0.0      1\n",
       "2   0.854111    0.4375  27102.697266           0.0      2\n",
       "3   0.852973    0.4375  27644.416016           0.0      3\n",
       "4   0.844610    0.3125  28162.917969           0.0      4\n",
       "5   0.882293    0.3125  28702.900391           0.0      5\n",
       "6   0.848543    0.3125  29234.324219           0.0      6\n",
       "7   0.669144    0.5625  29770.437500           0.0      7\n",
       "8   0.744184    0.6250  30287.869141           0.0      8\n",
       "9   0.703550    0.6875  30780.871094           0.2      9\n",
       "10  0.603988    0.7500  31302.839844           0.2     10"
      ]
     },
     "execution_count": 21,
     "metadata": {},
     "output_type": "execute_result"
    }
   ],
   "source": [
    "metrics = pd.DataFrame(history.history)\n",
    "metrics['epoch'] = history.epoch\n",
    "metrics"
   ]
  },
  {
   "cell_type": "code",
   "execution_count": 22,
   "metadata": {},
   "outputs": [
    {
     "data": {
      "application/vnd.plotly.v1+json": {
       "config": {
        "plotlyServerURL": "https://plot.ly"
       },
       "data": [
        {
         "name": "accuracy",
         "type": "scatter",
         "x": [
          0,
          1,
          2,
          3,
          4,
          5,
          6,
          7,
          8,
          9,
          10
         ],
         "xaxis": "x",
         "y": [
          0.25,
          0.375,
          0.4375,
          0.4375,
          0.3125,
          0.3125,
          0.3125,
          0.5625,
          0.625,
          0.6875,
          0.75
         ],
         "yaxis": "y"
        },
        {
         "name": "loss",
         "type": "scatter",
         "x": [
          0,
          1,
          2,
          3,
          4,
          5,
          6,
          7,
          8,
          9,
          10
         ],
         "xaxis": "x2",
         "y": [
          0.9192540645599365,
          0.8614427447319031,
          0.8541110157966614,
          0.852972686290741,
          0.8446100950241089,
          0.8822929859161377,
          0.8485425710678101,
          0.6691442728042603,
          0.7441837787628174,
          0.703549861907959,
          0.6039879322052002
         ],
         "yaxis": "y2"
        },
        {
         "name": "val_accuracy",
         "type": "scatter",
         "x": [
          0,
          1,
          2,
          3,
          4,
          5,
          6,
          7,
          8,
          9,
          10
         ],
         "xaxis": "x",
         "y": [
          0,
          0,
          0,
          0,
          0,
          0,
          0,
          0,
          0,
          0.20000000298023224,
          0.20000000298023224
         ],
         "yaxis": "y"
        },
        {
         "name": "val_loss",
         "type": "scatter",
         "x": [
          0,
          1,
          2,
          3,
          4,
          5,
          6,
          7,
          8,
          9,
          10
         ],
         "xaxis": "x2",
         "y": [
          25808.892578125,
          26481.8125,
          27102.697265625,
          27644.416015625,
          28162.91796875,
          28702.900390625,
          29234.32421875,
          29770.4375,
          30287.869140625,
          30780.87109375,
          31302.83984375
         ],
         "yaxis": "y2"
        }
       ],
       "layout": {
        "template": {
         "data": {
          "bar": [
           {
            "error_x": {
             "color": "#2a3f5f"
            },
            "error_y": {
             "color": "#2a3f5f"
            },
            "marker": {
             "line": {
              "color": "#E5ECF6",
              "width": 0.5
             },
             "pattern": {
              "fillmode": "overlay",
              "size": 10,
              "solidity": 0.2
             }
            },
            "type": "bar"
           }
          ],
          "barpolar": [
           {
            "marker": {
             "line": {
              "color": "#E5ECF6",
              "width": 0.5
             },
             "pattern": {
              "fillmode": "overlay",
              "size": 10,
              "solidity": 0.2
             }
            },
            "type": "barpolar"
           }
          ],
          "carpet": [
           {
            "aaxis": {
             "endlinecolor": "#2a3f5f",
             "gridcolor": "white",
             "linecolor": "white",
             "minorgridcolor": "white",
             "startlinecolor": "#2a3f5f"
            },
            "baxis": {
             "endlinecolor": "#2a3f5f",
             "gridcolor": "white",
             "linecolor": "white",
             "minorgridcolor": "white",
             "startlinecolor": "#2a3f5f"
            },
            "type": "carpet"
           }
          ],
          "choropleth": [
           {
            "colorbar": {
             "outlinewidth": 0,
             "ticks": ""
            },
            "type": "choropleth"
           }
          ],
          "contour": [
           {
            "colorbar": {
             "outlinewidth": 0,
             "ticks": ""
            },
            "colorscale": [
             [
              0,
              "#0d0887"
             ],
             [
              0.1111111111111111,
              "#46039f"
             ],
             [
              0.2222222222222222,
              "#7201a8"
             ],
             [
              0.3333333333333333,
              "#9c179e"
             ],
             [
              0.4444444444444444,
              "#bd3786"
             ],
             [
              0.5555555555555556,
              "#d8576b"
             ],
             [
              0.6666666666666666,
              "#ed7953"
             ],
             [
              0.7777777777777778,
              "#fb9f3a"
             ],
             [
              0.8888888888888888,
              "#fdca26"
             ],
             [
              1,
              "#f0f921"
             ]
            ],
            "type": "contour"
           }
          ],
          "contourcarpet": [
           {
            "colorbar": {
             "outlinewidth": 0,
             "ticks": ""
            },
            "type": "contourcarpet"
           }
          ],
          "heatmap": [
           {
            "colorbar": {
             "outlinewidth": 0,
             "ticks": ""
            },
            "colorscale": [
             [
              0,
              "#0d0887"
             ],
             [
              0.1111111111111111,
              "#46039f"
             ],
             [
              0.2222222222222222,
              "#7201a8"
             ],
             [
              0.3333333333333333,
              "#9c179e"
             ],
             [
              0.4444444444444444,
              "#bd3786"
             ],
             [
              0.5555555555555556,
              "#d8576b"
             ],
             [
              0.6666666666666666,
              "#ed7953"
             ],
             [
              0.7777777777777778,
              "#fb9f3a"
             ],
             [
              0.8888888888888888,
              "#fdca26"
             ],
             [
              1,
              "#f0f921"
             ]
            ],
            "type": "heatmap"
           }
          ],
          "heatmapgl": [
           {
            "colorbar": {
             "outlinewidth": 0,
             "ticks": ""
            },
            "colorscale": [
             [
              0,
              "#0d0887"
             ],
             [
              0.1111111111111111,
              "#46039f"
             ],
             [
              0.2222222222222222,
              "#7201a8"
             ],
             [
              0.3333333333333333,
              "#9c179e"
             ],
             [
              0.4444444444444444,
              "#bd3786"
             ],
             [
              0.5555555555555556,
              "#d8576b"
             ],
             [
              0.6666666666666666,
              "#ed7953"
             ],
             [
              0.7777777777777778,
              "#fb9f3a"
             ],
             [
              0.8888888888888888,
              "#fdca26"
             ],
             [
              1,
              "#f0f921"
             ]
            ],
            "type": "heatmapgl"
           }
          ],
          "histogram": [
           {
            "marker": {
             "pattern": {
              "fillmode": "overlay",
              "size": 10,
              "solidity": 0.2
             }
            },
            "type": "histogram"
           }
          ],
          "histogram2d": [
           {
            "colorbar": {
             "outlinewidth": 0,
             "ticks": ""
            },
            "colorscale": [
             [
              0,
              "#0d0887"
             ],
             [
              0.1111111111111111,
              "#46039f"
             ],
             [
              0.2222222222222222,
              "#7201a8"
             ],
             [
              0.3333333333333333,
              "#9c179e"
             ],
             [
              0.4444444444444444,
              "#bd3786"
             ],
             [
              0.5555555555555556,
              "#d8576b"
             ],
             [
              0.6666666666666666,
              "#ed7953"
             ],
             [
              0.7777777777777778,
              "#fb9f3a"
             ],
             [
              0.8888888888888888,
              "#fdca26"
             ],
             [
              1,
              "#f0f921"
             ]
            ],
            "type": "histogram2d"
           }
          ],
          "histogram2dcontour": [
           {
            "colorbar": {
             "outlinewidth": 0,
             "ticks": ""
            },
            "colorscale": [
             [
              0,
              "#0d0887"
             ],
             [
              0.1111111111111111,
              "#46039f"
             ],
             [
              0.2222222222222222,
              "#7201a8"
             ],
             [
              0.3333333333333333,
              "#9c179e"
             ],
             [
              0.4444444444444444,
              "#bd3786"
             ],
             [
              0.5555555555555556,
              "#d8576b"
             ],
             [
              0.6666666666666666,
              "#ed7953"
             ],
             [
              0.7777777777777778,
              "#fb9f3a"
             ],
             [
              0.8888888888888888,
              "#fdca26"
             ],
             [
              1,
              "#f0f921"
             ]
            ],
            "type": "histogram2dcontour"
           }
          ],
          "mesh3d": [
           {
            "colorbar": {
             "outlinewidth": 0,
             "ticks": ""
            },
            "type": "mesh3d"
           }
          ],
          "parcoords": [
           {
            "line": {
             "colorbar": {
              "outlinewidth": 0,
              "ticks": ""
             }
            },
            "type": "parcoords"
           }
          ],
          "pie": [
           {
            "automargin": true,
            "type": "pie"
           }
          ],
          "scatter": [
           {
            "fillpattern": {
             "fillmode": "overlay",
             "size": 10,
             "solidity": 0.2
            },
            "type": "scatter"
           }
          ],
          "scatter3d": [
           {
            "line": {
             "colorbar": {
              "outlinewidth": 0,
              "ticks": ""
             }
            },
            "marker": {
             "colorbar": {
              "outlinewidth": 0,
              "ticks": ""
             }
            },
            "type": "scatter3d"
           }
          ],
          "scattercarpet": [
           {
            "marker": {
             "colorbar": {
              "outlinewidth": 0,
              "ticks": ""
             }
            },
            "type": "scattercarpet"
           }
          ],
          "scattergeo": [
           {
            "marker": {
             "colorbar": {
              "outlinewidth": 0,
              "ticks": ""
             }
            },
            "type": "scattergeo"
           }
          ],
          "scattergl": [
           {
            "marker": {
             "colorbar": {
              "outlinewidth": 0,
              "ticks": ""
             }
            },
            "type": "scattergl"
           }
          ],
          "scattermapbox": [
           {
            "marker": {
             "colorbar": {
              "outlinewidth": 0,
              "ticks": ""
             }
            },
            "type": "scattermapbox"
           }
          ],
          "scatterpolar": [
           {
            "marker": {
             "colorbar": {
              "outlinewidth": 0,
              "ticks": ""
             }
            },
            "type": "scatterpolar"
           }
          ],
          "scatterpolargl": [
           {
            "marker": {
             "colorbar": {
              "outlinewidth": 0,
              "ticks": ""
             }
            },
            "type": "scatterpolargl"
           }
          ],
          "scatterternary": [
           {
            "marker": {
             "colorbar": {
              "outlinewidth": 0,
              "ticks": ""
             }
            },
            "type": "scatterternary"
           }
          ],
          "surface": [
           {
            "colorbar": {
             "outlinewidth": 0,
             "ticks": ""
            },
            "colorscale": [
             [
              0,
              "#0d0887"
             ],
             [
              0.1111111111111111,
              "#46039f"
             ],
             [
              0.2222222222222222,
              "#7201a8"
             ],
             [
              0.3333333333333333,
              "#9c179e"
             ],
             [
              0.4444444444444444,
              "#bd3786"
             ],
             [
              0.5555555555555556,
              "#d8576b"
             ],
             [
              0.6666666666666666,
              "#ed7953"
             ],
             [
              0.7777777777777778,
              "#fb9f3a"
             ],
             [
              0.8888888888888888,
              "#fdca26"
             ],
             [
              1,
              "#f0f921"
             ]
            ],
            "type": "surface"
           }
          ],
          "table": [
           {
            "cells": {
             "fill": {
              "color": "#EBF0F8"
             },
             "line": {
              "color": "white"
             }
            },
            "header": {
             "fill": {
              "color": "#C8D4E3"
             },
             "line": {
              "color": "white"
             }
            },
            "type": "table"
           }
          ]
         },
         "layout": {
          "annotationdefaults": {
           "arrowcolor": "#2a3f5f",
           "arrowhead": 0,
           "arrowwidth": 1
          },
          "autotypenumbers": "strict",
          "coloraxis": {
           "colorbar": {
            "outlinewidth": 0,
            "ticks": ""
           }
          },
          "colorscale": {
           "diverging": [
            [
             0,
             "#8e0152"
            ],
            [
             0.1,
             "#c51b7d"
            ],
            [
             0.2,
             "#de77ae"
            ],
            [
             0.3,
             "#f1b6da"
            ],
            [
             0.4,
             "#fde0ef"
            ],
            [
             0.5,
             "#f7f7f7"
            ],
            [
             0.6,
             "#e6f5d0"
            ],
            [
             0.7,
             "#b8e186"
            ],
            [
             0.8,
             "#7fbc41"
            ],
            [
             0.9,
             "#4d9221"
            ],
            [
             1,
             "#276419"
            ]
           ],
           "sequential": [
            [
             0,
             "#0d0887"
            ],
            [
             0.1111111111111111,
             "#46039f"
            ],
            [
             0.2222222222222222,
             "#7201a8"
            ],
            [
             0.3333333333333333,
             "#9c179e"
            ],
            [
             0.4444444444444444,
             "#bd3786"
            ],
            [
             0.5555555555555556,
             "#d8576b"
            ],
            [
             0.6666666666666666,
             "#ed7953"
            ],
            [
             0.7777777777777778,
             "#fb9f3a"
            ],
            [
             0.8888888888888888,
             "#fdca26"
            ],
            [
             1,
             "#f0f921"
            ]
           ],
           "sequentialminus": [
            [
             0,
             "#0d0887"
            ],
            [
             0.1111111111111111,
             "#46039f"
            ],
            [
             0.2222222222222222,
             "#7201a8"
            ],
            [
             0.3333333333333333,
             "#9c179e"
            ],
            [
             0.4444444444444444,
             "#bd3786"
            ],
            [
             0.5555555555555556,
             "#d8576b"
            ],
            [
             0.6666666666666666,
             "#ed7953"
            ],
            [
             0.7777777777777778,
             "#fb9f3a"
            ],
            [
             0.8888888888888888,
             "#fdca26"
            ],
            [
             1,
             "#f0f921"
            ]
           ]
          },
          "colorway": [
           "#636efa",
           "#EF553B",
           "#00cc96",
           "#ab63fa",
           "#FFA15A",
           "#19d3f3",
           "#FF6692",
           "#B6E880",
           "#FF97FF",
           "#FECB52"
          ],
          "font": {
           "color": "#2a3f5f"
          },
          "geo": {
           "bgcolor": "white",
           "lakecolor": "white",
           "landcolor": "#E5ECF6",
           "showlakes": true,
           "showland": true,
           "subunitcolor": "white"
          },
          "hoverlabel": {
           "align": "left"
          },
          "hovermode": "closest",
          "mapbox": {
           "style": "light"
          },
          "paper_bgcolor": "white",
          "plot_bgcolor": "#E5ECF6",
          "polar": {
           "angularaxis": {
            "gridcolor": "white",
            "linecolor": "white",
            "ticks": ""
           },
           "bgcolor": "#E5ECF6",
           "radialaxis": {
            "gridcolor": "white",
            "linecolor": "white",
            "ticks": ""
           }
          },
          "scene": {
           "xaxis": {
            "backgroundcolor": "#E5ECF6",
            "gridcolor": "white",
            "gridwidth": 2,
            "linecolor": "white",
            "showbackground": true,
            "ticks": "",
            "zerolinecolor": "white"
           },
           "yaxis": {
            "backgroundcolor": "#E5ECF6",
            "gridcolor": "white",
            "gridwidth": 2,
            "linecolor": "white",
            "showbackground": true,
            "ticks": "",
            "zerolinecolor": "white"
           },
           "zaxis": {
            "backgroundcolor": "#E5ECF6",
            "gridcolor": "white",
            "gridwidth": 2,
            "linecolor": "white",
            "showbackground": true,
            "ticks": "",
            "zerolinecolor": "white"
           }
          },
          "shapedefaults": {
           "line": {
            "color": "#2a3f5f"
           }
          },
          "ternary": {
           "aaxis": {
            "gridcolor": "white",
            "linecolor": "white",
            "ticks": ""
           },
           "baxis": {
            "gridcolor": "white",
            "linecolor": "white",
            "ticks": ""
           },
           "bgcolor": "#E5ECF6",
           "caxis": {
            "gridcolor": "white",
            "linecolor": "white",
            "ticks": ""
           }
          },
          "title": {
           "x": 0.05
          },
          "xaxis": {
           "automargin": true,
           "gridcolor": "white",
           "linecolor": "white",
           "ticks": "",
           "title": {
            "standoff": 15
           },
           "zerolinecolor": "white",
           "zerolinewidth": 2
          },
          "yaxis": {
           "automargin": true,
           "gridcolor": "white",
           "linecolor": "white",
           "ticks": "",
           "title": {
            "standoff": 15
           },
           "zerolinecolor": "white",
           "zerolinewidth": 2
          }
         }
        },
        "title": {
         "text": "Accuracy and Loss"
        },
        "width": 1000,
        "xaxis": {
         "anchor": "y",
         "domain": [
          0,
          0.45
         ],
         "title": {
          "text": "epochs"
         }
        },
        "xaxis2": {
         "anchor": "y2",
         "domain": [
          0.55,
          1
         ],
         "title": {
          "text": "epochs"
         }
        },
        "yaxis": {
         "anchor": "x",
         "domain": [
          0,
          1
         ],
         "title": {
          "text": "accuracy"
         }
        },
        "yaxis2": {
         "anchor": "x2",
         "domain": [
          0,
          1
         ],
         "title": {
          "text": "loss"
         }
        }
       }
      }
     },
     "metadata": {},
     "output_type": "display_data"
    }
   ],
   "source": [
    "import plotly.graph_objects as go\n",
    "from plotly.subplots import make_subplots\n",
    "\n",
    "fig = make_subplots(rows=1, cols=2)\n",
    "fig.add_trace(go.Scatter(x=metrics['epoch'], y=metrics['accuracy'], name='accuracy'), row=1, col=1)\n",
    "fig.add_trace(go.Scatter(x=metrics['epoch'], y=metrics['loss'], name='loss'), row=1, col=2)\n",
    "fig.add_trace(go.Scatter(x=metrics['epoch'], y=metrics['val_accuracy'], name='val_accuracy'), row=1, col=1)\n",
    "fig.add_trace(go.Scatter(x=metrics['epoch'], y=metrics['val_loss'], name='val_loss'), row=1, col=2)\n",
    "\n",
    "fig.update_xaxes(title_text='epochs')\n",
    "fig.update_yaxes(title_text='accuracy', row=1, col=1)\n",
    "fig.update_yaxes(title_text='loss', row=1, col=2)\n",
    "fig.update_layout(width=1000, title='Accuracy and Loss')\n",
    "fig.show()"
   ]
  },
  {
   "cell_type": "code",
   "execution_count": 23,
   "metadata": {},
   "outputs": [
    {
     "name": "stdout",
     "output_type": "stream",
     "text": [
      "0.20000000298023224\n"
     ]
    }
   ],
   "source": [
    "test_loss, test_acc = model.evaluate(X_test, y_test, verbose=0)\n",
    "print(test_acc)"
   ]
  },
  {
   "cell_type": "markdown",
   "metadata": {},
   "source": [
    "## 8. Predictions"
   ]
  },
  {
   "cell_type": "code",
   "execution_count": 24,
   "metadata": {},
   "outputs": [
    {
     "name": "stdout",
     "output_type": "stream",
     "text": [
      "1/1 [==============================] - 0s 31ms/step\n"
     ]
    },
    {
     "data": {
      "text/plain": [
       "array([[0.        , 1.        ],\n",
       "       [0.47139564, 0.5286044 ],\n",
       "       [0.7756893 , 0.2243107 ],\n",
       "       [1.        , 0.        ],\n",
       "       [0.6844126 , 0.31558734]], dtype=float32)"
      ]
     },
     "execution_count": 24,
     "metadata": {},
     "output_type": "execute_result"
    }
   ],
   "source": [
    "predictions = model.predict(X_test)\n",
    "predictions"
   ]
  },
  {
   "cell_type": "code",
   "execution_count": 25,
   "metadata": {},
   "outputs": [
    {
     "data": {
      "text/html": [
       "<div>\n",
       "<style scoped>\n",
       "    .dataframe tbody tr th:only-of-type {\n",
       "        vertical-align: middle;\n",
       "    }\n",
       "\n",
       "    .dataframe tbody tr th {\n",
       "        vertical-align: top;\n",
       "    }\n",
       "\n",
       "    .dataframe thead th {\n",
       "        text-align: right;\n",
       "    }\n",
       "</style>\n",
       "<table border=\"1\" class=\"dataframe\">\n",
       "  <thead>\n",
       "    <tr style=\"text-align: right;\">\n",
       "      <th></th>\n",
       "      <th>0</th>\n",
       "      <th>1</th>\n",
       "    </tr>\n",
       "  </thead>\n",
       "  <tbody>\n",
       "    <tr>\n",
       "      <th>0</th>\n",
       "      <td>0.000000</td>\n",
       "      <td>1.000000</td>\n",
       "    </tr>\n",
       "    <tr>\n",
       "      <th>1</th>\n",
       "      <td>0.471396</td>\n",
       "      <td>0.528604</td>\n",
       "    </tr>\n",
       "    <tr>\n",
       "      <th>2</th>\n",
       "      <td>0.775689</td>\n",
       "      <td>0.224311</td>\n",
       "    </tr>\n",
       "    <tr>\n",
       "      <th>3</th>\n",
       "      <td>1.000000</td>\n",
       "      <td>0.000000</td>\n",
       "    </tr>\n",
       "    <tr>\n",
       "      <th>4</th>\n",
       "      <td>0.684413</td>\n",
       "      <td>0.315587</td>\n",
       "    </tr>\n",
       "  </tbody>\n",
       "</table>\n",
       "</div>"
      ],
      "text/plain": [
       "          0         1\n",
       "0  0.000000  1.000000\n",
       "1  0.471396  0.528604\n",
       "2  0.775689  0.224311\n",
       "3  1.000000  0.000000\n",
       "4  0.684413  0.315587"
      ]
     },
     "execution_count": 25,
     "metadata": {},
     "output_type": "execute_result"
    }
   ],
   "source": [
    "predictions_df = pd.DataFrame(predictions)\n",
    "predictions_df"
   ]
  },
  {
   "cell_type": "code",
   "execution_count": 26,
   "metadata": {},
   "outputs": [
    {
     "data": {
      "text/plain": [
       "array([1, 1, 0, 0, 0], dtype=int64)"
      ]
     },
     "execution_count": 26,
     "metadata": {},
     "output_type": "execute_result"
    }
   ],
   "source": [
    "predictions_cls = predictions.argmax(axis=-1)\n",
    "predictions_cls"
   ]
  }
 ],
 "metadata": {
  "kernelspec": {
   "display_name": "venv",
   "language": "python",
   "name": "python3"
  },
  "language_info": {
   "codemirror_mode": {
    "name": "ipython",
    "version": 3
   },
   "file_extension": ".py",
   "mimetype": "text/x-python",
   "name": "python",
   "nbconvert_exporter": "python",
   "pygments_lexer": "ipython3",
   "version": "3.10.2"
  },
  "orig_nbformat": 4
 },
 "nbformat": 4,
 "nbformat_minor": 2
}
